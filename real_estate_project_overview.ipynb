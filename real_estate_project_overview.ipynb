{
  "nbformat": 4,
  "nbformat_minor": 0,
  "metadata": {
    "colab": {
      "name": "real-estate-project-overview.ipynb",
      "provenance": [],
      "authorship_tag": "ABX9TyMk1HTe/NcV6f71TORfoYfL",
      "include_colab_link": true
    },
    "kernelspec": {
      "name": "python3",
      "display_name": "Python 3"
    },
    "language_info": {
      "name": "python"
    }
  },
  "cells": [
    {
      "cell_type": "markdown",
      "metadata": {
        "id": "view-in-github",
        "colab_type": "text"
      },
      "source": [
        "<a href=\"https://colab.research.google.com/github/vanderbilt-ml/51-callahan-mlproj-realestate/blob/feature-engineer-pipeline-v1/real_estate_project_overview.ipynb\" target=\"_parent\"><img src=\"https://colab.research.google.com/assets/colab-badge.svg\" alt=\"Open In Colab\"/></a>"
      ]
    },
    {
      "cell_type": "markdown",
      "source": [
        "# Real Estate Prediction and Market Intelligence\n",
        "\n",
        "### Background\n",
        "Real estate has many opportunities in which to apply data science methods.  I want to develop a model that will allow for identification of pricing assymetries in the real estate market by being able to accurately price assets and there by identify opportunities when new properties are discovered. \n",
        "\n",
        "### Project Description\n",
        "My goal is to develop a model that can detect \"good prices\" in real estate markets of my choosing in order to identify deals.  Maybe I will buy one of these properties someday!\n",
        "\n",
        "### Performance Metric + Analyses\n",
        "1. *Pricing Accuracy* - can the model learn what a good price is and make a price prediction for a specific property?  This would involve predicting the price at which a property will sell based on a variety of features, and can be verified in training data by comparing the prediction with the actual sale price.  RMSE comes to mind as a possible measure of model accuracy. \n",
        "\n",
        "2. *Value Drivers* - which attributions associated with a property influence price and do those factors change based on geography?  Obvious things like square-foot (size) of property will matter, but there are likely other discoverable features here that provide a rich opportunity for feature engineering.  Normalizing for macro-economic trends may also be an option, since housing prices are defined inside a marketplace that is influenced by factors like: mortgage rates, inflation, GDP, etc... \n",
        "\n",
        "3. *Similar markets* - Which markets are complementary in the sense that they have similar attributes and properties represent a similar value to purchasers?  Identifying a similarity metric for markets would allow this analysis to encompass greater quantities of data.  Presumably, data from similar markets could be combined to make predictions while dissimilar ones should be excluded.  As an example, California beachfront property or NYC apartments are likely not comparable to a single family home in the midwest and we would not want to train data using Cali/NYC data if we want to predict home prices in rural Kansas."
      ],
      "metadata": {
        "id": "Gy2hDhZw99qO"
      }
    },
    {
      "cell_type": "code",
      "execution_count": 16,
      "metadata": {
        "id": "SDXTt5BT97My"
      },
      "outputs": [],
      "source": [
        "import pandas as pd\n",
        "import numpy as np\n",
        "import seaborn as sns\n",
        "import matplotlib.pyplot as plt\n",
        "\n",
        "from ast import literal_eval\n",
        "\n",
        "\n",
        "pd.set_option('display.max_columns', 100)\n",
        "pd.set_option('display.max_rows', 500)"
      ]
    },
    {
      "cell_type": "code",
      "source": [
        "eda = pd.read_csv('https://raw.githubusercontent.com/vanderbilt-ml/51-callahan-mlproj-realestate/main/northern_MI_market_total_2022-05-22.csv?token=GHSAT0AAAAAABULIU4GOX65CIEQ35PWYY7UYU4Y3SA',\n",
        "                  parse_dates=['last_update', 'sold_date'],\n",
        "                  infer_datetime_format=True)\n",
        "\n",
        "eda['address_new'] = eda['address_new'].apply(literal_eval)"
      ],
      "metadata": {
        "id": "ujX0o47699QN"
      },
      "execution_count": 5,
      "outputs": []
    },
    {
      "cell_type": "code",
      "source": [
        "eda.head(2)"
      ],
      "metadata": {
        "id": "SBcSzlLh46N8",
        "outputId": "c491861d-652d-4104-9241-60ce0aa9413e",
        "colab": {
          "base_uri": "https://localhost:8080/",
          "height": 350
        }
      },
      "execution_count": 6,
      "outputs": [
        {
          "output_type": "execute_result",
          "data": {
            "text/plain": [
              "   property_id      prop_type          last_update  \\\n",
              "0   3586054640         mobile  2022-03-11 00:00:00   \n",
              "1   4501321015  single_family  2022-03-11 00:00:00   \n",
              "\n",
              "                                     address  \\\n",
              "0   4439 Ironwood Dr N, Traverse City, 49685   \n",
              "1  4783 Cedar Knoll Dr, Traverse City, 49685   \n",
              "\n",
              "                                         address_new    prop_status  \\\n",
              "0  {'line': '4439 Ironwood Dr N', 'street_number'...  recently_sold   \n",
              "1  {'line': '4783 Cedar Knoll Dr', 'street_number...  recently_sold   \n",
              "\n",
              "   price_raw  sqft_raw  is_showcase  is_new_construction     price  beds  \\\n",
              "0      10000     732.0        False                False  $10,000    NaN   \n",
              "1      11000       NaN        False                False  $11,000    NaN   \n",
              "\n",
              "  baths       sqft    lot_size  \\\n",
              "0     2  732 sq ft  0.36 acres   \n",
              "1     0  sq ft N/A  0.80 acres   \n",
              "\n",
              "                                               photo short_price  baths_half  \\\n",
              "0  https://ap.rdcpix.com/840246068/2259e83a437325...        $10K         NaN   \n",
              "1         https://p.rdcpix.com/v01/lfcdd4543-m0s.jpg        $11K         NaN   \n",
              "\n",
              "   baths_full  photo_count  sold_date        lat        lon  has_leadform  \\\n",
              "0         2.0         14.0 2022-02-22  44.645801 -85.665230         False   \n",
              "1         NaN          5.0 2021-11-29  44.756552 -85.711395         False   \n",
              "\n",
              "   page_no  rank                                      list_tracking  \\\n",
              "0        1     1  type|property|data|prop_id|3586054640|page|ran...   \n",
              "1        1     2  type|property|data|prop_id|4501321015|page|ran...   \n",
              "\n",
              "   listing_id list_date  advertiser_id agent_name agent_photo office_name  \\\n",
              "0         NaN       NaN            NaN        NaN         NaN         NaN   \n",
              "1         NaN       NaN            NaN        NaN         NaN         NaN   \n",
              "\n",
              "   office_advertiser_id price_reduced products price_reduced_date is_cobroker  \\\n",
              "0                   NaN           NaN      NaN                NaN         NaN   \n",
              "1                   NaN           NaN      NaN                NaN         NaN   \n",
              "\n",
              "  is_foreclosure snapshot_date  \n",
              "0            NaN       5/22/22  \n",
              "1            NaN       5/22/22  "
            ],
            "text/html": [
              "\n",
              "  <div id=\"df-9a737118-e74c-458e-997a-368ed4b70738\">\n",
              "    <div class=\"colab-df-container\">\n",
              "      <div>\n",
              "<style scoped>\n",
              "    .dataframe tbody tr th:only-of-type {\n",
              "        vertical-align: middle;\n",
              "    }\n",
              "\n",
              "    .dataframe tbody tr th {\n",
              "        vertical-align: top;\n",
              "    }\n",
              "\n",
              "    .dataframe thead th {\n",
              "        text-align: right;\n",
              "    }\n",
              "</style>\n",
              "<table border=\"1\" class=\"dataframe\">\n",
              "  <thead>\n",
              "    <tr style=\"text-align: right;\">\n",
              "      <th></th>\n",
              "      <th>property_id</th>\n",
              "      <th>prop_type</th>\n",
              "      <th>last_update</th>\n",
              "      <th>address</th>\n",
              "      <th>address_new</th>\n",
              "      <th>prop_status</th>\n",
              "      <th>price_raw</th>\n",
              "      <th>sqft_raw</th>\n",
              "      <th>is_showcase</th>\n",
              "      <th>is_new_construction</th>\n",
              "      <th>price</th>\n",
              "      <th>beds</th>\n",
              "      <th>baths</th>\n",
              "      <th>sqft</th>\n",
              "      <th>lot_size</th>\n",
              "      <th>photo</th>\n",
              "      <th>short_price</th>\n",
              "      <th>baths_half</th>\n",
              "      <th>baths_full</th>\n",
              "      <th>photo_count</th>\n",
              "      <th>sold_date</th>\n",
              "      <th>lat</th>\n",
              "      <th>lon</th>\n",
              "      <th>has_leadform</th>\n",
              "      <th>page_no</th>\n",
              "      <th>rank</th>\n",
              "      <th>list_tracking</th>\n",
              "      <th>listing_id</th>\n",
              "      <th>list_date</th>\n",
              "      <th>advertiser_id</th>\n",
              "      <th>agent_name</th>\n",
              "      <th>agent_photo</th>\n",
              "      <th>office_name</th>\n",
              "      <th>office_advertiser_id</th>\n",
              "      <th>price_reduced</th>\n",
              "      <th>products</th>\n",
              "      <th>price_reduced_date</th>\n",
              "      <th>is_cobroker</th>\n",
              "      <th>is_foreclosure</th>\n",
              "      <th>snapshot_date</th>\n",
              "    </tr>\n",
              "  </thead>\n",
              "  <tbody>\n",
              "    <tr>\n",
              "      <th>0</th>\n",
              "      <td>3586054640</td>\n",
              "      <td>mobile</td>\n",
              "      <td>2022-03-11 00:00:00</td>\n",
              "      <td>4439 Ironwood Dr N, Traverse City, 49685</td>\n",
              "      <td>{'line': '4439 Ironwood Dr N', 'street_number'...</td>\n",
              "      <td>recently_sold</td>\n",
              "      <td>10000</td>\n",
              "      <td>732.0</td>\n",
              "      <td>False</td>\n",
              "      <td>False</td>\n",
              "      <td>$10,000</td>\n",
              "      <td>NaN</td>\n",
              "      <td>2</td>\n",
              "      <td>732 sq ft</td>\n",
              "      <td>0.36 acres</td>\n",
              "      <td>https://ap.rdcpix.com/840246068/2259e83a437325...</td>\n",
              "      <td>$10K</td>\n",
              "      <td>NaN</td>\n",
              "      <td>2.0</td>\n",
              "      <td>14.0</td>\n",
              "      <td>2022-02-22</td>\n",
              "      <td>44.645801</td>\n",
              "      <td>-85.665230</td>\n",
              "      <td>False</td>\n",
              "      <td>1</td>\n",
              "      <td>1</td>\n",
              "      <td>type|property|data|prop_id|3586054640|page|ran...</td>\n",
              "      <td>NaN</td>\n",
              "      <td>NaN</td>\n",
              "      <td>NaN</td>\n",
              "      <td>NaN</td>\n",
              "      <td>NaN</td>\n",
              "      <td>NaN</td>\n",
              "      <td>NaN</td>\n",
              "      <td>NaN</td>\n",
              "      <td>NaN</td>\n",
              "      <td>NaN</td>\n",
              "      <td>NaN</td>\n",
              "      <td>NaN</td>\n",
              "      <td>5/22/22</td>\n",
              "    </tr>\n",
              "    <tr>\n",
              "      <th>1</th>\n",
              "      <td>4501321015</td>\n",
              "      <td>single_family</td>\n",
              "      <td>2022-03-11 00:00:00</td>\n",
              "      <td>4783 Cedar Knoll Dr, Traverse City, 49685</td>\n",
              "      <td>{'line': '4783 Cedar Knoll Dr', 'street_number...</td>\n",
              "      <td>recently_sold</td>\n",
              "      <td>11000</td>\n",
              "      <td>NaN</td>\n",
              "      <td>False</td>\n",
              "      <td>False</td>\n",
              "      <td>$11,000</td>\n",
              "      <td>NaN</td>\n",
              "      <td>0</td>\n",
              "      <td>sq ft N/A</td>\n",
              "      <td>0.80 acres</td>\n",
              "      <td>https://p.rdcpix.com/v01/lfcdd4543-m0s.jpg</td>\n",
              "      <td>$11K</td>\n",
              "      <td>NaN</td>\n",
              "      <td>NaN</td>\n",
              "      <td>5.0</td>\n",
              "      <td>2021-11-29</td>\n",
              "      <td>44.756552</td>\n",
              "      <td>-85.711395</td>\n",
              "      <td>False</td>\n",
              "      <td>1</td>\n",
              "      <td>2</td>\n",
              "      <td>type|property|data|prop_id|4501321015|page|ran...</td>\n",
              "      <td>NaN</td>\n",
              "      <td>NaN</td>\n",
              "      <td>NaN</td>\n",
              "      <td>NaN</td>\n",
              "      <td>NaN</td>\n",
              "      <td>NaN</td>\n",
              "      <td>NaN</td>\n",
              "      <td>NaN</td>\n",
              "      <td>NaN</td>\n",
              "      <td>NaN</td>\n",
              "      <td>NaN</td>\n",
              "      <td>NaN</td>\n",
              "      <td>5/22/22</td>\n",
              "    </tr>\n",
              "  </tbody>\n",
              "</table>\n",
              "</div>\n",
              "      <button class=\"colab-df-convert\" onclick=\"convertToInteractive('df-9a737118-e74c-458e-997a-368ed4b70738')\"\n",
              "              title=\"Convert this dataframe to an interactive table.\"\n",
              "              style=\"display:none;\">\n",
              "        \n",
              "  <svg xmlns=\"http://www.w3.org/2000/svg\" height=\"24px\"viewBox=\"0 0 24 24\"\n",
              "       width=\"24px\">\n",
              "    <path d=\"M0 0h24v24H0V0z\" fill=\"none\"/>\n",
              "    <path d=\"M18.56 5.44l.94 2.06.94-2.06 2.06-.94-2.06-.94-.94-2.06-.94 2.06-2.06.94zm-11 1L8.5 8.5l.94-2.06 2.06-.94-2.06-.94L8.5 2.5l-.94 2.06-2.06.94zm10 10l.94 2.06.94-2.06 2.06-.94-2.06-.94-.94-2.06-.94 2.06-2.06.94z\"/><path d=\"M17.41 7.96l-1.37-1.37c-.4-.4-.92-.59-1.43-.59-.52 0-1.04.2-1.43.59L10.3 9.45l-7.72 7.72c-.78.78-.78 2.05 0 2.83L4 21.41c.39.39.9.59 1.41.59.51 0 1.02-.2 1.41-.59l7.78-7.78 2.81-2.81c.8-.78.8-2.07 0-2.86zM5.41 20L4 18.59l7.72-7.72 1.47 1.35L5.41 20z\"/>\n",
              "  </svg>\n",
              "      </button>\n",
              "      \n",
              "  <style>\n",
              "    .colab-df-container {\n",
              "      display:flex;\n",
              "      flex-wrap:wrap;\n",
              "      gap: 12px;\n",
              "    }\n",
              "\n",
              "    .colab-df-convert {\n",
              "      background-color: #E8F0FE;\n",
              "      border: none;\n",
              "      border-radius: 50%;\n",
              "      cursor: pointer;\n",
              "      display: none;\n",
              "      fill: #1967D2;\n",
              "      height: 32px;\n",
              "      padding: 0 0 0 0;\n",
              "      width: 32px;\n",
              "    }\n",
              "\n",
              "    .colab-df-convert:hover {\n",
              "      background-color: #E2EBFA;\n",
              "      box-shadow: 0px 1px 2px rgba(60, 64, 67, 0.3), 0px 1px 3px 1px rgba(60, 64, 67, 0.15);\n",
              "      fill: #174EA6;\n",
              "    }\n",
              "\n",
              "    [theme=dark] .colab-df-convert {\n",
              "      background-color: #3B4455;\n",
              "      fill: #D2E3FC;\n",
              "    }\n",
              "\n",
              "    [theme=dark] .colab-df-convert:hover {\n",
              "      background-color: #434B5C;\n",
              "      box-shadow: 0px 1px 3px 1px rgba(0, 0, 0, 0.15);\n",
              "      filter: drop-shadow(0px 1px 2px rgba(0, 0, 0, 0.3));\n",
              "      fill: #FFFFFF;\n",
              "    }\n",
              "  </style>\n",
              "\n",
              "      <script>\n",
              "        const buttonEl =\n",
              "          document.querySelector('#df-9a737118-e74c-458e-997a-368ed4b70738 button.colab-df-convert');\n",
              "        buttonEl.style.display =\n",
              "          google.colab.kernel.accessAllowed ? 'block' : 'none';\n",
              "\n",
              "        async function convertToInteractive(key) {\n",
              "          const element = document.querySelector('#df-9a737118-e74c-458e-997a-368ed4b70738');\n",
              "          const dataTable =\n",
              "            await google.colab.kernel.invokeFunction('convertToInteractive',\n",
              "                                                     [key], {});\n",
              "          if (!dataTable) return;\n",
              "\n",
              "          const docLinkHtml = 'Like what you see? Visit the ' +\n",
              "            '<a target=\"_blank\" href=https://colab.research.google.com/notebooks/data_table.ipynb>data table notebook</a>'\n",
              "            + ' to learn more about interactive tables.';\n",
              "          element.innerHTML = '';\n",
              "          dataTable['output_type'] = 'display_data';\n",
              "          await google.colab.output.renderOutput(dataTable, element);\n",
              "          const docLink = document.createElement('div');\n",
              "          docLink.innerHTML = docLinkHtml;\n",
              "          element.appendChild(docLink);\n",
              "        }\n",
              "      </script>\n",
              "    </div>\n",
              "  </div>\n",
              "  "
            ]
          },
          "metadata": {},
          "execution_count": 6
        }
      ]
    },
    {
      "cell_type": "markdown",
      "source": [
        "## Questions\n",
        "\n",
        "**Are the enough data points to perform a prediction in the geographical area of interest?**\n",
        "\n",
        "*Yes, we have enough data to begin, and can collect more as needed.*\n",
        "\n",
        "**What data cleaning tasks are necessary?**\n",
        "\n",
        "*Data conversions, replacing NANs and strings, and strategically dropping some categories/columns.  Dropping foward looking values is important to avoiding leakage.*\n",
        "\n",
        "**Is missing data a problem for any particular columns?**\n",
        "\n",
        "*Yes, key missing values for sqft and bathrooms pose a risk.  Will need to be cautious with filling those.*\n",
        "\n",
        "**Do any basic patterns emerge that increase/decrease trust in the dataset?**\n",
        "\n",
        "*None that cannot be handled with data cleaning.*\n"
      ],
      "metadata": {
        "id": "gcmoq70-5Lbb"
      }
    },
    {
      "cell_type": "code",
      "source": [
        "# Question 1  \n",
        "# 944 entries, 141 land (vacant lots) as well as other/commercial and farm can all be dropped.  These are non-residential properties and not the focus of this analysis. \n",
        "# 789 values in dataset.  Conclusion - small but workable, can expand information collection to neighboring areas if necessary.\n",
        "\n",
        "display(eda.shape[0])\n",
        "display(eda['prop_type'].value_counts())\n",
        "\n",
        "prop_data = eda[ eda['prop_type'].isin(['single_family', 'condo', 'multi_family', 'mobile']) ]\n",
        "\n",
        "display(prop_data.shape[0])\n",
        "display(prop_data['prop_type'].value_counts())"
      ],
      "metadata": {
        "id": "-aN-6vEi5MHp",
        "outputId": "64dba0ba-64e3-4e2f-d629-4021ca2d560d",
        "colab": {
          "base_uri": "https://localhost:8080/",
          "height": 295
        }
      },
      "execution_count": 7,
      "outputs": [
        {
          "output_type": "display_data",
          "data": {
            "text/plain": [
              "944"
            ]
          },
          "metadata": {}
        },
        {
          "output_type": "display_data",
          "data": {
            "text/plain": [
              "single_family    475\n",
              "condo            286\n",
              "land             141\n",
              "mobile            20\n",
              "other             10\n",
              "multi_family       8\n",
              "commercial         3\n",
              "farm               1\n",
              "Name: prop_type, dtype: int64"
            ]
          },
          "metadata": {}
        },
        {
          "output_type": "display_data",
          "data": {
            "text/plain": [
              "789"
            ]
          },
          "metadata": {}
        },
        {
          "output_type": "display_data",
          "data": {
            "text/plain": [
              "single_family    475\n",
              "condo            286\n",
              "mobile            20\n",
              "multi_family       8\n",
              "Name: prop_type, dtype: int64"
            ]
          },
          "metadata": {}
        }
      ]
    },
    {
      "cell_type": "code",
      "source": [
        "# Question 2\n",
        "\n",
        "prop_data.isnull().sum()"
      ],
      "metadata": {
        "id": "Be3MjnNZ5Z1s",
        "outputId": "847da4e6-7a6d-4adf-f8f8-87d1ac83fb4a",
        "colab": {
          "base_uri": "https://localhost:8080/"
        }
      },
      "execution_count": 8,
      "outputs": [
        {
          "output_type": "execute_result",
          "data": {
            "text/plain": [
              "property_id               0\n",
              "prop_type                 0\n",
              "last_update               0\n",
              "address                   0\n",
              "address_new               0\n",
              "prop_status               0\n",
              "price_raw                 0\n",
              "sqft_raw                120\n",
              "is_showcase               0\n",
              "is_new_construction       0\n",
              "price                     0\n",
              "beds                    190\n",
              "baths                     0\n",
              "sqft                      0\n",
              "lot_size                160\n",
              "photo                     0\n",
              "short_price               0\n",
              "baths_half              610\n",
              "baths_full              155\n",
              "photo_count             159\n",
              "sold_date                 0\n",
              "lat                      60\n",
              "lon                      60\n",
              "has_leadform              0\n",
              "page_no                   0\n",
              "rank                      0\n",
              "list_tracking             0\n",
              "listing_id              276\n",
              "list_date               276\n",
              "advertiser_id           308\n",
              "agent_name              287\n",
              "agent_photo             417\n",
              "office_name             276\n",
              "office_advertiser_id    339\n",
              "price_reduced           276\n",
              "products                276\n",
              "price_reduced_date      703\n",
              "is_cobroker             382\n",
              "is_foreclosure          787\n",
              "snapshot_date             0\n",
              "dtype: int64"
            ]
          },
          "metadata": {},
          "execution_count": 8
        }
      ]
    },
    {
      "cell_type": "markdown",
      "source": [
        "## Data Cleaning"
      ],
      "metadata": {
        "id": "4HWl5fK-gaTM"
      }
    },
    {
      "cell_type": "code",
      "source": [
        "prop_data['last_update'] = pd.to_datetime(prop_data['last_update'], utc=True).dt.date\n",
        "prop_data['list_date'] = pd.to_datetime(prop_data['list_date'], utc=True).dt.date\n",
        "prop_data['price_reduced_date'] = pd.to_datetime(prop_data['price_reduced_date'], utc=True).dt.date\n",
        "\n",
        "prop_data = prop_data[ prop_data['prop_type'].isin(['single_family', 'condo', 'multi_family']) ]\n",
        "\n",
        "prop_data = prop_data.dropna(subset=['sqft_raw'])\n",
        "\n",
        "prop_data = prop_data[ prop_data['sqft_raw'] > 0]"
      ],
      "metadata": {
        "id": "UpDFElXn5bFA",
        "outputId": "2d873b83-126d-4e34-fae3-42e5b78d6bc0",
        "colab": {
          "base_uri": "https://localhost:8080/"
        }
      },
      "execution_count": 9,
      "outputs": [
        {
          "output_type": "stream",
          "name": "stderr",
          "text": [
            "/usr/local/lib/python3.7/dist-packages/ipykernel_launcher.py:1: SettingWithCopyWarning: \n",
            "A value is trying to be set on a copy of a slice from a DataFrame.\n",
            "Try using .loc[row_indexer,col_indexer] = value instead\n",
            "\n",
            "See the caveats in the documentation: https://pandas.pydata.org/pandas-docs/stable/user_guide/indexing.html#returning-a-view-versus-a-copy\n",
            "  \"\"\"Entry point for launching an IPython kernel.\n",
            "/usr/local/lib/python3.7/dist-packages/ipykernel_launcher.py:2: SettingWithCopyWarning: \n",
            "A value is trying to be set on a copy of a slice from a DataFrame.\n",
            "Try using .loc[row_indexer,col_indexer] = value instead\n",
            "\n",
            "See the caveats in the documentation: https://pandas.pydata.org/pandas-docs/stable/user_guide/indexing.html#returning-a-view-versus-a-copy\n",
            "  \n",
            "/usr/local/lib/python3.7/dist-packages/ipykernel_launcher.py:3: SettingWithCopyWarning: \n",
            "A value is trying to be set on a copy of a slice from a DataFrame.\n",
            "Try using .loc[row_indexer,col_indexer] = value instead\n",
            "\n",
            "See the caveats in the documentation: https://pandas.pydata.org/pandas-docs/stable/user_guide/indexing.html#returning-a-view-versus-a-copy\n",
            "  This is separate from the ipykernel package so we can avoid doing imports until\n"
          ]
        }
      ]
    },
    {
      "cell_type": "code",
      "source": [
        "prop_data['prop_type'].value_counts()"
      ],
      "metadata": {
        "id": "G9czH6Jw8i7v",
        "outputId": "0ee140ec-c5bf-488d-ba1b-64cd87519d1e",
        "colab": {
          "base_uri": "https://localhost:8080/"
        }
      },
      "execution_count": 10,
      "outputs": [
        {
          "output_type": "execute_result",
          "data": {
            "text/plain": [
              "single_family    402\n",
              "condo            219\n",
              "multi_family       8\n",
              "Name: prop_type, dtype: int64"
            ]
          },
          "metadata": {},
          "execution_count": 10
        }
      ]
    },
    {
      "cell_type": "code",
      "source": [
        "sns.set_theme(rc={\n",
        "    'figure.autolayout':True,\n",
        "    'figure.subplot.wspace':0.02}\n",
        "    )\n",
        "\n",
        "fig, ax = plt.subplots(1,2)\n",
        "\n",
        "sns.histplot(\n",
        "    data=prop_data, \n",
        "    x=\"sqft_raw\", \n",
        "    hue='prop_type', \n",
        "    kde=False, \n",
        "    element='step', \n",
        "    fill=False,\n",
        "    ax=ax[0]\n",
        ")\n",
        "\n",
        "sns.histplot(\n",
        "    prop_data, \n",
        "    x=\"price_raw\", \n",
        "    y=\"prop_type\", \n",
        "    hue=\"prop_type\", \n",
        "    legend=False,\n",
        "    ax=ax[1]\n",
        ")\n",
        "\n",
        "fig.show()"
      ],
      "metadata": {
        "id": "IOxtDmAL8Ldm",
        "outputId": "717b2856-721c-4a00-c382-efe7a1f6cd01",
        "colab": {
          "base_uri": "https://localhost:8080/",
          "height": 489
        }
      },
      "execution_count": 19,
      "outputs": [
        {
          "output_type": "display_data",
          "data": {
            "text/plain": [
              "<Figure size 2160x576 with 2 Axes>"
            ],
            "image/png": "[encoded data removed]"
          },
          "metadata": {}
        }
      ]
    },
    {
      "cell_type": "markdown",
      "source": [
        "# Feature Engineering"
      ],
      "metadata": {
        "id": "JIDjk_TBaXzx"
      }
    },
    {
      "cell_type": "markdown",
      "source": [
        "## Feature 1 - Address Details"
      ],
      "metadata": {
        "id": "XAlw-dU0fnKg"
      }
    },
    {
      "cell_type": "code",
      "source": [
        "# Example JSON object\n",
        "{'line': '4439 Ironwood Dr N', \n",
        " 'street_number': '4439', \n",
        " 'street': 'Ironwood', \n",
        " 'street_suffix': 'Dr', \n",
        " 'unit': None, \n",
        " 'city': 'Traverse City', \n",
        " 'state': 'Michigan', \n",
        " 'state_code': 'MI', \n",
        " 'postal_code': '49685', \n",
        " 'lat': 44.645801, \n",
        " 'long': -85.66523, \n",
        " 'county': 'Grand Traverse'}"
      ],
      "metadata": {
        "id": "mlvy8icuRUS2"
      },
      "execution_count": null,
      "outputs": []
    },
    {
      "cell_type": "code",
      "source": [
        "unpacked_address = prop_data['address_new'].apply(pd.Series).drop(columns=['lat', 'long', 'street_number', 'street_suffix', 'unit'])\n",
        "\n",
        "display(unpacked_address)\n",
        "\n",
        "prop_data = pd.concat([prop_data, unpacked_address], \n",
        "              axis=1)\n"
      ],
      "metadata": {
        "id": "JGaHsXrLB0Z7",
        "outputId": "9c7b44a3-ce82-4c03-ef7f-1c76af02b1db",
        "colab": {
          "base_uri": "https://localhost:8080/",
          "height": 424
        }
      },
      "execution_count": 21,
      "outputs": [
        {
          "output_type": "display_data",
          "data": {
            "text/plain": [
              "                              line         street            city     state  \\\n",
              "3    2035 N US Highway 31 N # 4-40  US Highway 31   Traverse City  Michigan   \n",
              "5            3877 Falling Leaf Trl   Falling Leaf   Traverse City  Michigan   \n",
              "13   2035 N US Highway 31 N # 9-34  US Highway 31   Traverse City  Michigan   \n",
              "53              4519 Briarcliff Dr     Briarcliff   Traverse City  Michigan   \n",
              "83        2035U S 31 N Us Unit 501      S 31 N Us   Traverse City  Michigan   \n",
              "..                             ...            ...             ...       ...   \n",
              "926                  293 Lamkin Rd         Lamkin  Harbor Springs  Michigan   \n",
              "933                   356 E 3rd St            3rd  Harbor Springs  Michigan   \n",
              "938           575 E Bay St Bldg 12            Bay  Harbor Springs  Michigan   \n",
              "941           1515 Andover Club Dr   Andover Club  Harbor Springs  Michigan   \n",
              "942                   465 Glenn Dr          Glenn  Harbor Springs  Michigan   \n",
              "\n",
              "    state_code postal_code          county  \n",
              "3           MI       49686  Grand Traverse  \n",
              "5           MI       49686  Grand Traverse  \n",
              "13          MI       49686  Grand Traverse  \n",
              "53          MI       49684  Grand Traverse  \n",
              "83          MI       49686  Grand Traverse  \n",
              "..         ...         ...             ...  \n",
              "926         MI       49740           Emmet  \n",
              "933         MI       49740           Emmet  \n",
              "938         MI       49740           Emmet  \n",
              "941         MI       49740           Emmet  \n",
              "942         MI       49740           Emmet  \n",
              "\n",
              "[629 rows x 7 columns]"
            ],
            "text/html": [
              "\n",
              "  <div id=\"df-1df42368-ef0a-4c14-a68b-58950c9a9a23\">\n",
              "    <div class=\"colab-df-container\">\n",
              "      <div>\n",
              "<style scoped>\n",
              "    .dataframe tbody tr th:only-of-type {\n",
              "        vertical-align: middle;\n",
              "    }\n",
              "\n",
              "    .dataframe tbody tr th {\n",
              "        vertical-align: top;\n",
              "    }\n",
              "\n",
              "    .dataframe thead th {\n",
              "        text-align: right;\n",
              "    }\n",
              "</style>\n",
              "<table border=\"1\" class=\"dataframe\">\n",
              "  <thead>\n",
              "    <tr style=\"text-align: right;\">\n",
              "      <th></th>\n",
              "      <th>line</th>\n",
              "      <th>street</th>\n",
              "      <th>city</th>\n",
              "      <th>state</th>\n",
              "      <th>state_code</th>\n",
              "      <th>postal_code</th>\n",
              "      <th>county</th>\n",
              "    </tr>\n",
              "  </thead>\n",
              "  <tbody>\n",
              "    <tr>\n",
              "      <th>3</th>\n",
              "      <td>2035 N US Highway 31 N # 4-40</td>\n",
              "      <td>US Highway 31</td>\n",
              "      <td>Traverse City</td>\n",
              "      <td>Michigan</td>\n",
              "      <td>MI</td>\n",
              "      <td>49686</td>\n",
              "      <td>Grand Traverse</td>\n",
              "    </tr>\n",
              "    <tr>\n",
              "      <th>5</th>\n",
              "      <td>3877 Falling Leaf Trl</td>\n",
              "      <td>Falling Leaf</td>\n",
              "      <td>Traverse City</td>\n",
              "      <td>Michigan</td>\n",
              "      <td>MI</td>\n",
              "      <td>49686</td>\n",
              "      <td>Grand Traverse</td>\n",
              "    </tr>\n",
              "    <tr>\n",
              "      <th>13</th>\n",
              "      <td>2035 N US Highway 31 N # 9-34</td>\n",
              "      <td>US Highway 31</td>\n",
              "      <td>Traverse City</td>\n",
              "      <td>Michigan</td>\n",
              "      <td>MI</td>\n",
              "      <td>49686</td>\n",
              "      <td>Grand Traverse</td>\n",
              "    </tr>\n",
              "    <tr>\n",
              "      <th>53</th>\n",
              "      <td>4519 Briarcliff Dr</td>\n",
              "      <td>Briarcliff</td>\n",
              "      <td>Traverse City</td>\n",
              "      <td>Michigan</td>\n",
              "      <td>MI</td>\n",
              "      <td>49684</td>\n",
              "      <td>Grand Traverse</td>\n",
              "    </tr>\n",
              "    <tr>\n",
              "      <th>83</th>\n",
              "      <td>2035U S 31 N Us Unit 501</td>\n",
              "      <td>S 31 N Us</td>\n",
              "      <td>Traverse City</td>\n",
              "      <td>Michigan</td>\n",
              "      <td>MI</td>\n",
              "      <td>49686</td>\n",
              "      <td>Grand Traverse</td>\n",
              "    </tr>\n",
              "    <tr>\n",
              "      <th>...</th>\n",
              "      <td>...</td>\n",
              "      <td>...</td>\n",
              "      <td>...</td>\n",
              "      <td>...</td>\n",
              "      <td>...</td>\n",
              "      <td>...</td>\n",
              "      <td>...</td>\n",
              "    </tr>\n",
              "    <tr>\n",
              "      <th>926</th>\n",
              "      <td>293 Lamkin Rd</td>\n",
              "      <td>Lamkin</td>\n",
              "      <td>Harbor Springs</td>\n",
              "      <td>Michigan</td>\n",
              "      <td>MI</td>\n",
              "      <td>49740</td>\n",
              "      <td>Emmet</td>\n",
              "    </tr>\n",
              "    <tr>\n",
              "      <th>933</th>\n",
              "      <td>356 E 3rd St</td>\n",
              "      <td>3rd</td>\n",
              "      <td>Harbor Springs</td>\n",
              "      <td>Michigan</td>\n",
              "      <td>MI</td>\n",
              "      <td>49740</td>\n",
              "      <td>Emmet</td>\n",
              "    </tr>\n",
              "    <tr>\n",
              "      <th>938</th>\n",
              "      <td>575 E Bay St Bldg 12</td>\n",
              "      <td>Bay</td>\n",
              "      <td>Harbor Springs</td>\n",
              "      <td>Michigan</td>\n",
              "      <td>MI</td>\n",
              "      <td>49740</td>\n",
              "      <td>Emmet</td>\n",
              "    </tr>\n",
              "    <tr>\n",
              "      <th>941</th>\n",
              "      <td>1515 Andover Club Dr</td>\n",
              "      <td>Andover Club</td>\n",
              "      <td>Harbor Springs</td>\n",
              "      <td>Michigan</td>\n",
              "      <td>MI</td>\n",
              "      <td>49740</td>\n",
              "      <td>Emmet</td>\n",
              "    </tr>\n",
              "    <tr>\n",
              "      <th>942</th>\n",
              "      <td>465 Glenn Dr</td>\n",
              "      <td>Glenn</td>\n",
              "      <td>Harbor Springs</td>\n",
              "      <td>Michigan</td>\n",
              "      <td>MI</td>\n",
              "      <td>49740</td>\n",
              "      <td>Emmet</td>\n",
              "    </tr>\n",
              "  </tbody>\n",
              "</table>\n",
              "<p>629 rows × 7 columns</p>\n",
              "</div>\n",
              "      <button class=\"colab-df-convert\" onclick=\"convertToInteractive('df-1df42368-ef0a-4c14-a68b-58950c9a9a23')\"\n",
              "              title=\"Convert this dataframe to an interactive table.\"\n",
              "              style=\"display:none;\">\n",
              "        \n",
              "  <svg xmlns=\"http://www.w3.org/2000/svg\" height=\"24px\"viewBox=\"0 0 24 24\"\n",
              "       width=\"24px\">\n",
              "    <path d=\"M0 0h24v24H0V0z\" fill=\"none\"/>\n",
              "    <path d=\"M18.56 5.44l.94 2.06.94-2.06 2.06-.94-2.06-.94-.94-2.06-.94 2.06-2.06.94zm-11 1L8.5 8.5l.94-2.06 2.06-.94-2.06-.94L8.5 2.5l-.94 2.06-2.06.94zm10 10l.94 2.06.94-2.06 2.06-.94-2.06-.94-.94-2.06-.94 2.06-2.06.94z\"/><path d=\"M17.41 7.96l-1.37-1.37c-.4-.4-.92-.59-1.43-.59-.52 0-1.04.2-1.43.59L10.3 9.45l-7.72 7.72c-.78.78-.78 2.05 0 2.83L4 21.41c.39.39.9.59 1.41.59.51 0 1.02-.2 1.41-.59l7.78-7.78 2.81-2.81c.8-.78.8-2.07 0-2.86zM5.41 20L4 18.59l7.72-7.72 1.47 1.35L5.41 20z\"/>\n",
              "  </svg>\n",
              "      </button>\n",
              "      \n",
              "  <style>\n",
              "    .colab-df-container {\n",
              "      display:flex;\n",
              "      flex-wrap:wrap;\n",
              "      gap: 12px;\n",
              "    }\n",
              "\n",
              "    .colab-df-convert {\n",
              "      background-color: #E8F0FE;\n",
              "      border: none;\n",
              "      border-radius: 50%;\n",
              "      cursor: pointer;\n",
              "      display: none;\n",
              "      fill: #1967D2;\n",
              "      height: 32px;\n",
              "      padding: 0 0 0 0;\n",
              "      width: 32px;\n",
              "    }\n",
              "\n",
              "    .colab-df-convert:hover {\n",
              "      background-color: #E2EBFA;\n",
              "      box-shadow: 0px 1px 2px rgba(60, 64, 67, 0.3), 0px 1px 3px 1px rgba(60, 64, 67, 0.15);\n",
              "      fill: #174EA6;\n",
              "    }\n",
              "\n",
              "    [theme=dark] .colab-df-convert {\n",
              "      background-color: #3B4455;\n",
              "      fill: #D2E3FC;\n",
              "    }\n",
              "\n",
              "    [theme=dark] .colab-df-convert:hover {\n",
              "      background-color: #434B5C;\n",
              "      box-shadow: 0px 1px 3px 1px rgba(0, 0, 0, 0.15);\n",
              "      filter: drop-shadow(0px 1px 2px rgba(0, 0, 0, 0.3));\n",
              "      fill: #FFFFFF;\n",
              "    }\n",
              "  </style>\n",
              "\n",
              "      <script>\n",
              "        const buttonEl =\n",
              "          document.querySelector('#df-1df42368-ef0a-4c14-a68b-58950c9a9a23 button.colab-df-convert');\n",
              "        buttonEl.style.display =\n",
              "          google.colab.kernel.accessAllowed ? 'block' : 'none';\n",
              "\n",
              "        async function convertToInteractive(key) {\n",
              "          const element = document.querySelector('#df-1df42368-ef0a-4c14-a68b-58950c9a9a23');\n",
              "          const dataTable =\n",
              "            await google.colab.kernel.invokeFunction('convertToInteractive',\n",
              "                                                     [key], {});\n",
              "          if (!dataTable) return;\n",
              "\n",
              "          const docLinkHtml = 'Like what you see? Visit the ' +\n",
              "            '<a target=\"_blank\" href=https://colab.research.google.com/notebooks/data_table.ipynb>data table notebook</a>'\n",
              "            + ' to learn more about interactive tables.';\n",
              "          element.innerHTML = '';\n",
              "          dataTable['output_type'] = 'display_data';\n",
              "          await google.colab.output.renderOutput(dataTable, element);\n",
              "          const docLink = document.createElement('div');\n",
              "          docLink.innerHTML = docLinkHtml;\n",
              "          element.appendChild(docLink);\n",
              "        }\n",
              "      </script>\n",
              "    </div>\n",
              "  </div>\n",
              "  "
            ]
          },
          "metadata": {}
        }
      ]
    },
    {
      "cell_type": "markdown",
      "source": [
        "## Feature 2 - Bathrooms "
      ],
      "metadata": {
        "id": "qtTUpDARRsMW"
      }
    },
    {
      "cell_type": "code",
      "source": [
        "prop_data['baths'] = prop_data['baths'].replace('Call', np.NaN)\n",
        "prop_data['bath'] = prop_data['baths_half'].fillna(0) / 2 + prop_data['baths_full'].fillna(0)\n",
        "\n",
        "# No bathrooms? No way.  Make these NAN and fill during pipelines later\n",
        "prop_data['bath'] = prop_data['bath'].replace(0, np.NaN)\n"
      ],
      "metadata": {
        "id": "Goxbk30JRrOe"
      },
      "execution_count": 22,
      "outputs": []
    },
    {
      "cell_type": "markdown",
      "source": [
        "## Feature 3 - Align binary values across variable types"
      ],
      "metadata": {
        "id": "QkX1EmEnR_CJ"
      }
    },
    {
      "cell_type": "code",
      "source": [
        "binary_cols = ['is_showcase', 'is_new_construction', 'has_leadform', 'is_cobroker', 'is_foreclosure', 'price_reduced']\n",
        "\n",
        "prop_data[binary_cols] = prop_data[binary_cols].fillna(False)\n",
        "\n",
        "for col in binary_cols:\n",
        "    print(col)\n",
        "    display(prop_data[col].value_counts(dropna=False))"
      ],
      "metadata": {
        "id": "u7EsI36sR_Ty",
        "outputId": "483b6cc9-2cdb-448f-f400-431c4b7e7f14",
        "colab": {
          "base_uri": "https://localhost:8080/",
          "height": 399
        }
      },
      "execution_count": 23,
      "outputs": [
        {
          "output_type": "stream",
          "name": "stdout",
          "text": [
            "is_showcase\n"
          ]
        },
        {
          "output_type": "display_data",
          "data": {
            "text/plain": [
              "False    629\n",
              "Name: is_showcase, dtype: int64"
            ]
          },
          "metadata": {}
        },
        {
          "output_type": "stream",
          "name": "stdout",
          "text": [
            "is_new_construction\n"
          ]
        },
        {
          "output_type": "display_data",
          "data": {
            "text/plain": [
              "False    570\n",
              "True      59\n",
              "Name: is_new_construction, dtype: int64"
            ]
          },
          "metadata": {}
        },
        {
          "output_type": "stream",
          "name": "stdout",
          "text": [
            "has_leadform\n"
          ]
        },
        {
          "output_type": "display_data",
          "data": {
            "text/plain": [
              "False    629\n",
              "Name: has_leadform, dtype: int64"
            ]
          },
          "metadata": {}
        },
        {
          "output_type": "stream",
          "name": "stdout",
          "text": [
            "is_cobroker\n"
          ]
        },
        {
          "output_type": "display_data",
          "data": {
            "text/plain": [
              "True     395\n",
              "False    234\n",
              "Name: is_cobroker, dtype: int64"
            ]
          },
          "metadata": {}
        },
        {
          "output_type": "stream",
          "name": "stdout",
          "text": [
            "is_foreclosure\n"
          ]
        },
        {
          "output_type": "display_data",
          "data": {
            "text/plain": [
              "False    627\n",
              "True       2\n",
              "Name: is_foreclosure, dtype: int64"
            ]
          },
          "metadata": {}
        },
        {
          "output_type": "stream",
          "name": "stdout",
          "text": [
            "price_reduced\n"
          ]
        },
        {
          "output_type": "display_data",
          "data": {
            "text/plain": [
              "False    546\n",
              "True      83\n",
              "Name: price_reduced, dtype: int64"
            ]
          },
          "metadata": {}
        }
      ]
    },
    {
      "cell_type": "markdown",
      "source": [
        "## Feature 4 - Unit Conversions\n"
      ],
      "metadata": {
        "id": "KSFSy6DtSJDH"
      }
    },
    {
      "cell_type": "code",
      "source": [
        "# Extract lot sizes, convert to same units\n",
        "\n",
        "def acres_to_sqft(row):\n",
        "    if 'acres' in str(row['lot_size']):\n",
        "        return float(str.strip(row['lot_size'].replace('acres', '').replace(',', ''))) * 43560\n",
        "    elif 'sq ft lot' in str(row['lot_size']):\n",
        "        return float(str.strip(row['lot_size'].replace('sq ft lot', '').replace(',', '')))\n",
        "    elif pd.isna(row['lot_size']):\n",
        "        return row['lot_size']   \n",
        "    else:\n",
        "        return -1   \n",
        "\n",
        "prop_data['lot_size_sqft'] = prop_data.apply(acres_to_sqft, axis=1)\n",
        "\n",
        "display(f\"Unclassified Values: {prop_data[ prop_data['lot_size_sqft'] == -1].shape[0]}\")"
      ],
      "metadata": {
        "id": "MIOfSNiEbtg8",
        "outputId": "fbccbb20-f92f-43df-ec94-75e7c5c178b7",
        "colab": {
          "base_uri": "https://localhost:8080/",
          "height": 35
        }
      },
      "execution_count": 25,
      "outputs": [
        {
          "output_type": "display_data",
          "data": {
            "text/plain": [
              "'Unclassified Values: 0'"
            ],
            "application/vnd.google.colaboratory.intrinsic+json": {
              "type": "string"
            }
          },
          "metadata": {}
        }
      ]
    },
    {
      "cell_type": "markdown",
      "source": [
        "## Feature 5 - Days on Market + Days at Reduced Price\n"
      ],
      "metadata": {
        "id": "-L2IUSKtSY5m"
      }
    },
    {
      "cell_type": "code",
      "source": [
        "prop_data['dom'] = (prop_data['sold_date'].dt.date - prop_data['list_date']).dt.days\n",
        "\n",
        "prop_data['drp'] = np.where(pd.isna(prop_data['price_reduced_date']),\n",
        "                                    np.NaN,\n",
        "                                    (prop_data['sold_date'].dt.date  - prop_data['price_reduced_date']).dt.days)\n"
      ],
      "metadata": {
        "id": "W-5CH0ACafhU"
      },
      "execution_count": 26,
      "outputs": []
    },
    {
      "cell_type": "code",
      "source": [
        "sns.set_theme(rc={\n",
        "    # 'figure.figsize':(18,8),\n",
        "    'figure.autolayout':True,\n",
        "    'figure.subplot.wspace':0.02}\n",
        "    )\n",
        "\n",
        "fig, ax = plt.subplots(1,2)\n",
        "\n",
        "sns.histplot(\n",
        "    data=prop_data, \n",
        "    x=\"dom\", \n",
        "    hue='prop_type', \n",
        "    kde=False, \n",
        "    element='step', \n",
        "    fill=False,\n",
        "    ax=ax[0]\n",
        ")\n",
        "\n",
        "sns.histplot(\n",
        "    data=prop_data, \n",
        "    x=\"drp\", \n",
        "    hue='prop_type', \n",
        "    kde=False, \n",
        "    element='step', \n",
        "    fill=False,\n",
        "    ax=ax[1]\n",
        ")\n",
        "\n",
        "fig.show()"
      ],
      "metadata": {
        "id": "9ep7zSQBRqgR",
        "outputId": "538611fb-771b-447f-86f1-90fe8cd7d7f4",
        "colab": {
          "base_uri": "https://localhost:8080/",
          "height": 489
        }
      },
      "execution_count": 28,
      "outputs": [
        {
          "output_type": "display_data",
          "data": {
            "text/plain": [
              "<Figure size 2160x576 with 2 Axes>"
            ],
            "image/png": "[encoded data removed]"
          },
          "metadata": {}
        }
      ]
    },
    {
      "cell_type": "code",
      "source": [
        "drop_columns = ['address', 'address_new', 'prop_status', 'price', 'sqft', 'photo', 'short_price', 'products',\n",
        "              'photo_count', 'page_no', 'rank', 'list_tracking', 'listing_id', 'property_id',\n",
        "              'advertiser_id', 'agent_photo', 'office_name', 'office_advertiser_id', 'snapshot_date', 'agent_name']\n",
        "\n",
        "\n",
        "clean_drop = ['lot_size', 'baths', 'baths_full', 'baths_half', 'price_reduced', 'price_reduced_date', 'list_date', 'lat', 'lon']\n"
      ],
      "metadata": {
        "id": "9YSqGEnsXWGc"
      },
      "execution_count": 36,
      "outputs": []
    },
    {
      "cell_type": "code",
      "source": [
        "clean_data = prop_data.drop(columns=drop_columns + clean_drop)"
      ],
      "metadata": {
        "id": "DSG79F2TXKUP"
      },
      "execution_count": 37,
      "outputs": []
    },
    {
      "cell_type": "code",
      "source": [
        "clean_data.info()"
      ],
      "metadata": {
        "id": "J3VNe_J3Xaju",
        "outputId": "1d4fd563-d8ef-4ad6-bbc2-c62eb449c2ed",
        "colab": {
          "base_uri": "https://localhost:8080/"
        }
      },
      "execution_count": 38,
      "outputs": [
        {
          "output_type": "stream",
          "name": "stdout",
          "text": [
            "<class 'pandas.core.frame.DataFrame'>\n",
            "Int64Index: 629 entries, 3 to 942\n",
            "Data columns (total 22 columns):\n",
            " #   Column               Non-Null Count  Dtype         \n",
            "---  ------               --------------  -----         \n",
            " 0   prop_type            629 non-null    object        \n",
            " 1   last_update          629 non-null    object        \n",
            " 2   price_raw            629 non-null    int64         \n",
            " 3   sqft_raw             629 non-null    float64       \n",
            " 4   is_showcase          629 non-null    bool          \n",
            " 5   is_new_construction  629 non-null    bool          \n",
            " 6   beds                 577 non-null    float64       \n",
            " 7   sold_date            629 non-null    datetime64[ns]\n",
            " 8   has_leadform         629 non-null    bool          \n",
            " 9   is_cobroker          629 non-null    bool          \n",
            " 10  is_foreclosure       629 non-null    bool          \n",
            " 11  line                 629 non-null    object        \n",
            " 12  street               628 non-null    object        \n",
            " 13  city                 629 non-null    object        \n",
            " 14  state                629 non-null    object        \n",
            " 15  state_code           629 non-null    object        \n",
            " 16  postal_code          629 non-null    object        \n",
            " 17  county               629 non-null    object        \n",
            " 18  bath                 607 non-null    float64       \n",
            " 19  lot_size_sqft        469 non-null    float64       \n",
            " 20  dom                  500 non-null    float64       \n",
            " 21  drp                  83 non-null     float64       \n",
            "dtypes: bool(5), datetime64[ns](1), float64(6), int64(1), object(9)\n",
            "memory usage: 107.7+ KB\n"
          ]
        }
      ]
    },
    {
      "cell_type": "markdown",
      "source": [
        "# Pipeline"
      ],
      "metadata": {
        "id": "md7VqWU6XDWs"
      }
    },
    {
      "cell_type": "code",
      "source": [
        ""
      ],
      "metadata": {
        "id": "XChnNml4XC3e"
      },
      "execution_count": null,
      "outputs": []
    },
    {
      "cell_type": "code",
      "source": [
        ""
      ],
      "metadata": {
        "id": "4ZvFRFGBXJwT"
      },
      "execution_count": null,
      "outputs": []
    }
  ]
}