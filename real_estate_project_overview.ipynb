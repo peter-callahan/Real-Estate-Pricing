{
  "nbformat": 4,
  "nbformat_minor": 0,
  "metadata": {
    "colab": {
      "name": "real-estate-project-overview.ipynb",
      "provenance": [],
      "authorship_tag": "ABX9TyPOpkvzDT3dEBnG7PNqY910",
      "include_colab_link": true
    },
    "kernelspec": {
      "name": "python3",
      "display_name": "Python 3"
    },
    "language_info": {
      "name": "python"
    }
  },
  "cells": [
    {
      "cell_type": "markdown",
      "metadata": {
        "id": "view-in-github",
        "colab_type": "text"
      },
      "source": [
        "<a href=\"https://colab.research.google.com/github/vanderbilt-ml/51-callahan-mlproj-realestate/blob/feature-EDA/real_estate_project_overview.ipynb\" target=\"_parent\"><img src=\"https://colab.research.google.com/assets/colab-badge.svg\" alt=\"Open In Colab\"/></a>"
      ]
    },
    {
      "cell_type": "markdown",
      "source": [
        "# Real Estate Prediction and Market Intelligence\n",
        "\n",
        "### Background\n",
        "Real estate has many opportunities in which to apply data science methods.  I want to develop a model that will allow for identification of pricing assymetries in the real estate market by being able to accurately price assets and there by identify opportunities when new properties are discovered. \n",
        "\n",
        "### Project Description\n",
        "My goal is to develop a model that can detect \"good prices\" in real estate markets of my choosing in order to identify deals.  Maybe I will buy one of these properties someday!\n",
        "\n",
        "### Performance Metric + Analyses\n",
        "1. *Pricing Accuracy* - can the model learn what a good price is and make a price prediction for a specific property?  This would involve predicting the price at which a property will sell based on a variety of features, and can be verified in training data by comparing the prediction with the actual sale price.  RMSE comes to mind as a possible measure of model accuracy. \n",
        "\n",
        "2. *Value Drivers* - which attributions associated with a property influence price and do those factors change based on geography?  Obvious things like square-foot (size) of property will matter, but there are likely other discoverable features here that provide a rich opportunity for feature engineering.  Normalizing for macro-economic trends may also be an option, since housing prices are defined inside a marketplace that is influenced by factors like: mortgage rates, inflation, GDP, etc... \n",
        "\n",
        "3. *Similar markets* - Which markets are complementary in the sense that they have similar attributes and properties represent a similar value to purchasers?  Identifying a similarity metric for markets would allow this analysis to encompass greater quantities of data.  Presumably, data from similar markets could be combined to make predictions while dissimilar ones should be excluded.  As an example, California beachfront property or NYC apartments are likely not comparable to a single family home in the midwest and we would not want to train data using Cali/NYC data if we want to predict home prices in rural Kansas."
      ],
      "metadata": {
        "id": "Gy2hDhZw99qO"
      }
    },
    {
      "cell_type": "code",
      "execution_count": 25,
      "metadata": {
        "id": "SDXTt5BT97My"
      },
      "outputs": [],
      "source": [
        "import pandas as pd\n",
        "import numpy as np\n",
        "\n",
        "\n",
        "pd.set_option('display.max_columns', 100)\n",
        "pd.set_option('display.max_rows', 100)"
      ]
    },
    {
      "cell_type": "code",
      "source": [
        "eda = pd.read_csv('https://raw.githubusercontent.com/vanderbilt-ml/51-callahan-mlproj-realestate/main/northern_MI_market_total_2022-05-22.csv?token=GHSAT0AAAAAABULIU4HXPL5F5Y4B7BO2XTKYUSGQAA')"
      ],
      "metadata": {
        "id": "ujX0o47699QN"
      },
      "execution_count": 3,
      "outputs": []
    },
    {
      "cell_type": "code",
      "source": [
        "eda.head(2)"
      ],
      "metadata": {
        "id": "SBcSzlLh46N8",
        "outputId": "3bba34ca-5d6c-4edd-d5a6-1c5bac2439a3",
        "colab": {
          "base_uri": "https://localhost:8080/",
          "height": 379
        }
      },
      "execution_count": 4,
      "outputs": [
        {
          "output_type": "execute_result",
          "data": {
            "text/plain": [
              "   property_id      prop_type last_update  \\\n",
              "0   3586054640         mobile     3/11/22   \n",
              "1   4501321015  single_family     3/11/22   \n",
              "\n",
              "                                     address  \\\n",
              "0   4439 Ironwood Dr N, Traverse City, 49685   \n",
              "1  4783 Cedar Knoll Dr, Traverse City, 49685   \n",
              "\n",
              "                                         address_new    prop_status  \\\n",
              "0  {'line': '4439 Ironwood Dr N', 'street_number'...  recently_sold   \n",
              "1  {'line': '4783 Cedar Knoll Dr', 'street_number...  recently_sold   \n",
              "\n",
              "   price_raw  sqft_raw  is_showcase  is_new_construction  ... agent_name  \\\n",
              "0      10000     732.0        False                False  ...        NaN   \n",
              "1      11000       NaN        False                False  ...        NaN   \n",
              "\n",
              "   agent_photo office_name office_advertiser_id price_reduced products  \\\n",
              "0          NaN         NaN                  NaN           NaN      NaN   \n",
              "1          NaN         NaN                  NaN           NaN      NaN   \n",
              "\n",
              "  price_reduced_date  is_cobroker  is_foreclosure  snapshot_date  \n",
              "0                NaN          NaN             NaN        5/22/22  \n",
              "1                NaN          NaN             NaN        5/22/22  \n",
              "\n",
              "[2 rows x 40 columns]"
            ],
            "text/html": [
              "\n",
              "  <div id=\"df-8870a9db-edb7-4f70-84d7-d21c01f4a70c\">\n",
              "    <div class=\"colab-df-container\">\n",
              "      <div>\n",
              "<style scoped>\n",
              "    .dataframe tbody tr th:only-of-type {\n",
              "        vertical-align: middle;\n",
              "    }\n",
              "\n",
              "    .dataframe tbody tr th {\n",
              "        vertical-align: top;\n",
              "    }\n",
              "\n",
              "    .dataframe thead th {\n",
              "        text-align: right;\n",
              "    }\n",
              "</style>\n",
              "<table border=\"1\" class=\"dataframe\">\n",
              "  <thead>\n",
              "    <tr style=\"text-align: right;\">\n",
              "      <th></th>\n",
              "      <th>property_id</th>\n",
              "      <th>prop_type</th>\n",
              "      <th>last_update</th>\n",
              "      <th>address</th>\n",
              "      <th>address_new</th>\n",
              "      <th>prop_status</th>\n",
              "      <th>price_raw</th>\n",
              "      <th>sqft_raw</th>\n",
              "      <th>is_showcase</th>\n",
              "      <th>is_new_construction</th>\n",
              "      <th>...</th>\n",
              "      <th>agent_name</th>\n",
              "      <th>agent_photo</th>\n",
              "      <th>office_name</th>\n",
              "      <th>office_advertiser_id</th>\n",
              "      <th>price_reduced</th>\n",
              "      <th>products</th>\n",
              "      <th>price_reduced_date</th>\n",
              "      <th>is_cobroker</th>\n",
              "      <th>is_foreclosure</th>\n",
              "      <th>snapshot_date</th>\n",
              "    </tr>\n",
              "  </thead>\n",
              "  <tbody>\n",
              "    <tr>\n",
              "      <th>0</th>\n",
              "      <td>3586054640</td>\n",
              "      <td>mobile</td>\n",
              "      <td>3/11/22</td>\n",
              "      <td>4439 Ironwood Dr N, Traverse City, 49685</td>\n",
              "      <td>{'line': '4439 Ironwood Dr N', 'street_number'...</td>\n",
              "      <td>recently_sold</td>\n",
              "      <td>10000</td>\n",
              "      <td>732.0</td>\n",
              "      <td>False</td>\n",
              "      <td>False</td>\n",
              "      <td>...</td>\n",
              "      <td>NaN</td>\n",
              "      <td>NaN</td>\n",
              "      <td>NaN</td>\n",
              "      <td>NaN</td>\n",
              "      <td>NaN</td>\n",
              "      <td>NaN</td>\n",
              "      <td>NaN</td>\n",
              "      <td>NaN</td>\n",
              "      <td>NaN</td>\n",
              "      <td>5/22/22</td>\n",
              "    </tr>\n",
              "    <tr>\n",
              "      <th>1</th>\n",
              "      <td>4501321015</td>\n",
              "      <td>single_family</td>\n",
              "      <td>3/11/22</td>\n",
              "      <td>4783 Cedar Knoll Dr, Traverse City, 49685</td>\n",
              "      <td>{'line': '4783 Cedar Knoll Dr', 'street_number...</td>\n",
              "      <td>recently_sold</td>\n",
              "      <td>11000</td>\n",
              "      <td>NaN</td>\n",
              "      <td>False</td>\n",
              "      <td>False</td>\n",
              "      <td>...</td>\n",
              "      <td>NaN</td>\n",
              "      <td>NaN</td>\n",
              "      <td>NaN</td>\n",
              "      <td>NaN</td>\n",
              "      <td>NaN</td>\n",
              "      <td>NaN</td>\n",
              "      <td>NaN</td>\n",
              "      <td>NaN</td>\n",
              "      <td>NaN</td>\n",
              "      <td>5/22/22</td>\n",
              "    </tr>\n",
              "  </tbody>\n",
              "</table>\n",
              "<p>2 rows × 40 columns</p>\n",
              "</div>\n",
              "      <button class=\"colab-df-convert\" onclick=\"convertToInteractive('df-8870a9db-edb7-4f70-84d7-d21c01f4a70c')\"\n",
              "              title=\"Convert this dataframe to an interactive table.\"\n",
              "              style=\"display:none;\">\n",
              "        \n",
              "  <svg xmlns=\"http://www.w3.org/2000/svg\" height=\"24px\"viewBox=\"0 0 24 24\"\n",
              "       width=\"24px\">\n",
              "    <path d=\"M0 0h24v24H0V0z\" fill=\"none\"/>\n",
              "    <path d=\"M18.56 5.44l.94 2.06.94-2.06 2.06-.94-2.06-.94-.94-2.06-.94 2.06-2.06.94zm-11 1L8.5 8.5l.94-2.06 2.06-.94-2.06-.94L8.5 2.5l-.94 2.06-2.06.94zm10 10l.94 2.06.94-2.06 2.06-.94-2.06-.94-.94-2.06-.94 2.06-2.06.94z\"/><path d=\"M17.41 7.96l-1.37-1.37c-.4-.4-.92-.59-1.43-.59-.52 0-1.04.2-1.43.59L10.3 9.45l-7.72 7.72c-.78.78-.78 2.05 0 2.83L4 21.41c.39.39.9.59 1.41.59.51 0 1.02-.2 1.41-.59l7.78-7.78 2.81-2.81c.8-.78.8-2.07 0-2.86zM5.41 20L4 18.59l7.72-7.72 1.47 1.35L5.41 20z\"/>\n",
              "  </svg>\n",
              "      </button>\n",
              "      \n",
              "  <style>\n",
              "    .colab-df-container {\n",
              "      display:flex;\n",
              "      flex-wrap:wrap;\n",
              "      gap: 12px;\n",
              "    }\n",
              "\n",
              "    .colab-df-convert {\n",
              "      background-color: #E8F0FE;\n",
              "      border: none;\n",
              "      border-radius: 50%;\n",
              "      cursor: pointer;\n",
              "      display: none;\n",
              "      fill: #1967D2;\n",
              "      height: 32px;\n",
              "      padding: 0 0 0 0;\n",
              "      width: 32px;\n",
              "    }\n",
              "\n",
              "    .colab-df-convert:hover {\n",
              "      background-color: #E2EBFA;\n",
              "      box-shadow: 0px 1px 2px rgba(60, 64, 67, 0.3), 0px 1px 3px 1px rgba(60, 64, 67, 0.15);\n",
              "      fill: #174EA6;\n",
              "    }\n",
              "\n",
              "    [theme=dark] .colab-df-convert {\n",
              "      background-color: #3B4455;\n",
              "      fill: #D2E3FC;\n",
              "    }\n",
              "\n",
              "    [theme=dark] .colab-df-convert:hover {\n",
              "      background-color: #434B5C;\n",
              "      box-shadow: 0px 1px 3px 1px rgba(0, 0, 0, 0.15);\n",
              "      filter: drop-shadow(0px 1px 2px rgba(0, 0, 0, 0.3));\n",
              "      fill: #FFFFFF;\n",
              "    }\n",
              "  </style>\n",
              "\n",
              "      <script>\n",
              "        const buttonEl =\n",
              "          document.querySelector('#df-8870a9db-edb7-4f70-84d7-d21c01f4a70c button.colab-df-convert');\n",
              "        buttonEl.style.display =\n",
              "          google.colab.kernel.accessAllowed ? 'block' : 'none';\n",
              "\n",
              "        async function convertToInteractive(key) {\n",
              "          const element = document.querySelector('#df-8870a9db-edb7-4f70-84d7-d21c01f4a70c');\n",
              "          const dataTable =\n",
              "            await google.colab.kernel.invokeFunction('convertToInteractive',\n",
              "                                                     [key], {});\n",
              "          if (!dataTable) return;\n",
              "\n",
              "          const docLinkHtml = 'Like what you see? Visit the ' +\n",
              "            '<a target=\"_blank\" href=https://colab.research.google.com/notebooks/data_table.ipynb>data table notebook</a>'\n",
              "            + ' to learn more about interactive tables.';\n",
              "          element.innerHTML = '';\n",
              "          dataTable['output_type'] = 'display_data';\n",
              "          await google.colab.output.renderOutput(dataTable, element);\n",
              "          const docLink = document.createElement('div');\n",
              "          docLink.innerHTML = docLinkHtml;\n",
              "          element.appendChild(docLink);\n",
              "        }\n",
              "      </script>\n",
              "    </div>\n",
              "  </div>\n",
              "  "
            ]
          },
          "metadata": {},
          "execution_count": 4
        }
      ]
    },
    {
      "cell_type": "markdown",
      "source": [
        "Questions: \n",
        "\n",
        "**Are the enough data points to perform a prediction in the geographical area of interest?**\n",
        "\n",
        "*Yes, we have enough data to begin, and can collect more as needed.*\n",
        "\n",
        "**What data cleaning tasks are necessary?**\n",
        "\n",
        "*Data conversions, replacing NANs and strings, and strategically dropping some categories/columns.  Dropping foward looking values is important to avoiding leakage.*\n",
        "\n",
        "**Is missing data a problem for any particular columns?**\n",
        "\n",
        "*Yes, key missing values for sqft and bathrooms pose a risk.  Will need to be cautious with filling those.*\n",
        "\n",
        "**Do any basic patterns emerge that increase/decrease trust in the dataset?**\n",
        "\n",
        "*None that cannot be handled with data cleaning.*\n"
      ],
      "metadata": {
        "id": "gcmoq70-5Lbb"
      }
    },
    {
      "cell_type": "code",
      "source": [
        "# Question 1  \n",
        "# 944 entries, 141 land (vacant lots) as well as other/commercial and farm can all be dropped.  These are non-residential properties and not the focus of this analysis. \n",
        "# 789 values in dataset.  Conclusion - small but workable, can expand information collection to neighboring areas if necessary.\n",
        "\n",
        "display(eda.shape[0])\n",
        "display(eda['prop_type'].value_counts())\n",
        "\n",
        "properties_only = eda[ eda['prop_type'].isin(['single_family', 'condo', 'multi_family', 'mobile']) ]\n",
        "\n",
        "display(properties_only.shape[0])\n",
        "display(properties_only['prop_type'].value_counts())"
      ],
      "metadata": {
        "id": "-aN-6vEi5MHp",
        "outputId": "3964ad09-d20e-4411-ab08-91b9c7bd2eba",
        "colab": {
          "base_uri": "https://localhost:8080/",
          "height": 295
        }
      },
      "execution_count": 90,
      "outputs": [
        {
          "output_type": "display_data",
          "data": {
            "text/plain": [
              "944"
            ]
          },
          "metadata": {}
        },
        {
          "output_type": "display_data",
          "data": {
            "text/plain": [
              "single_family    475\n",
              "condo            286\n",
              "land             141\n",
              "mobile            20\n",
              "other             10\n",
              "multi_family       8\n",
              "commercial         3\n",
              "farm               1\n",
              "Name: prop_type, dtype: int64"
            ]
          },
          "metadata": {}
        },
        {
          "output_type": "display_data",
          "data": {
            "text/plain": [
              "789"
            ]
          },
          "metadata": {}
        },
        {
          "output_type": "display_data",
          "data": {
            "text/plain": [
              "single_family    475\n",
              "condo            286\n",
              "mobile            20\n",
              "multi_family       8\n",
              "Name: prop_type, dtype: int64"
            ]
          },
          "metadata": {}
        }
      ]
    },
    {
      "cell_type": "code",
      "source": [
        "# Question 2\n",
        "\n",
        "properties_only.isnull().sum()"
      ],
      "metadata": {
        "id": "Be3MjnNZ5Z1s",
        "outputId": "7b9f5bbf-1c4d-4e3e-a06e-6f06b9c6f501",
        "colab": {
          "base_uri": "https://localhost:8080/"
        }
      },
      "execution_count": 91,
      "outputs": [
        {
          "output_type": "execute_result",
          "data": {
            "text/plain": [
              "property_id               0\n",
              "prop_type                 0\n",
              "last_update               0\n",
              "address                   0\n",
              "address_new               0\n",
              "prop_status               0\n",
              "price_raw                 0\n",
              "sqft_raw                120\n",
              "is_showcase               0\n",
              "is_new_construction       0\n",
              "price                     0\n",
              "beds                    190\n",
              "baths                     0\n",
              "sqft                      0\n",
              "lot_size                160\n",
              "photo                     0\n",
              "short_price               0\n",
              "baths_half              610\n",
              "baths_full              155\n",
              "photo_count             159\n",
              "sold_date                 0\n",
              "lat                      60\n",
              "lon                      60\n",
              "has_leadform              0\n",
              "page_no                   0\n",
              "rank                      0\n",
              "list_tracking             0\n",
              "listing_id              276\n",
              "list_date               276\n",
              "advertiser_id           308\n",
              "agent_name              287\n",
              "agent_photo             417\n",
              "office_name             276\n",
              "office_advertiser_id    339\n",
              "price_reduced           276\n",
              "products                276\n",
              "price_reduced_date      703\n",
              "is_cobroker             382\n",
              "is_foreclosure          787\n",
              "snapshot_date             0\n",
              "dtype: int64"
            ]
          },
          "metadata": {},
          "execution_count": 91
        }
      ]
    },
    {
      "cell_type": "code",
      "source": [
        "leakage_cols = ['price_reduced', 'price_reduced_date', 'property_id']\n",
        "\n",
        "website_cols = ['rank', 'list_tracking', 'page_no', 'photo']\n",
        "\n",
        "redundant_cols = ['sqft', 'price', 'address', 'short_price']\n",
        "\n",
        "properties_only = properties_only.drop(columns=leakage_cols + website_cols + redundant_cols)"
      ],
      "metadata": {
        "id": "UpDFElXn5bFA"
      },
      "execution_count": 92,
      "outputs": []
    },
    {
      "cell_type": "code",
      "source": [
        "# Bathrooms - likely price driver, needs cleaning"
      ],
      "metadata": {
        "id": "G9czH6Jw8i7v"
      },
      "execution_count": 93,
      "outputs": []
    },
    {
      "cell_type": "code",
      "source": [
        "properties_only[['baths_half', 'baths_full', 'baths']].query('baths_half == baths_half').head(5)"
      ],
      "metadata": {
        "id": "RxrlO7oe7je0",
        "outputId": "d16d6aa2-407d-4565-bb6d-6185421b73eb",
        "colab": {
          "base_uri": "https://localhost:8080/",
          "height": 206
        }
      },
      "execution_count": 94,
      "outputs": [
        {
          "output_type": "execute_result",
          "data": {
            "text/plain": [
              "     baths_half  baths_full baths\n",
              "52          1.0         1.0     2\n",
              "124         1.0         1.0     2\n",
              "132         1.0         1.0     2\n",
              "150         1.0         1.0     2\n",
              "151         1.0         1.0     2"
            ],
            "text/html": [
              "\n",
              "  <div id=\"df-2ce2b1fd-5c83-4dfe-a23e-7b21ac9d0488\">\n",
              "    <div class=\"colab-df-container\">\n",
              "      <div>\n",
              "<style scoped>\n",
              "    .dataframe tbody tr th:only-of-type {\n",
              "        vertical-align: middle;\n",
              "    }\n",
              "\n",
              "    .dataframe tbody tr th {\n",
              "        vertical-align: top;\n",
              "    }\n",
              "\n",
              "    .dataframe thead th {\n",
              "        text-align: right;\n",
              "    }\n",
              "</style>\n",
              "<table border=\"1\" class=\"dataframe\">\n",
              "  <thead>\n",
              "    <tr style=\"text-align: right;\">\n",
              "      <th></th>\n",
              "      <th>baths_half</th>\n",
              "      <th>baths_full</th>\n",
              "      <th>baths</th>\n",
              "    </tr>\n",
              "  </thead>\n",
              "  <tbody>\n",
              "    <tr>\n",
              "      <th>52</th>\n",
              "      <td>1.0</td>\n",
              "      <td>1.0</td>\n",
              "      <td>2</td>\n",
              "    </tr>\n",
              "    <tr>\n",
              "      <th>124</th>\n",
              "      <td>1.0</td>\n",
              "      <td>1.0</td>\n",
              "      <td>2</td>\n",
              "    </tr>\n",
              "    <tr>\n",
              "      <th>132</th>\n",
              "      <td>1.0</td>\n",
              "      <td>1.0</td>\n",
              "      <td>2</td>\n",
              "    </tr>\n",
              "    <tr>\n",
              "      <th>150</th>\n",
              "      <td>1.0</td>\n",
              "      <td>1.0</td>\n",
              "      <td>2</td>\n",
              "    </tr>\n",
              "    <tr>\n",
              "      <th>151</th>\n",
              "      <td>1.0</td>\n",
              "      <td>1.0</td>\n",
              "      <td>2</td>\n",
              "    </tr>\n",
              "  </tbody>\n",
              "</table>\n",
              "</div>\n",
              "      <button class=\"colab-df-convert\" onclick=\"convertToInteractive('df-2ce2b1fd-5c83-4dfe-a23e-7b21ac9d0488')\"\n",
              "              title=\"Convert this dataframe to an interactive table.\"\n",
              "              style=\"display:none;\">\n",
              "        \n",
              "  <svg xmlns=\"http://www.w3.org/2000/svg\" height=\"24px\"viewBox=\"0 0 24 24\"\n",
              "       width=\"24px\">\n",
              "    <path d=\"M0 0h24v24H0V0z\" fill=\"none\"/>\n",
              "    <path d=\"M18.56 5.44l.94 2.06.94-2.06 2.06-.94-2.06-.94-.94-2.06-.94 2.06-2.06.94zm-11 1L8.5 8.5l.94-2.06 2.06-.94-2.06-.94L8.5 2.5l-.94 2.06-2.06.94zm10 10l.94 2.06.94-2.06 2.06-.94-2.06-.94-.94-2.06-.94 2.06-2.06.94z\"/><path d=\"M17.41 7.96l-1.37-1.37c-.4-.4-.92-.59-1.43-.59-.52 0-1.04.2-1.43.59L10.3 9.45l-7.72 7.72c-.78.78-.78 2.05 0 2.83L4 21.41c.39.39.9.59 1.41.59.51 0 1.02-.2 1.41-.59l7.78-7.78 2.81-2.81c.8-.78.8-2.07 0-2.86zM5.41 20L4 18.59l7.72-7.72 1.47 1.35L5.41 20z\"/>\n",
              "  </svg>\n",
              "      </button>\n",
              "      \n",
              "  <style>\n",
              "    .colab-df-container {\n",
              "      display:flex;\n",
              "      flex-wrap:wrap;\n",
              "      gap: 12px;\n",
              "    }\n",
              "\n",
              "    .colab-df-convert {\n",
              "      background-color: #E8F0FE;\n",
              "      border: none;\n",
              "      border-radius: 50%;\n",
              "      cursor: pointer;\n",
              "      display: none;\n",
              "      fill: #1967D2;\n",
              "      height: 32px;\n",
              "      padding: 0 0 0 0;\n",
              "      width: 32px;\n",
              "    }\n",
              "\n",
              "    .colab-df-convert:hover {\n",
              "      background-color: #E2EBFA;\n",
              "      box-shadow: 0px 1px 2px rgba(60, 64, 67, 0.3), 0px 1px 3px 1px rgba(60, 64, 67, 0.15);\n",
              "      fill: #174EA6;\n",
              "    }\n",
              "\n",
              "    [theme=dark] .colab-df-convert {\n",
              "      background-color: #3B4455;\n",
              "      fill: #D2E3FC;\n",
              "    }\n",
              "\n",
              "    [theme=dark] .colab-df-convert:hover {\n",
              "      background-color: #434B5C;\n",
              "      box-shadow: 0px 1px 3px 1px rgba(0, 0, 0, 0.15);\n",
              "      filter: drop-shadow(0px 1px 2px rgba(0, 0, 0, 0.3));\n",
              "      fill: #FFFFFF;\n",
              "    }\n",
              "  </style>\n",
              "\n",
              "      <script>\n",
              "        const buttonEl =\n",
              "          document.querySelector('#df-2ce2b1fd-5c83-4dfe-a23e-7b21ac9d0488 button.colab-df-convert');\n",
              "        buttonEl.style.display =\n",
              "          google.colab.kernel.accessAllowed ? 'block' : 'none';\n",
              "\n",
              "        async function convertToInteractive(key) {\n",
              "          const element = document.querySelector('#df-2ce2b1fd-5c83-4dfe-a23e-7b21ac9d0488');\n",
              "          const dataTable =\n",
              "            await google.colab.kernel.invokeFunction('convertToInteractive',\n",
              "                                                     [key], {});\n",
              "          if (!dataTable) return;\n",
              "\n",
              "          const docLinkHtml = 'Like what you see? Visit the ' +\n",
              "            '<a target=\"_blank\" href=https://colab.research.google.com/notebooks/data_table.ipynb>data table notebook</a>'\n",
              "            + ' to learn more about interactive tables.';\n",
              "          element.innerHTML = '';\n",
              "          dataTable['output_type'] = 'display_data';\n",
              "          await google.colab.output.renderOutput(dataTable, element);\n",
              "          const docLink = document.createElement('div');\n",
              "          docLink.innerHTML = docLinkHtml;\n",
              "          element.appendChild(docLink);\n",
              "        }\n",
              "      </script>\n",
              "    </div>\n",
              "  </div>\n",
              "  "
            ]
          },
          "metadata": {},
          "execution_count": 94
        }
      ]
    },
    {
      "cell_type": "code",
      "source": [
        "properties_only['bath'] = properties_only['baths_half'].fillna(0) / 2 +  properties_only['baths_full'].fillna(0)"
      ],
      "metadata": {
        "id": "IOxtDmAL8Ldm"
      },
      "execution_count": 95,
      "outputs": []
    },
    {
      "cell_type": "code",
      "source": [
        "# Remove embedded strings, NAN better\n",
        "properties_only['bath'] = np.where(properties_only['baths'] == 'Call', np.nan, properties_only['baths'])"
      ],
      "metadata": {
        "id": "acGOD2RcBtHt"
      },
      "execution_count": 96,
      "outputs": []
    },
    {
      "cell_type": "code",
      "source": [
        "properties_only = properties_only.drop(columns=['baths_half', 'baths_full', 'baths'])"
      ],
      "metadata": {
        "id": "ZHTqZIpRD5lu"
      },
      "execution_count": 97,
      "outputs": []
    },
    {
      "cell_type": "code",
      "source": [
        "# Extract lot sizes, convert to same metrics\n",
        "\n",
        "def acres_to_sqft(row):\n",
        "  if 'acres' in str(row['lot_size']):\n",
        "    return float(str.strip(row['lot_size'].replace('acres', '').replace(',', ''))) * 43560\n",
        "  elif 'sq ft lot' in str(row['lot_size']):\n",
        "    return float(str.strip(row['lot_size'].replace('sq ft lot', '').replace(',', '')))\n",
        "  elif pd.isna(row['lot_size']):\n",
        "    return row['lot_size']   \n",
        "  else:\n",
        "    return -1   \n",
        "\n",
        "properties_only['lot_size_sqft'] = properties_only.apply(acres_to_sqft, axis=1)"
      ],
      "metadata": {
        "id": "JGaHsXrLB0Z7"
      },
      "execution_count": 98,
      "outputs": []
    },
    {
      "cell_type": "code",
      "source": [
        "properties_only[ properties_only['lot_size_sqft'] == -1]"
      ],
      "metadata": {
        "id": "yaDem8p_CoTN",
        "outputId": "ea47b506-6218-4e9b-ecb1-81a6e72f6a47",
        "colab": {
          "base_uri": "https://localhost:8080/",
          "height": 113
        }
      },
      "execution_count": 99,
      "outputs": [
        {
          "output_type": "execute_result",
          "data": {
            "text/plain": [
              "Empty DataFrame\n",
              "Columns: [prop_type, last_update, address_new, prop_status, price_raw, sqft_raw, is_showcase, is_new_construction, beds, lot_size, photo_count, sold_date, lat, lon, has_leadform, listing_id, list_date, advertiser_id, agent_name, agent_photo, office_name, office_advertiser_id, products, is_cobroker, is_foreclosure, snapshot_date, bath, lot_size_sqft]\n",
              "Index: []"
            ],
            "text/html": [
              "\n",
              "  <div id=\"df-2b9519a7-5b78-4381-9ce0-d3b166b618e6\">\n",
              "    <div class=\"colab-df-container\">\n",
              "      <div>\n",
              "<style scoped>\n",
              "    .dataframe tbody tr th:only-of-type {\n",
              "        vertical-align: middle;\n",
              "    }\n",
              "\n",
              "    .dataframe tbody tr th {\n",
              "        vertical-align: top;\n",
              "    }\n",
              "\n",
              "    .dataframe thead th {\n",
              "        text-align: right;\n",
              "    }\n",
              "</style>\n",
              "<table border=\"1\" class=\"dataframe\">\n",
              "  <thead>\n",
              "    <tr style=\"text-align: right;\">\n",
              "      <th></th>\n",
              "      <th>prop_type</th>\n",
              "      <th>last_update</th>\n",
              "      <th>address_new</th>\n",
              "      <th>prop_status</th>\n",
              "      <th>price_raw</th>\n",
              "      <th>sqft_raw</th>\n",
              "      <th>is_showcase</th>\n",
              "      <th>is_new_construction</th>\n",
              "      <th>beds</th>\n",
              "      <th>lot_size</th>\n",
              "      <th>photo_count</th>\n",
              "      <th>sold_date</th>\n",
              "      <th>lat</th>\n",
              "      <th>lon</th>\n",
              "      <th>has_leadform</th>\n",
              "      <th>listing_id</th>\n",
              "      <th>list_date</th>\n",
              "      <th>advertiser_id</th>\n",
              "      <th>agent_name</th>\n",
              "      <th>agent_photo</th>\n",
              "      <th>office_name</th>\n",
              "      <th>office_advertiser_id</th>\n",
              "      <th>products</th>\n",
              "      <th>is_cobroker</th>\n",
              "      <th>is_foreclosure</th>\n",
              "      <th>snapshot_date</th>\n",
              "      <th>bath</th>\n",
              "      <th>lot_size_sqft</th>\n",
              "    </tr>\n",
              "  </thead>\n",
              "  <tbody>\n",
              "  </tbody>\n",
              "</table>\n",
              "</div>\n",
              "      <button class=\"colab-df-convert\" onclick=\"convertToInteractive('df-2b9519a7-5b78-4381-9ce0-d3b166b618e6')\"\n",
              "              title=\"Convert this dataframe to an interactive table.\"\n",
              "              style=\"display:none;\">\n",
              "        \n",
              "  <svg xmlns=\"http://www.w3.org/2000/svg\" height=\"24px\"viewBox=\"0 0 24 24\"\n",
              "       width=\"24px\">\n",
              "    <path d=\"M0 0h24v24H0V0z\" fill=\"none\"/>\n",
              "    <path d=\"M18.56 5.44l.94 2.06.94-2.06 2.06-.94-2.06-.94-.94-2.06-.94 2.06-2.06.94zm-11 1L8.5 8.5l.94-2.06 2.06-.94-2.06-.94L8.5 2.5l-.94 2.06-2.06.94zm10 10l.94 2.06.94-2.06 2.06-.94-2.06-.94-.94-2.06-.94 2.06-2.06.94z\"/><path d=\"M17.41 7.96l-1.37-1.37c-.4-.4-.92-.59-1.43-.59-.52 0-1.04.2-1.43.59L10.3 9.45l-7.72 7.72c-.78.78-.78 2.05 0 2.83L4 21.41c.39.39.9.59 1.41.59.51 0 1.02-.2 1.41-.59l7.78-7.78 2.81-2.81c.8-.78.8-2.07 0-2.86zM5.41 20L4 18.59l7.72-7.72 1.47 1.35L5.41 20z\"/>\n",
              "  </svg>\n",
              "      </button>\n",
              "      \n",
              "  <style>\n",
              "    .colab-df-container {\n",
              "      display:flex;\n",
              "      flex-wrap:wrap;\n",
              "      gap: 12px;\n",
              "    }\n",
              "\n",
              "    .colab-df-convert {\n",
              "      background-color: #E8F0FE;\n",
              "      border: none;\n",
              "      border-radius: 50%;\n",
              "      cursor: pointer;\n",
              "      display: none;\n",
              "      fill: #1967D2;\n",
              "      height: 32px;\n",
              "      padding: 0 0 0 0;\n",
              "      width: 32px;\n",
              "    }\n",
              "\n",
              "    .colab-df-convert:hover {\n",
              "      background-color: #E2EBFA;\n",
              "      box-shadow: 0px 1px 2px rgba(60, 64, 67, 0.3), 0px 1px 3px 1px rgba(60, 64, 67, 0.15);\n",
              "      fill: #174EA6;\n",
              "    }\n",
              "\n",
              "    [theme=dark] .colab-df-convert {\n",
              "      background-color: #3B4455;\n",
              "      fill: #D2E3FC;\n",
              "    }\n",
              "\n",
              "    [theme=dark] .colab-df-convert:hover {\n",
              "      background-color: #434B5C;\n",
              "      box-shadow: 0px 1px 3px 1px rgba(0, 0, 0, 0.15);\n",
              "      filter: drop-shadow(0px 1px 2px rgba(0, 0, 0, 0.3));\n",
              "      fill: #FFFFFF;\n",
              "    }\n",
              "  </style>\n",
              "\n",
              "      <script>\n",
              "        const buttonEl =\n",
              "          document.querySelector('#df-2b9519a7-5b78-4381-9ce0-d3b166b618e6 button.colab-df-convert');\n",
              "        buttonEl.style.display =\n",
              "          google.colab.kernel.accessAllowed ? 'block' : 'none';\n",
              "\n",
              "        async function convertToInteractive(key) {\n",
              "          const element = document.querySelector('#df-2b9519a7-5b78-4381-9ce0-d3b166b618e6');\n",
              "          const dataTable =\n",
              "            await google.colab.kernel.invokeFunction('convertToInteractive',\n",
              "                                                     [key], {});\n",
              "          if (!dataTable) return;\n",
              "\n",
              "          const docLinkHtml = 'Like what you see? Visit the ' +\n",
              "            '<a target=\"_blank\" href=https://colab.research.google.com/notebooks/data_table.ipynb>data table notebook</a>'\n",
              "            + ' to learn more about interactive tables.';\n",
              "          element.innerHTML = '';\n",
              "          dataTable['output_type'] = 'display_data';\n",
              "          await google.colab.output.renderOutput(dataTable, element);\n",
              "          const docLink = document.createElement('div');\n",
              "          docLink.innerHTML = docLinkHtml;\n",
              "          element.appendChild(docLink);\n",
              "        }\n",
              "      </script>\n",
              "    </div>\n",
              "  </div>\n",
              "  "
            ]
          },
          "metadata": {},
          "execution_count": 99
        }
      ]
    },
    {
      "cell_type": "code",
      "source": [
        "# TODO: get binary values into correct format (1,0) vs TRUE FALSE or TRUE NAN\n",
        "# Extract address new to get zip codes"
      ],
      "metadata": {
        "id": "5Rom3bgLDnEy"
      },
      "execution_count": null,
      "outputs": []
    },
    {
      "cell_type": "code",
      "source": [
        "properties_only['beds'].value_counts(dropna=False, normalize=True)"
      ],
      "metadata": {
        "id": "f6He96nTE4Kc",
        "outputId": "168eac31-2479-4157-8924-abc5c6c639a0",
        "colab": {
          "base_uri": "https://localhost:8080/"
        }
      },
      "execution_count": 60,
      "outputs": [
        {
          "output_type": "execute_result",
          "data": {
            "text/plain": [
              "3.0     0.307985\n",
              "NaN     0.240811\n",
              "2.0     0.186312\n",
              "4.0     0.169835\n",
              "1.0     0.043093\n",
              "5.0     0.040558\n",
              "6.0     0.008872\n",
              "8.0     0.001267\n",
              "10.0    0.001267\n",
              "Name: beds, dtype: float64"
            ]
          },
          "metadata": {},
          "execution_count": 60
        }
      ]
    },
    {
      "cell_type": "code",
      "source": [
        ""
      ],
      "metadata": {
        "id": "4PP23OuqFtYi"
      },
      "execution_count": null,
      "outputs": []
    }
  ]
}