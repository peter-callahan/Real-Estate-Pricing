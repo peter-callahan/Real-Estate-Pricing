{
  "nbformat": 4,
  "nbformat_minor": 0,
  "metadata": {
    "colab": {
      "name": "real-estate-project-overview.ipynb",
      "provenance": [],
      "toc_visible": true,
      "authorship_tag": "ABX9TyPyhpmdfrxLOwNf09KMb66Y",
      "include_colab_link": true
    },
    "kernelspec": {
      "name": "python3",
      "display_name": "Python 3"
    },
    "language_info": {
      "name": "python"
    }
  },
  "cells": [
    {
      "cell_type": "markdown",
      "metadata": {
        "id": "view-in-github",
        "colab_type": "text"
      },
      "source": [
        "<a href=\"https://colab.research.google.com/github/vanderbilt-ml/51-callahan-mlproj-realestate/blob/updating-encoding/real_estate_project_overview.ipynb\" target=\"_parent\"><img src=\"https://colab.research.google.com/assets/colab-badge.svg\" alt=\"Open In Colab\"/></a>"
      ]
    },
    {
      "cell_type": "markdown",
      "source": [
        "# Real Estate Prediction and Market Intelligence\n",
        "\n",
        "## Background\n",
        "Real estate has many opportunities in which to apply data science methods.  I want to develop a model that will allow for identification of pricing assymetries in the real estate market by being able to accurately price assets and there by identify opportunities when new properties are discovered. \n",
        "\n",
        "## Project Description\n",
        "My goal is to develop a model that can detect \"good prices\" in real estate markets of my choosing in order to identify deals.  Maybe I will buy one of these properties someday!\n",
        "\n",
        "## Performance Metric + Analyses\n",
        "1. *Pricing Accuracy* - can the model learn what a good price is and make a price prediction for a specific property?  This would involve predicting the price at which a property will sell based on a variety of features, and can be verified in training data by comparing the prediction with the actual sale price.  RMSE comes to mind as a possible measure of model accuracy. \n",
        "\n",
        "2. *Value Drivers* - which attributions associated with a property influence price and do those factors change based on geography?  Obvious things like square-foot (size) of property will matter, but there are likely other discoverable features here that provide a rich opportunity for feature engineering.  Normalizing for macro-economic trends may also be an option, since housing prices are defined inside a marketplace that is influenced by factors like: mortgage rates, inflation, GDP, etc... \n",
        "\n",
        "3. *Similar markets* - Which markets are complementary in the sense that they have similar attributes and properties represent a similar value to purchasers?  Identifying a similarity metric for markets would allow this analysis to encompass greater quantities of data.  Presumably, data from similar markets could be combined to make predictions while dissimilar ones should be excluded.  As an example, California beachfront property or NYC apartments are likely not comparable to a single family home in the midwest and we would not want to train data using Cali/NYC data if we want to predict home prices in rural Kansas."
      ],
      "metadata": {
        "id": "Gy2hDhZw99qO"
      }
    },
    {
      "cell_type": "markdown",
      "source": [
        "## Historical Model Performance\n",
        "\n",
        "### \"Distance to Water\" and \"Nearest Body of Water\" features added\n",
        "\n",
        "**Overview**\n",
        "\n",
        "Distance to water and nearest body of water are likely to be important features because real estate purchasers probably care about this.  Having a way to identify how close a property is to water and which water feature required incorporating GeoPandas into the analysis. The result is two new features.  First, distance_to_water, measures the distance to the nearest water feature in meters.  Second, water_feature, is the name of the nearest water feature that is at least 500 hectares.\n",
        "\n",
        "**Performance**\n",
        "\n",
        "RFR (R2 increase but decrease in model peformance)\n",
        "1. R2: 0.7475745662533361\n",
        "2. RMSE: 212516.48609785954\n",
        "3. MAPE: 0.4530402382954198\n",
        "\n",
        "LR (got worse)\n",
        "1. R2: 0.14241231987245884\n",
        "2. RMSE: 391710.61210430035\n",
        "3. MAPE: 0.6911585464378046\n",
        "\n",
        "GBD (big improvement)\n",
        "1. R2: 0.7148021563811113\n",
        "2. RMSE: 225891.13601564406\n",
        "3. MAPE: 0.45884098463405043\n",
        "\n",
        "### Initial Model \n",
        "\n",
        "**Overview**\n",
        "\n",
        "Features 1-6, with optimizations made to reduce the impact of high cardinality columns as well as expand dates and perform unit conversions.\n",
        "\n",
        "**Performance**\n",
        "\n",
        "RFR\n",
        "1. R2: 0.6799018647159624\n",
        "2. RMSE: 200475.45049726398\n",
        "3. MAPE: 0.42061022659688296\n",
        "\n",
        "LR\n",
        "1. R2: 0.3044845434643467\n",
        "2. RMSE: 295510.56951387296\n",
        "3. MAPE: 0.6564594704859447\n",
        "\n",
        "GBD\n",
        "1. R2: 0.48669563308526864\n",
        "2. RMSE: 253867.4995511361\n",
        "3. MAPE: 0.5071241646448831"
      ],
      "metadata": {
        "id": "9ChhZg_vqG6A"
      }
    },
    {
      "cell_type": "code",
      "execution_count": 1,
      "metadata": {
        "id": "SDXTt5BT97My"
      },
      "outputs": [],
      "source": [
        "import pandas as pd\n",
        "import numpy as np\n",
        "import seaborn as sns\n",
        "import matplotlib.pyplot as plt\n",
        "\n",
        "from ast import literal_eval\n",
        "\n",
        "pd.set_option('display.max_columns', 100)\n",
        "pd.set_option('display.max_rows', 500)\n",
        "\n",
        "sns.set_theme(rc={\n",
        "    'figure.autolayout':True,\n",
        "    'figure.subplot.wspace':0.02}\n",
        "    )"
      ]
    },
    {
      "cell_type": "code",
      "source": [
        "eda = pd.read_csv('https://raw.githubusercontent.com/vanderbilt-ml/51-callahan-mlproj-realestate/main/northern_MI_market_total_2022-05-22_sold.csv',\n",
        "                  parse_dates=['last_update', 'sold_date'],\n",
        "                  infer_datetime_format=True)\n",
        "\n",
        "eda['address_new'] = eda['address_new'].apply(literal_eval)"
      ],
      "metadata": {
        "id": "ujX0o47699QN"
      },
      "execution_count": 4,
      "outputs": []
    },
    {
      "cell_type": "code",
      "source": [
        "eda.head(2)"
      ],
      "metadata": {
        "id": "SBcSzlLh46N8",
        "outputId": "b9ae20d8-7c5b-444d-f6b7-655e8306f76f",
        "colab": {
          "base_uri": "https://localhost:8080/",
          "height": 315
        }
      },
      "execution_count": 5,
      "outputs": [
        {
          "output_type": "execute_result",
          "data": {
            "text/plain": [
              "   property_id prop_type                last_update  \\\n",
              "0   9736410692     condo  2022-05-16 19:13:28+00:00   \n",
              "1   9863486331     condo  2022-02-28 17:56:49+00:00   \n",
              "\n",
              "                                   address  \\\n",
              "0  841 Fern St Apt 4, Traverse City, 49686   \n",
              "1  841 Fern St Apt 1, Traverse City, 49686   \n",
              "\n",
              "                                         address_new    prop_status  \\\n",
              "0  {'line': '841 Fern St Apt 4', 'street_number':...  recently_sold   \n",
              "1  {'line': '841 Fern St Apt 1', 'street_number':...  recently_sold   \n",
              "\n",
              "   price_raw  sqft_raw  is_showcase  is_new_construction      price  beds  \\\n",
              "0     160000     545.0        False                False  $160,000    1.0   \n",
              "1     209900     775.0        False                False  $209,900    2.0   \n",
              "\n",
              "  baths       sqft lot_size  \\\n",
              "0     1  545 sq ft      NaN   \n",
              "1     1  775 sq ft      NaN   \n",
              "\n",
              "                                               photo short_price  baths_half  \\\n",
              "0  https://ap.rdcpix.com/2d7056dea24011b9d144d742...       $160K         NaN   \n",
              "1  https://ap.rdcpix.com/7f30757aa101576f09b5bcad...       $209K         NaN   \n",
              "\n",
              "   baths_full  photo_count  sold_date        lat       lon  has_leadform  \\\n",
              "0         1.0         22.0 2022-05-16  44.751955 -85.59743         False   \n",
              "1         1.0         26.0 2022-02-28  44.751955 -85.59743         False   \n",
              "\n",
              "   page_no  rank                                      list_tracking  \\\n",
              "0        4    31  type|property|data|prop_id|9736410692|list_id|...   \n",
              "1        5    36  type|property|data|prop_id|9863486331|list_id|...   \n",
              "\n",
              "     listing_id             list_date  advertiser_id agent_name  \\\n",
              "0  2.942730e+09  2022-05-04T18:01:57Z      1285943.0  Matt Geib   \n",
              "1  2.938909e+09  2022-01-12T20:17:22Z      1285943.0  Matt Geib   \n",
              "\n",
              "                                         agent_photo           office_name  \\\n",
              "0  https://p.rdcpix.com/v05/a379f1300-c0od-r7_w11...  CENTURY 21 Northland   \n",
              "1  https://p.rdcpix.com/v05/a379f1300-c0od-r7_w11...  CENTURY 21 Northland   \n",
              "\n",
              "   office_advertiser_id price_reduced  \\\n",
              "0              558238.0         False   \n",
              "1              558238.0         False   \n",
              "\n",
              "                                    products price_reduced_date is_cobroker  \\\n",
              "0  ['core.agent', 'core.broker', 'co_broke']                NaN        True   \n",
              "1  ['core.agent', 'core.broker', 'co_broke']                NaN        True   \n",
              "\n",
              "  is_foreclosure snapshot_date  \n",
              "0            NaN       5/22/22  \n",
              "1            NaN       5/22/22  "
            ],
            "text/html": [
              "\n",
              "  <div id=\"df-57b74297-014c-4a9e-a085-4aa71ba1e150\">\n",
              "    <div class=\"colab-df-container\">\n",
              "      <div>\n",
              "<style scoped>\n",
              "    .dataframe tbody tr th:only-of-type {\n",
              "        vertical-align: middle;\n",
              "    }\n",
              "\n",
              "    .dataframe tbody tr th {\n",
              "        vertical-align: top;\n",
              "    }\n",
              "\n",
              "    .dataframe thead th {\n",
              "        text-align: right;\n",
              "    }\n",
              "</style>\n",
              "<table border=\"1\" class=\"dataframe\">\n",
              "  <thead>\n",
              "    <tr style=\"text-align: right;\">\n",
              "      <th></th>\n",
              "      <th>property_id</th>\n",
              "      <th>prop_type</th>\n",
              "      <th>last_update</th>\n",
              "      <th>address</th>\n",
              "      <th>address_new</th>\n",
              "      <th>prop_status</th>\n",
              "      <th>price_raw</th>\n",
              "      <th>sqft_raw</th>\n",
              "      <th>is_showcase</th>\n",
              "      <th>is_new_construction</th>\n",
              "      <th>price</th>\n",
              "      <th>beds</th>\n",
              "      <th>baths</th>\n",
              "      <th>sqft</th>\n",
              "      <th>lot_size</th>\n",
              "      <th>photo</th>\n",
              "      <th>short_price</th>\n",
              "      <th>baths_half</th>\n",
              "      <th>baths_full</th>\n",
              "      <th>photo_count</th>\n",
              "      <th>sold_date</th>\n",
              "      <th>lat</th>\n",
              "      <th>lon</th>\n",
              "      <th>has_leadform</th>\n",
              "      <th>page_no</th>\n",
              "      <th>rank</th>\n",
              "      <th>list_tracking</th>\n",
              "      <th>listing_id</th>\n",
              "      <th>list_date</th>\n",
              "      <th>advertiser_id</th>\n",
              "      <th>agent_name</th>\n",
              "      <th>agent_photo</th>\n",
              "      <th>office_name</th>\n",
              "      <th>office_advertiser_id</th>\n",
              "      <th>price_reduced</th>\n",
              "      <th>products</th>\n",
              "      <th>price_reduced_date</th>\n",
              "      <th>is_cobroker</th>\n",
              "      <th>is_foreclosure</th>\n",
              "      <th>snapshot_date</th>\n",
              "    </tr>\n",
              "  </thead>\n",
              "  <tbody>\n",
              "    <tr>\n",
              "      <th>0</th>\n",
              "      <td>9736410692</td>\n",
              "      <td>condo</td>\n",
              "      <td>2022-05-16 19:13:28+00:00</td>\n",
              "      <td>841 Fern St Apt 4, Traverse City, 49686</td>\n",
              "      <td>{'line': '841 Fern St Apt 4', 'street_number':...</td>\n",
              "      <td>recently_sold</td>\n",
              "      <td>160000</td>\n",
              "      <td>545.0</td>\n",
              "      <td>False</td>\n",
              "      <td>False</td>\n",
              "      <td>$160,000</td>\n",
              "      <td>1.0</td>\n",
              "      <td>1</td>\n",
              "      <td>545 sq ft</td>\n",
              "      <td>NaN</td>\n",
              "      <td>https://ap.rdcpix.com/2d7056dea24011b9d144d742...</td>\n",
              "      <td>$160K</td>\n",
              "      <td>NaN</td>\n",
              "      <td>1.0</td>\n",
              "      <td>22.0</td>\n",
              "      <td>2022-05-16</td>\n",
              "      <td>44.751955</td>\n",
              "      <td>-85.59743</td>\n",
              "      <td>False</td>\n",
              "      <td>4</td>\n",
              "      <td>31</td>\n",
              "      <td>type|property|data|prop_id|9736410692|list_id|...</td>\n",
              "      <td>2.942730e+09</td>\n",
              "      <td>2022-05-04T18:01:57Z</td>\n",
              "      <td>1285943.0</td>\n",
              "      <td>Matt Geib</td>\n",
              "      <td>https://p.rdcpix.com/v05/a379f1300-c0od-r7_w11...</td>\n",
              "      <td>CENTURY 21 Northland</td>\n",
              "      <td>558238.0</td>\n",
              "      <td>False</td>\n",
              "      <td>['core.agent', 'core.broker', 'co_broke']</td>\n",
              "      <td>NaN</td>\n",
              "      <td>True</td>\n",
              "      <td>NaN</td>\n",
              "      <td>5/22/22</td>\n",
              "    </tr>\n",
              "    <tr>\n",
              "      <th>1</th>\n",
              "      <td>9863486331</td>\n",
              "      <td>condo</td>\n",
              "      <td>2022-02-28 17:56:49+00:00</td>\n",
              "      <td>841 Fern St Apt 1, Traverse City, 49686</td>\n",
              "      <td>{'line': '841 Fern St Apt 1', 'street_number':...</td>\n",
              "      <td>recently_sold</td>\n",
              "      <td>209900</td>\n",
              "      <td>775.0</td>\n",
              "      <td>False</td>\n",
              "      <td>False</td>\n",
              "      <td>$209,900</td>\n",
              "      <td>2.0</td>\n",
              "      <td>1</td>\n",
              "      <td>775 sq ft</td>\n",
              "      <td>NaN</td>\n",
              "      <td>https://ap.rdcpix.com/7f30757aa101576f09b5bcad...</td>\n",
              "      <td>$209K</td>\n",
              "      <td>NaN</td>\n",
              "      <td>1.0</td>\n",
              "      <td>26.0</td>\n",
              "      <td>2022-02-28</td>\n",
              "      <td>44.751955</td>\n",
              "      <td>-85.59743</td>\n",
              "      <td>False</td>\n",
              "      <td>5</td>\n",
              "      <td>36</td>\n",
              "      <td>type|property|data|prop_id|9863486331|list_id|...</td>\n",
              "      <td>2.938909e+09</td>\n",
              "      <td>2022-01-12T20:17:22Z</td>\n",
              "      <td>1285943.0</td>\n",
              "      <td>Matt Geib</td>\n",
              "      <td>https://p.rdcpix.com/v05/a379f1300-c0od-r7_w11...</td>\n",
              "      <td>CENTURY 21 Northland</td>\n",
              "      <td>558238.0</td>\n",
              "      <td>False</td>\n",
              "      <td>['core.agent', 'core.broker', 'co_broke']</td>\n",
              "      <td>NaN</td>\n",
              "      <td>True</td>\n",
              "      <td>NaN</td>\n",
              "      <td>5/22/22</td>\n",
              "    </tr>\n",
              "  </tbody>\n",
              "</table>\n",
              "</div>\n",
              "      <button class=\"colab-df-convert\" onclick=\"convertToInteractive('df-57b74297-014c-4a9e-a085-4aa71ba1e150')\"\n",
              "              title=\"Convert this dataframe to an interactive table.\"\n",
              "              style=\"display:none;\">\n",
              "        \n",
              "  <svg xmlns=\"http://www.w3.org/2000/svg\" height=\"24px\"viewBox=\"0 0 24 24\"\n",
              "       width=\"24px\">\n",
              "    <path d=\"M0 0h24v24H0V0z\" fill=\"none\"/>\n",
              "    <path d=\"M18.56 5.44l.94 2.06.94-2.06 2.06-.94-2.06-.94-.94-2.06-.94 2.06-2.06.94zm-11 1L8.5 8.5l.94-2.06 2.06-.94-2.06-.94L8.5 2.5l-.94 2.06-2.06.94zm10 10l.94 2.06.94-2.06 2.06-.94-2.06-.94-.94-2.06-.94 2.06-2.06.94z\"/><path d=\"M17.41 7.96l-1.37-1.37c-.4-.4-.92-.59-1.43-.59-.52 0-1.04.2-1.43.59L10.3 9.45l-7.72 7.72c-.78.78-.78 2.05 0 2.83L4 21.41c.39.39.9.59 1.41.59.51 0 1.02-.2 1.41-.59l7.78-7.78 2.81-2.81c.8-.78.8-2.07 0-2.86zM5.41 20L4 18.59l7.72-7.72 1.47 1.35L5.41 20z\"/>\n",
              "  </svg>\n",
              "      </button>\n",
              "      \n",
              "  <style>\n",
              "    .colab-df-container {\n",
              "      display:flex;\n",
              "      flex-wrap:wrap;\n",
              "      gap: 12px;\n",
              "    }\n",
              "\n",
              "    .colab-df-convert {\n",
              "      background-color: #E8F0FE;\n",
              "      border: none;\n",
              "      border-radius: 50%;\n",
              "      cursor: pointer;\n",
              "      display: none;\n",
              "      fill: #1967D2;\n",
              "      height: 32px;\n",
              "      padding: 0 0 0 0;\n",
              "      width: 32px;\n",
              "    }\n",
              "\n",
              "    .colab-df-convert:hover {\n",
              "      background-color: #E2EBFA;\n",
              "      box-shadow: 0px 1px 2px rgba(60, 64, 67, 0.3), 0px 1px 3px 1px rgba(60, 64, 67, 0.15);\n",
              "      fill: #174EA6;\n",
              "    }\n",
              "\n",
              "    [theme=dark] .colab-df-convert {\n",
              "      background-color: #3B4455;\n",
              "      fill: #D2E3FC;\n",
              "    }\n",
              "\n",
              "    [theme=dark] .colab-df-convert:hover {\n",
              "      background-color: #434B5C;\n",
              "      box-shadow: 0px 1px 3px 1px rgba(0, 0, 0, 0.15);\n",
              "      filter: drop-shadow(0px 1px 2px rgba(0, 0, 0, 0.3));\n",
              "      fill: #FFFFFF;\n",
              "    }\n",
              "  </style>\n",
              "\n",
              "      <script>\n",
              "        const buttonEl =\n",
              "          document.querySelector('#df-57b74297-014c-4a9e-a085-4aa71ba1e150 button.colab-df-convert');\n",
              "        buttonEl.style.display =\n",
              "          google.colab.kernel.accessAllowed ? 'block' : 'none';\n",
              "\n",
              "        async function convertToInteractive(key) {\n",
              "          const element = document.querySelector('#df-57b74297-014c-4a9e-a085-4aa71ba1e150');\n",
              "          const dataTable =\n",
              "            await google.colab.kernel.invokeFunction('convertToInteractive',\n",
              "                                                     [key], {});\n",
              "          if (!dataTable) return;\n",
              "\n",
              "          const docLinkHtml = 'Like what you see? Visit the ' +\n",
              "            '<a target=\"_blank\" href=https://colab.research.google.com/notebooks/data_table.ipynb>data table notebook</a>'\n",
              "            + ' to learn more about interactive tables.';\n",
              "          element.innerHTML = '';\n",
              "          dataTable['output_type'] = 'display_data';\n",
              "          await google.colab.output.renderOutput(dataTable, element);\n",
              "          const docLink = document.createElement('div');\n",
              "          docLink.innerHTML = docLinkHtml;\n",
              "          element.appendChild(docLink);\n",
              "        }\n",
              "      </script>\n",
              "    </div>\n",
              "  </div>\n",
              "  "
            ]
          },
          "metadata": {},
          "execution_count": 5
        }
      ]
    },
    {
      "cell_type": "markdown",
      "source": [
        "\n"
      ],
      "metadata": {
        "id": "gcmoq70-5Lbb"
      }
    },
    {
      "cell_type": "code",
      "source": [
        "# 944 entries, 141 land (vacant lots) as well as other/commercial and farm can all be dropped.  These are non-residential properties and not the focus of this analysis. \n",
        "# 789 values remain in dataset. \n",
        "\n",
        "display(eda.shape[0])\n",
        "display(eda['prop_type'].value_counts())\n",
        "\n",
        "prop_data = eda[ eda['prop_type'].isin(['single_family', 'condo', 'multi_family', 'mobile']) ]\n",
        "\n",
        "display(prop_data.shape[0])\n",
        "display(prop_data['prop_type'].value_counts())"
      ],
      "metadata": {
        "id": "-aN-6vEi5MHp",
        "outputId": "865c31e5-d442-472a-eaf5-69fe8d3e32b2",
        "colab": {
          "base_uri": "https://localhost:8080/",
          "height": 295
        }
      },
      "execution_count": 6,
      "outputs": [
        {
          "output_type": "display_data",
          "data": {
            "text/plain": [
              "944"
            ]
          },
          "metadata": {}
        },
        {
          "output_type": "display_data",
          "data": {
            "text/plain": [
              "single_family    475\n",
              "condo            286\n",
              "land             141\n",
              "mobile            20\n",
              "other             10\n",
              "multi_family       8\n",
              "commercial         3\n",
              "farm               1\n",
              "Name: prop_type, dtype: int64"
            ]
          },
          "metadata": {}
        },
        {
          "output_type": "display_data",
          "data": {
            "text/plain": [
              "789"
            ]
          },
          "metadata": {}
        },
        {
          "output_type": "display_data",
          "data": {
            "text/plain": [
              "single_family    475\n",
              "condo            286\n",
              "mobile            20\n",
              "multi_family       8\n",
              "Name: prop_type, dtype: int64"
            ]
          },
          "metadata": {}
        }
      ]
    },
    {
      "cell_type": "markdown",
      "source": [
        "## Data Cleaning"
      ],
      "metadata": {
        "id": "4HWl5fK-gaTM"
      }
    },
    {
      "cell_type": "code",
      "source": [
        "prop_data['last_update'] = pd.to_datetime(prop_data['last_update'], utc=True).dt.date\n",
        "prop_data['list_date'] = pd.to_datetime(prop_data['list_date'], utc=True).dt.date\n",
        "prop_data['price_reduced_date'] = pd.to_datetime(prop_data['price_reduced_date'], utc=True).dt.date\n",
        "\n",
        "prop_data = prop_data[ prop_data['prop_type'].isin(['single_family', 'condo', 'multi_family']) ]\n",
        "# prop_data = prop_data.loc['single_family', 'condo', 'multi_family']\n",
        "\n",
        "prop_data = prop_data.dropna(subset=['sqft_raw'])"
      ],
      "metadata": {
        "id": "UpDFElXn5bFA",
        "colab": {
          "base_uri": "https://localhost:8080/"
        },
        "outputId": "62b5e1bc-897f-4338-e8b2-2c7d33c22623"
      },
      "execution_count": 7,
      "outputs": [
        {
          "output_type": "stream",
          "name": "stderr",
          "text": [
            "/usr/local/lib/python3.7/dist-packages/ipykernel_launcher.py:1: SettingWithCopyWarning: \n",
            "A value is trying to be set on a copy of a slice from a DataFrame.\n",
            "Try using .loc[row_indexer,col_indexer] = value instead\n",
            "\n",
            "See the caveats in the documentation: https://pandas.pydata.org/pandas-docs/stable/user_guide/indexing.html#returning-a-view-versus-a-copy\n",
            "  \"\"\"Entry point for launching an IPython kernel.\n",
            "/usr/local/lib/python3.7/dist-packages/ipykernel_launcher.py:2: SettingWithCopyWarning: \n",
            "A value is trying to be set on a copy of a slice from a DataFrame.\n",
            "Try using .loc[row_indexer,col_indexer] = value instead\n",
            "\n",
            "See the caveats in the documentation: https://pandas.pydata.org/pandas-docs/stable/user_guide/indexing.html#returning-a-view-versus-a-copy\n",
            "  \n",
            "/usr/local/lib/python3.7/dist-packages/ipykernel_launcher.py:3: SettingWithCopyWarning: \n",
            "A value is trying to be set on a copy of a slice from a DataFrame.\n",
            "Try using .loc[row_indexer,col_indexer] = value instead\n",
            "\n",
            "See the caveats in the documentation: https://pandas.pydata.org/pandas-docs/stable/user_guide/indexing.html#returning-a-view-versus-a-copy\n",
            "  This is separate from the ipykernel package so we can avoid doing imports until\n"
          ]
        }
      ]
    },
    {
      "cell_type": "code",
      "source": [
        "prop_data['prop_type'].value_counts()"
      ],
      "metadata": {
        "id": "G9czH6Jw8i7v",
        "colab": {
          "base_uri": "https://localhost:8080/"
        },
        "outputId": "7b968524-612f-482d-e6ec-bddfd7fc391e"
      },
      "execution_count": 8,
      "outputs": [
        {
          "output_type": "execute_result",
          "data": {
            "text/plain": [
              "single_family    413\n",
              "condo            228\n",
              "multi_family       8\n",
              "Name: prop_type, dtype: int64"
            ]
          },
          "metadata": {},
          "execution_count": 8
        }
      ]
    },
    {
      "cell_type": "code",
      "source": [
        "fig, ax = plt.subplots(1,2)\n",
        "\n",
        "sns.histplot(\n",
        "    data=prop_data, \n",
        "    x=\"sqft_raw\", \n",
        "    hue='prop_type', \n",
        "    kde=False, \n",
        "    element='step', \n",
        "    fill=False,\n",
        "    ax=ax[0]\n",
        ")\n",
        "\n",
        "sns.histplot(\n",
        "    prop_data, \n",
        "    x=\"price_raw\", \n",
        "    y=\"prop_type\", \n",
        "    hue=\"prop_type\", \n",
        "    legend=False,\n",
        "    ax=ax[1]\n",
        ")\n",
        "\n",
        "fig.show()"
      ],
      "metadata": {
        "id": "IOxtDmAL8Ldm",
        "colab": {
          "base_uri": "https://localhost:8080/",
          "height": 297
        },
        "outputId": "11cef274-4764-4fef-bb04-c33f2c4f0974"
      },
      "execution_count": 9,
      "outputs": [
        {
          "output_type": "display_data",
          "data": {
            "text/plain": [
              "<Figure size 432x288 with 2 Axes>"
            ],
            "image/png": "[encoded data removed]"
          },
          "metadata": {
            "needs_background": "light"
          }
        }
      ]
    },
    {
      "cell_type": "markdown",
      "source": [
        "# Feature Engineering"
      ],
      "metadata": {
        "id": "JIDjk_TBaXzx"
      }
    },
    {
      "cell_type": "markdown",
      "source": [
        "## Feature 1 - Address Details"
      ],
      "metadata": {
        "id": "XAlw-dU0fnKg"
      }
    },
    {
      "cell_type": "code",
      "source": [
        "# Example JSON object\n",
        "{'line': '4439 Ironwood Dr N', \n",
        " 'street_number': '4439', \n",
        " 'street': 'Ironwood', \n",
        " 'street_suffix': 'Dr', \n",
        " 'unit': None, \n",
        " 'city': 'Traverse City', \n",
        " 'state': 'Michigan', \n",
        " 'state_code': 'MI', \n",
        " 'postal_code': '49685', \n",
        " 'lat': 44.645801, \n",
        " 'long': -85.66523, \n",
        " 'county': 'Grand Traverse'}"
      ],
      "metadata": {
        "id": "mlvy8icuRUS2",
        "colab": {
          "base_uri": "https://localhost:8080/"
        },
        "outputId": "d3143645-56aa-4137-a80c-5a2e145e3e17"
      },
      "execution_count": 11,
      "outputs": [
        {
          "output_type": "execute_result",
          "data": {
            "text/plain": [
              "{'city': 'Traverse City',\n",
              " 'county': 'Grand Traverse',\n",
              " 'lat': 44.645801,\n",
              " 'line': '4439 Ironwood Dr N',\n",
              " 'long': -85.66523,\n",
              " 'postal_code': '49685',\n",
              " 'state': 'Michigan',\n",
              " 'state_code': 'MI',\n",
              " 'street': 'Ironwood',\n",
              " 'street_number': '4439',\n",
              " 'street_suffix': 'Dr',\n",
              " 'unit': None}"
            ]
          },
          "metadata": {},
          "execution_count": 11
        }
      ]
    },
    {
      "cell_type": "code",
      "source": [
        "unpacked_address = prop_data['address_new'].apply(pd.Series).drop(columns=['lat', 'long', 'street_number', 'street_suffix', 'unit', 'line', 'street'])\n",
        "\n",
        "display(unpacked_address)\n",
        "\n",
        "prop_data = pd.concat([prop_data, unpacked_address], \n",
        "              axis=1)\n"
      ],
      "metadata": {
        "id": "JGaHsXrLB0Z7",
        "colab": {
          "base_uri": "https://localhost:8080/",
          "height": 423
        },
        "outputId": "78946eb3-11f4-4d0f-8601-94fa242da575"
      },
      "execution_count": 12,
      "outputs": [
        {
          "output_type": "display_data",
          "data": {
            "text/plain": [
              "               city     state state_code postal_code          county\n",
              "0     Traverse City  Michigan         MI       49686  Grand Traverse\n",
              "1     Traverse City  Michigan         MI       49686  Grand Traverse\n",
              "2     Traverse City  Michigan         MI       49696  Grand Traverse\n",
              "3     Traverse City  Michigan         MI       49684  Grand Traverse\n",
              "4     Traverse City  Michigan         MI       49686  Grand Traverse\n",
              "..              ...       ...        ...         ...             ...\n",
              "933  Harbor Springs  Michigan         MI       49740           Emmet\n",
              "934  Harbor Springs  Michigan         MI       49740           Emmet\n",
              "938  Harbor Springs  Michigan         MI       49740           Emmet\n",
              "941  Harbor Springs  Michigan         MI       49740           Emmet\n",
              "942  Harbor Springs  Michigan         MI       49740           Emmet\n",
              "\n",
              "[649 rows x 5 columns]"
            ],
            "text/html": [
              "\n",
              "  <div id=\"df-26dc04cd-1e1b-4545-b2cf-b3cfbd5790a9\">\n",
              "    <div class=\"colab-df-container\">\n",
              "      <div>\n",
              "<style scoped>\n",
              "    .dataframe tbody tr th:only-of-type {\n",
              "        vertical-align: middle;\n",
              "    }\n",
              "\n",
              "    .dataframe tbody tr th {\n",
              "        vertical-align: top;\n",
              "    }\n",
              "\n",
              "    .dataframe thead th {\n",
              "        text-align: right;\n",
              "    }\n",
              "</style>\n",
              "<table border=\"1\" class=\"dataframe\">\n",
              "  <thead>\n",
              "    <tr style=\"text-align: right;\">\n",
              "      <th></th>\n",
              "      <th>city</th>\n",
              "      <th>state</th>\n",
              "      <th>state_code</th>\n",
              "      <th>postal_code</th>\n",
              "      <th>county</th>\n",
              "    </tr>\n",
              "  </thead>\n",
              "  <tbody>\n",
              "    <tr>\n",
              "      <th>0</th>\n",
              "      <td>Traverse City</td>\n",
              "      <td>Michigan</td>\n",
              "      <td>MI</td>\n",
              "      <td>49686</td>\n",
              "      <td>Grand Traverse</td>\n",
              "    </tr>\n",
              "    <tr>\n",
              "      <th>1</th>\n",
              "      <td>Traverse City</td>\n",
              "      <td>Michigan</td>\n",
              "      <td>MI</td>\n",
              "      <td>49686</td>\n",
              "      <td>Grand Traverse</td>\n",
              "    </tr>\n",
              "    <tr>\n",
              "      <th>2</th>\n",
              "      <td>Traverse City</td>\n",
              "      <td>Michigan</td>\n",
              "      <td>MI</td>\n",
              "      <td>49696</td>\n",
              "      <td>Grand Traverse</td>\n",
              "    </tr>\n",
              "    <tr>\n",
              "      <th>3</th>\n",
              "      <td>Traverse City</td>\n",
              "      <td>Michigan</td>\n",
              "      <td>MI</td>\n",
              "      <td>49684</td>\n",
              "      <td>Grand Traverse</td>\n",
              "    </tr>\n",
              "    <tr>\n",
              "      <th>4</th>\n",
              "      <td>Traverse City</td>\n",
              "      <td>Michigan</td>\n",
              "      <td>MI</td>\n",
              "      <td>49686</td>\n",
              "      <td>Grand Traverse</td>\n",
              "    </tr>\n",
              "    <tr>\n",
              "      <th>...</th>\n",
              "      <td>...</td>\n",
              "      <td>...</td>\n",
              "      <td>...</td>\n",
              "      <td>...</td>\n",
              "      <td>...</td>\n",
              "    </tr>\n",
              "    <tr>\n",
              "      <th>933</th>\n",
              "      <td>Harbor Springs</td>\n",
              "      <td>Michigan</td>\n",
              "      <td>MI</td>\n",
              "      <td>49740</td>\n",
              "      <td>Emmet</td>\n",
              "    </tr>\n",
              "    <tr>\n",
              "      <th>934</th>\n",
              "      <td>Harbor Springs</td>\n",
              "      <td>Michigan</td>\n",
              "      <td>MI</td>\n",
              "      <td>49740</td>\n",
              "      <td>Emmet</td>\n",
              "    </tr>\n",
              "    <tr>\n",
              "      <th>938</th>\n",
              "      <td>Harbor Springs</td>\n",
              "      <td>Michigan</td>\n",
              "      <td>MI</td>\n",
              "      <td>49740</td>\n",
              "      <td>Emmet</td>\n",
              "    </tr>\n",
              "    <tr>\n",
              "      <th>941</th>\n",
              "      <td>Harbor Springs</td>\n",
              "      <td>Michigan</td>\n",
              "      <td>MI</td>\n",
              "      <td>49740</td>\n",
              "      <td>Emmet</td>\n",
              "    </tr>\n",
              "    <tr>\n",
              "      <th>942</th>\n",
              "      <td>Harbor Springs</td>\n",
              "      <td>Michigan</td>\n",
              "      <td>MI</td>\n",
              "      <td>49740</td>\n",
              "      <td>Emmet</td>\n",
              "    </tr>\n",
              "  </tbody>\n",
              "</table>\n",
              "<p>649 rows × 5 columns</p>\n",
              "</div>\n",
              "      <button class=\"colab-df-convert\" onclick=\"convertToInteractive('df-26dc04cd-1e1b-4545-b2cf-b3cfbd5790a9')\"\n",
              "              title=\"Convert this dataframe to an interactive table.\"\n",
              "              style=\"display:none;\">\n",
              "        \n",
              "  <svg xmlns=\"http://www.w3.org/2000/svg\" height=\"24px\"viewBox=\"0 0 24 24\"\n",
              "       width=\"24px\">\n",
              "    <path d=\"M0 0h24v24H0V0z\" fill=\"none\"/>\n",
              "    <path d=\"M18.56 5.44l.94 2.06.94-2.06 2.06-.94-2.06-.94-.94-2.06-.94 2.06-2.06.94zm-11 1L8.5 8.5l.94-2.06 2.06-.94-2.06-.94L8.5 2.5l-.94 2.06-2.06.94zm10 10l.94 2.06.94-2.06 2.06-.94-2.06-.94-.94-2.06-.94 2.06-2.06.94z\"/><path d=\"M17.41 7.96l-1.37-1.37c-.4-.4-.92-.59-1.43-.59-.52 0-1.04.2-1.43.59L10.3 9.45l-7.72 7.72c-.78.78-.78 2.05 0 2.83L4 21.41c.39.39.9.59 1.41.59.51 0 1.02-.2 1.41-.59l7.78-7.78 2.81-2.81c.8-.78.8-2.07 0-2.86zM5.41 20L4 18.59l7.72-7.72 1.47 1.35L5.41 20z\"/>\n",
              "  </svg>\n",
              "      </button>\n",
              "      \n",
              "  <style>\n",
              "    .colab-df-container {\n",
              "      display:flex;\n",
              "      flex-wrap:wrap;\n",
              "      gap: 12px;\n",
              "    }\n",
              "\n",
              "    .colab-df-convert {\n",
              "      background-color: #E8F0FE;\n",
              "      border: none;\n",
              "      border-radius: 50%;\n",
              "      cursor: pointer;\n",
              "      display: none;\n",
              "      fill: #1967D2;\n",
              "      height: 32px;\n",
              "      padding: 0 0 0 0;\n",
              "      width: 32px;\n",
              "    }\n",
              "\n",
              "    .colab-df-convert:hover {\n",
              "      background-color: #E2EBFA;\n",
              "      box-shadow: 0px 1px 2px rgba(60, 64, 67, 0.3), 0px 1px 3px 1px rgba(60, 64, 67, 0.15);\n",
              "      fill: #174EA6;\n",
              "    }\n",
              "\n",
              "    [theme=dark] .colab-df-convert {\n",
              "      background-color: #3B4455;\n",
              "      fill: #D2E3FC;\n",
              "    }\n",
              "\n",
              "    [theme=dark] .colab-df-convert:hover {\n",
              "      background-color: #434B5C;\n",
              "      box-shadow: 0px 1px 3px 1px rgba(0, 0, 0, 0.15);\n",
              "      filter: drop-shadow(0px 1px 2px rgba(0, 0, 0, 0.3));\n",
              "      fill: #FFFFFF;\n",
              "    }\n",
              "  </style>\n",
              "\n",
              "      <script>\n",
              "        const buttonEl =\n",
              "          document.querySelector('#df-26dc04cd-1e1b-4545-b2cf-b3cfbd5790a9 button.colab-df-convert');\n",
              "        buttonEl.style.display =\n",
              "          google.colab.kernel.accessAllowed ? 'block' : 'none';\n",
              "\n",
              "        async function convertToInteractive(key) {\n",
              "          const element = document.querySelector('#df-26dc04cd-1e1b-4545-b2cf-b3cfbd5790a9');\n",
              "          const dataTable =\n",
              "            await google.colab.kernel.invokeFunction('convertToInteractive',\n",
              "                                                     [key], {});\n",
              "          if (!dataTable) return;\n",
              "\n",
              "          const docLinkHtml = 'Like what you see? Visit the ' +\n",
              "            '<a target=\"_blank\" href=https://colab.research.google.com/notebooks/data_table.ipynb>data table notebook</a>'\n",
              "            + ' to learn more about interactive tables.';\n",
              "          element.innerHTML = '';\n",
              "          dataTable['output_type'] = 'display_data';\n",
              "          await google.colab.output.renderOutput(dataTable, element);\n",
              "          const docLink = document.createElement('div');\n",
              "          docLink.innerHTML = docLinkHtml;\n",
              "          element.appendChild(docLink);\n",
              "        }\n",
              "      </script>\n",
              "    </div>\n",
              "  </div>\n",
              "  "
            ]
          },
          "metadata": {}
        }
      ]
    },
    {
      "cell_type": "markdown",
      "source": [
        "## Feature 2 - Bathrooms "
      ],
      "metadata": {
        "id": "qtTUpDARRsMW"
      }
    },
    {
      "cell_type": "code",
      "source": [
        "prop_data['baths'] = prop_data['baths'].replace('Call', np.NaN)\n",
        "prop_data['bath'] = prop_data['baths_half'].fillna(0) / 2 + prop_data['baths_full'].fillna(0)\n",
        "\n",
        "# No bathrooms? No way.  Make these NAN and fill during pipelines later\n",
        "prop_data['bath'] = prop_data['bath'].replace(0, np.NaN)\n"
      ],
      "metadata": {
        "id": "Goxbk30JRrOe"
      },
      "execution_count": 13,
      "outputs": []
    },
    {
      "cell_type": "markdown",
      "source": [
        "## Feature 3 - Align binary values across variable types"
      ],
      "metadata": {
        "id": "QkX1EmEnR_CJ"
      }
    },
    {
      "cell_type": "code",
      "source": [
        "binary_cols = ['is_showcase', 'is_new_construction', 'has_leadform', 'is_cobroker', 'is_foreclosure', 'price_reduced']\n",
        "\n",
        "prop_data[binary_cols] = prop_data[binary_cols].fillna(False)\n",
        "\n",
        "for col in binary_cols:\n",
        "    print(col)\n",
        "    display(prop_data[col].value_counts(dropna=False))"
      ],
      "metadata": {
        "colab": {
          "base_uri": "https://localhost:8080/",
          "height": 399
        },
        "id": "u7EsI36sR_Ty",
        "outputId": "7b402ad7-91c0-4649-fc98-74928a730d70"
      },
      "execution_count": 14,
      "outputs": [
        {
          "output_type": "stream",
          "name": "stdout",
          "text": [
            "is_showcase\n"
          ]
        },
        {
          "output_type": "display_data",
          "data": {
            "text/plain": [
              "False    649\n",
              "Name: is_showcase, dtype: int64"
            ]
          },
          "metadata": {}
        },
        {
          "output_type": "stream",
          "name": "stdout",
          "text": [
            "is_new_construction\n"
          ]
        },
        {
          "output_type": "display_data",
          "data": {
            "text/plain": [
              "False    590\n",
              "True      59\n",
              "Name: is_new_construction, dtype: int64"
            ]
          },
          "metadata": {}
        },
        {
          "output_type": "stream",
          "name": "stdout",
          "text": [
            "has_leadform\n"
          ]
        },
        {
          "output_type": "display_data",
          "data": {
            "text/plain": [
              "False    649\n",
              "Name: has_leadform, dtype: int64"
            ]
          },
          "metadata": {}
        },
        {
          "output_type": "stream",
          "name": "stdout",
          "text": [
            "is_cobroker\n"
          ]
        },
        {
          "output_type": "display_data",
          "data": {
            "text/plain": [
              "True     395\n",
              "False    254\n",
              "Name: is_cobroker, dtype: int64"
            ]
          },
          "metadata": {}
        },
        {
          "output_type": "stream",
          "name": "stdout",
          "text": [
            "is_foreclosure\n"
          ]
        },
        {
          "output_type": "display_data",
          "data": {
            "text/plain": [
              "False    647\n",
              "True       2\n",
              "Name: is_foreclosure, dtype: int64"
            ]
          },
          "metadata": {}
        },
        {
          "output_type": "stream",
          "name": "stdout",
          "text": [
            "price_reduced\n"
          ]
        },
        {
          "output_type": "display_data",
          "data": {
            "text/plain": [
              "False    566\n",
              "True      83\n",
              "Name: price_reduced, dtype: int64"
            ]
          },
          "metadata": {}
        }
      ]
    },
    {
      "cell_type": "markdown",
      "source": [
        "## Feature 4 - Unit Conversions\n"
      ],
      "metadata": {
        "id": "KSFSy6DtSJDH"
      }
    },
    {
      "cell_type": "code",
      "source": [
        "# Extract lot sizes, convert to same units\n",
        "\n",
        "def acres_to_sqft(row):\n",
        "    if 'acres' in str(row['lot_size']):\n",
        "        return float(str.strip(row['lot_size'].replace('acres', '').replace(',', ''))) * 43560\n",
        "    elif 'sq ft lot' in str(row['lot_size']):\n",
        "        return float(str.strip(row['lot_size'].replace('sq ft lot', '').replace(',', '')))\n",
        "    elif pd.isna(row['lot_size']):\n",
        "        return row['lot_size']   \n",
        "    else:\n",
        "        return -1   \n",
        "\n",
        "prop_data['lot_size_sqft'] = prop_data.apply(acres_to_sqft, axis=1)\n",
        "\n",
        "display(f\"Unclassified Values: {prop_data[ prop_data['lot_size_sqft'] == -1].shape[0]}\")"
      ],
      "metadata": {
        "colab": {
          "base_uri": "https://localhost:8080/",
          "height": 36
        },
        "id": "MIOfSNiEbtg8",
        "outputId": "3cb2ba73-b9b0-464e-9a79-99775d9e342e"
      },
      "execution_count": 15,
      "outputs": [
        {
          "output_type": "display_data",
          "data": {
            "text/plain": [
              "'Unclassified Values: 0'"
            ],
            "application/vnd.google.colaboratory.intrinsic+json": {
              "type": "string"
            }
          },
          "metadata": {}
        }
      ]
    },
    {
      "cell_type": "markdown",
      "source": [
        "## Feature 5 - Days on Market + Days at Reduced Price\n"
      ],
      "metadata": {
        "id": "-L2IUSKtSY5m"
      }
    },
    {
      "cell_type": "code",
      "source": [
        "prop_data['dom'] = (prop_data['sold_date'].dt.date - prop_data['list_date']).dt.days\n",
        "\n",
        "prop_data['drp'] = np.where(pd.isna(prop_data['price_reduced_date']),\n",
        "                                    np.NaN,\n",
        "                                    (prop_data['sold_date'].dt.date  - prop_data['price_reduced_date']).dt.days)\n",
        "\n",
        "\n"
      ],
      "metadata": {
        "id": "W-5CH0ACafhU"
      },
      "execution_count": 16,
      "outputs": []
    },
    {
      "cell_type": "code",
      "source": [
        "\n",
        "\n",
        "fig, ax = plt.subplots(1,2)\n",
        "\n",
        "sns.histplot(\n",
        "    data=prop_data, \n",
        "    x=\"dom\", \n",
        "    hue='prop_type', \n",
        "    kde=False, \n",
        "    element='step', \n",
        "    fill=False,\n",
        "    ax=ax[0]\n",
        ")\n",
        "\n",
        "sns.histplot(\n",
        "    data=prop_data, \n",
        "    x=\"drp\", \n",
        "    hue='prop_type', \n",
        "    kde=False, \n",
        "    element='step', \n",
        "    fill=False,\n",
        "    ax=ax[1]\n",
        ")\n",
        "\n",
        "fig.show()"
      ],
      "metadata": {
        "colab": {
          "base_uri": "https://localhost:8080/",
          "height": 297
        },
        "id": "9ep7zSQBRqgR",
        "outputId": "b390dfdd-856a-4e78-881b-56fa297b7c82"
      },
      "execution_count": 17,
      "outputs": [
        {
          "output_type": "display_data",
          "data": {
            "text/plain": [
              "<Figure size 432x288 with 2 Axes>"
            ],
            "image/png": "[encoded data removed]"
          },
          "metadata": {
            "needs_background": "light"
          }
        }
      ]
    },
    {
      "cell_type": "markdown",
      "source": [
        "## Feature 6 - Date Unpacking"
      ],
      "metadata": {
        "id": "hV8Sn9xWeLjY"
      }
    },
    {
      "cell_type": "code",
      "source": [
        "prop_data = prop_data.assign(sold_year = prop_data['sold_date'].dt.year, \n",
        "                 sold_quarter = prop_data['sold_date'].dt.quarter,\n",
        "                 sold_month = prop_data['sold_date'].dt.month,\n",
        "                 sold_week = prop_data['sold_date'].dt.isocalendar().week,\n",
        "                 sold_day = prop_data['sold_date'].dt.day)"
      ],
      "metadata": {
        "id": "_3cPdpz7eh8a"
      },
      "execution_count": 18,
      "outputs": []
    },
    {
      "cell_type": "markdown",
      "source": [
        "## Feature 7 - Distance to Water"
      ],
      "metadata": {
        "id": "jdPl14qOvu7l"
      }
    },
    {
      "cell_type": "code",
      "source": [
        "!pip install geopandas\n",
        "\n",
        "import geopy.distance\n",
        "import geopandas as gpd\n",
        "\n",
        "from shapely.geometry import Point"
      ],
      "metadata": {
        "colab": {
          "base_uri": "https://localhost:8080/"
        },
        "id": "L9Fgz9mfvvBP",
        "outputId": "4ee97e9e-c4bc-4266-a451-f67d16c29f44"
      },
      "execution_count": 25,
      "outputs": [
        {
          "output_type": "stream",
          "name": "stdout",
          "text": [
            "Looking in indexes: https://pypi.org/simple, https://us-python.pkg.dev/colab-wheels/public/simple/\n",
            "Collecting geopandas\n",
            "  Downloading geopandas-0.10.2-py2.py3-none-any.whl (1.0 MB)\n",
            "\u001b[K     |████████████████████████████████| 1.0 MB 6.5 MB/s \n",
            "\u001b[?25hCollecting fiona>=1.8\n",
            "  Downloading Fiona-1.8.21-cp37-cp37m-manylinux2014_x86_64.whl (16.7 MB)\n",
            "\u001b[K     |████████████████████████████████| 16.7 MB 302 kB/s \n",
            "\u001b[?25hCollecting pyproj>=2.2.0\n",
            "  Downloading pyproj-3.2.1-cp37-cp37m-manylinux2010_x86_64.whl (6.3 MB)\n",
            "\u001b[K     |████████████████████████████████| 6.3 MB 48.8 MB/s \n",
            "\u001b[?25hRequirement already satisfied: shapely>=1.6 in /usr/local/lib/python3.7/dist-packages (from geopandas) (1.8.2)\n",
            "Requirement already satisfied: pandas>=0.25.0 in /usr/local/lib/python3.7/dist-packages (from geopandas) (1.3.5)\n",
            "Collecting munch\n",
            "  Downloading munch-2.5.0-py2.py3-none-any.whl (10 kB)\n",
            "Requirement already satisfied: six>=1.7 in /usr/local/lib/python3.7/dist-packages (from fiona>=1.8->geopandas) (1.15.0)\n",
            "Requirement already satisfied: setuptools in /usr/local/lib/python3.7/dist-packages (from fiona>=1.8->geopandas) (57.4.0)\n",
            "Requirement already satisfied: certifi in /usr/local/lib/python3.7/dist-packages (from fiona>=1.8->geopandas) (2022.6.15)\n",
            "Collecting click-plugins>=1.0\n",
            "  Downloading click_plugins-1.1.1-py2.py3-none-any.whl (7.5 kB)\n",
            "Collecting cligj>=0.5\n",
            "  Downloading cligj-0.7.2-py3-none-any.whl (7.1 kB)\n",
            "Requirement already satisfied: click>=4.0 in /usr/local/lib/python3.7/dist-packages (from fiona>=1.8->geopandas) (7.1.2)\n",
            "Requirement already satisfied: attrs>=17 in /usr/local/lib/python3.7/dist-packages (from fiona>=1.8->geopandas) (21.4.0)\n",
            "Requirement already satisfied: pytz>=2017.3 in /usr/local/lib/python3.7/dist-packages (from pandas>=0.25.0->geopandas) (2022.1)\n",
            "Requirement already satisfied: python-dateutil>=2.7.3 in /usr/local/lib/python3.7/dist-packages (from pandas>=0.25.0->geopandas) (2.8.2)\n",
            "Requirement already satisfied: numpy>=1.17.3 in /usr/local/lib/python3.7/dist-packages (from pandas>=0.25.0->geopandas) (1.21.6)\n",
            "Installing collected packages: munch, cligj, click-plugins, pyproj, fiona, geopandas\n",
            "Successfully installed click-plugins-1.1.1 cligj-0.7.2 fiona-1.8.21 geopandas-0.10.2 munch-2.5.0 pyproj-3.2.1\n"
          ]
        }
      ]
    },
    {
      "cell_type": "code",
      "source": [
        "oceans = gpd.read_file(\"https://raw.githubusercontent.com/vanderbilt-ml/51-callahan-mlproj-realestate/715f5ddc6512bda9f1884e2516b63ebfda5fbc05/ne_10m_lakes.zip\")\n",
        "oceans = oceans.dropna(subset=['name_en'])\n",
        "oceans = oceans[ oceans['name_en'].str.contains('Michigan|Huron') ]\n",
        "\n",
        "# https://gis-michigan.opendata.arcgis.com/datasets/lake-polygons/explore?location=44.632311%2C-85.507423%2C7.31\n",
        "lakes = gpd.read_file('https://raw.githubusercontent.com/vanderbilt-ml/51-callahan-mlproj-realestate/715f5ddc6512bda9f1884e2516b63ebfda5fbc05/MI_lakes_at_least_500_hectares.zip')\n"
      ],
      "metadata": {
        "id": "Z_JDqkuGv33N"
      },
      "execution_count": 28,
      "outputs": []
    },
    {
      "cell_type": "code",
      "source": [
        "# Minimum size body of water to count as a \"lake\"\n",
        "lakes = lakes[ lakes['HECTARES'] >= 500]\n",
        "\n",
        "lakes = lakes[['geometry', 'NAME']]\n",
        "oceans = oceans[['geometry', 'name']]\n",
        "\n",
        "# Combine polygon data\n",
        "lakes = lakes.append(oceans)\n",
        "\n",
        "# Coalesce names and set index\n",
        "lakes['NAME'].fillna(lakes['name'], inplace=True)\n",
        "lakes['NAME'].fillna('unknown', inplace=True)\n",
        "\n",
        "lakes = lakes.set_index('NAME').drop(columns=['name'])"
      ],
      "metadata": {
        "id": "E95aVFeKv6mP"
      },
      "execution_count": 29,
      "outputs": []
    },
    {
      "cell_type": "code",
      "source": [
        "# https://sciencing.com/convert-latitude-longtitude-feet-2724.html\n",
        "# https://stackoverflow.com/questions/30740046/calculate-distance-to-nearest-feature-with-geopandas\n",
        "\n",
        "def min_distance(point, lines):\n",
        "    if 'nan' in str(point):\n",
        "        return (-1, 'NA')\n",
        "    \n",
        "    return (lines.distance(point).min() * 111139.0, lines.distance(point).idxmin()) \n",
        "\n",
        "prop_data_geo['dist_to_water_meters'], \\\n",
        "prop_data_geo['nearest_water_feature'] = zip(*prop_data_geo['geometry'].apply(min_distance, \n",
        "                                                                                  args=(lakes['geometry'],)))\n",
        "\n"
      ],
      "metadata": {
        "colab": {
          "base_uri": "https://localhost:8080/"
        },
        "id": "0mZQ_jnov6t8",
        "outputId": "8f1949f7-a701-470c-b293-6fb32cfb3e6d"
      },
      "execution_count": 31,
      "outputs": [
        {
          "output_type": "stream",
          "name": "stderr",
          "text": [
            "/usr/local/lib/python3.7/dist-packages/ipykernel_launcher.py:8: UserWarning: Geometry is in a geographic CRS. Results from 'distance' are likely incorrect. Use 'GeoSeries.to_crs()' to re-project geometries to a projected CRS before this operation.\n",
            "\n",
            "  \n"
          ]
        }
      ]
    },
    {
      "cell_type": "code",
      "source": [
        "minx, maxx = -86.25, -84.75\n",
        "miny, maxy = 44.5, 46\n",
        "\n",
        "fig,ax = plt.subplots(figsize = (10,10))\n",
        "\n",
        "ax.set_xlim(minx, maxx)\n",
        "ax.set_ylim(miny, maxy)\n",
        "\n",
        "crs = {'init':'EPSG:4326'}\n",
        "geometry = [Point(xy) for xy in zip(prop_data['lon'], prop_data['lat'])]\n",
        "\n",
        "prop_data_geo = gpd.GeoDataFrame(prop_data, \n",
        "                                    crs=crs,\n",
        "                                    geometry=geometry)\n",
        "\n",
        "lakes.plot(ax=ax, color='lightgrey')\n",
        "\n",
        "prop_data_geo[prop_data_geo['dist_to_water_meters'] > 0].plot(ax=ax, \n",
        "                           column='dist_to_water_meters', \n",
        "                           cmap = 'seismic', \n",
        "                           legend=True, \n",
        "                           legend_kwds={'shrink': 0.3},\n",
        "                           markersize = 15)"
      ],
      "metadata": {
        "colab": {
          "base_uri": "https://localhost:8080/",
          "height": 801
        },
        "id": "gD9Sq4a_wsPh",
        "outputId": "ff10447e-3faf-4dba-d2fb-bdaf53821fe0"
      },
      "execution_count": 32,
      "outputs": [
        {
          "output_type": "stream",
          "name": "stderr",
          "text": [
            "/usr/local/lib/python3.7/dist-packages/pyproj/crs/crs.py:131: FutureWarning: '+init=<authority>:<code>' syntax is deprecated. '<authority>:<code>' is the preferred initialization method. When making the change, be mindful of axis order changes: https://pyproj4.github.io/pyproj/stable/gotchas.html#axis-order-changes-in-proj-6\n",
            "  in_crs_string = _prepare_from_proj_string(in_crs_string)\n"
          ]
        },
        {
          "output_type": "execute_result",
          "data": {
            "text/plain": [
              "<matplotlib.axes._subplots.AxesSubplot at 0x7f5b438b0b10>"
            ]
          },
          "metadata": {},
          "execution_count": 32
        },
        {
          "output_type": "display_data",
          "data": {
            "text/plain": [
              "<Figure size 720x720 with 2 Axes>"
            ],
            "image/png": "[encoded data removed]"
          },
          "metadata": {
            "needs_background": "light"
          }
        }
      ]
    },
    {
      "cell_type": "markdown",
      "source": [
        "## Remove unusable variables"
      ],
      "metadata": {
        "id": "7WfDhJSUd5bM"
      }
    },
    {
      "cell_type": "markdown",
      "source": [
        "Last update > Sold date means a listing was changed after sale, which seems like a bad value to use in sale prediction"
      ],
      "metadata": {
        "id": "i0HlOvAHi7Fs"
      }
    },
    {
      "cell_type": "code",
      "source": [
        "prop_data[ prop_data['last_update'] > prop_data['sold_date'] ].shape"
      ],
      "metadata": {
        "colab": {
          "base_uri": "https://localhost:8080/"
        },
        "id": "Y46uxZyni6Vl",
        "outputId": "6cfa4598-7a27-4c1a-df5f-03c89cedd667"
      },
      "execution_count": 39,
      "outputs": [
        {
          "output_type": "execute_result",
          "data": {
            "text/plain": [
              "(469, 57)"
            ]
          },
          "metadata": {},
          "execution_count": 39
        }
      ]
    },
    {
      "cell_type": "code",
      "source": [
        "drop_columns = ['address', 'address_new', 'prop_status', 'price', 'sqft', 'photo', 'short_price', 'products',\n",
        "              'photo_count', 'page_no', 'rank', 'list_tracking', 'listing_id', 'property_id', \n",
        "              'advertiser_id', 'agent_photo', 'office_name', 'office_advertiser_id', 'snapshot_date', 'agent_name',\n",
        "              'last_update']\n",
        "\n",
        "\n",
        "clean_drop = ['lot_size', 'baths', 'baths_full', 'baths_half', 'price_reduced', 'price_reduced_date', 'list_date', 'sold_date', 'geometry']\n"
      ],
      "metadata": {
        "id": "9YSqGEnsXWGc"
      },
      "execution_count": 43,
      "outputs": []
    },
    {
      "cell_type": "code",
      "source": [
        "prop_data_input = prop_data_geo.drop(columns=drop_columns + clean_drop)"
      ],
      "metadata": {
        "id": "DSG79F2TXKUP"
      },
      "execution_count": 44,
      "outputs": []
    },
    {
      "cell_type": "code",
      "source": [
        "prop_data_input.info()"
      ],
      "metadata": {
        "id": "i9Z2syjcbAvi",
        "outputId": "be71b737-8a8a-46b2-ffd6-b206bd1ce73e",
        "colab": {
          "base_uri": "https://localhost:8080/"
        }
      },
      "execution_count": 47,
      "outputs": [
        {
          "output_type": "stream",
          "name": "stdout",
          "text": [
            "<class 'geopandas.geodataframe.GeoDataFrame'>\n",
            "Int64Index: 649 entries, 0 to 942\n",
            "Data columns (total 27 columns):\n",
            " #   Column                 Non-Null Count  Dtype  \n",
            "---  ------                 --------------  -----  \n",
            " 0   prop_type              649 non-null    object \n",
            " 1   price_raw              649 non-null    int64  \n",
            " 2   sqft_raw               649 non-null    float64\n",
            " 3   is_showcase            649 non-null    bool   \n",
            " 4   is_new_construction    649 non-null    bool   \n",
            " 5   beds                   577 non-null    float64\n",
            " 6   lat                    649 non-null    float64\n",
            " 7   lon                    649 non-null    float64\n",
            " 8   has_leadform           649 non-null    bool   \n",
            " 9   is_cobroker            649 non-null    bool   \n",
            " 10  is_foreclosure         649 non-null    bool   \n",
            " 11  city                   649 non-null    object \n",
            " 12  state                  649 non-null    object \n",
            " 13  state_code             649 non-null    object \n",
            " 14  postal_code            649 non-null    object \n",
            " 15  county                 649 non-null    object \n",
            " 16  bath                   608 non-null    float64\n",
            " 17  lot_size_sqft          489 non-null    float64\n",
            " 18  dom                    500 non-null    float64\n",
            " 19  drp                    83 non-null     float64\n",
            " 20  sold_year              649 non-null    int64  \n",
            " 21  sold_quarter           649 non-null    int64  \n",
            " 22  sold_month             649 non-null    int64  \n",
            " 23  sold_week              649 non-null    UInt32 \n",
            " 24  sold_day               649 non-null    int64  \n",
            " 25  dist_to_water_meters   649 non-null    float64\n",
            " 26  nearest_water_feature  649 non-null    object \n",
            "dtypes: UInt32(1), bool(5), float64(9), int64(5), object(7)\n",
            "memory usage: 134.0+ KB\n"
          ]
        }
      ]
    },
    {
      "cell_type": "markdown",
      "source": [
        "# Prepare Model"
      ],
      "metadata": {
        "id": "DwU4XG3aWVug"
      }
    },
    {
      "cell_type": "code",
      "source": [
        "from sklearn.model_selection import train_test_split, GridSearchCV\n",
        "from sklearn.metrics import mean_squared_error, mean_absolute_percentage_error, r2_score\n",
        "from sklearn.ensemble import RandomForestRegressor, GradientBoostingRegressor\n",
        "from sklearn.linear_model import LinearRegression\n",
        "from sklearn.pipeline import Pipeline \n",
        "from sklearn.compose import ColumnTransformer, make_column_selector\n",
        "from sklearn.impute import SimpleImputer\n",
        "from sklearn.preprocessing import OneHotEncoder, LabelBinarizer, StandardScaler\n",
        "from sklearn import config_context\n",
        "# from sklearn.metrics import classification_report, confusion_matrix, ConfusionMatrixDisplay\n",
        "\n",
        "from sklearn.inspection import permutation_importance\n",
        "\n",
        "show_importances = False\n",
        "\n",
        "# https://scikit-learn.org/stable/auto_examples/linear_model/plot_poisson_regression_non_normal_loss.html#sphx-glr-auto-examples-linear-model-plot-poisson-regression-non-normal-loss-py"
      ],
      "metadata": {
        "id": "dEuImWDTWVFi"
      },
      "execution_count": 61,
      "outputs": []
    },
    {
      "cell_type": "code",
      "source": [
        "X_train, X_test, y_train, y_test = train_test_split(prop_data_input.drop(columns='price_raw'), \n",
        "                                                    prop_data_input['price_raw'],\n",
        "                                                    test_size=0.2, \n",
        "                                                    random_state=1234, \n",
        "                                                    stratify=prop_data_input['prop_type'])\n",
        "\n",
        "print(X_train.shape, X_test.shape, y_train.shape, y_test.shape)\n",
        "\n",
        "num_cols = X_train.select_dtypes(include=np.number).columns.tolist()\n",
        "cat_cols = X_train.select_dtypes(exclude=np.number).columns.tolist()\n",
        "\n",
        "cat_pipeline = Pipeline(steps=[('cat_impute', SimpleImputer(strategy='most_frequent')),\n",
        "                               ('onehot_cat', OneHotEncoder(handle_unknown='ignore', \n",
        "                                                            drop='if_binary')\n",
        "                               )])\n",
        "\n",
        "num_pipeline = Pipeline(steps=[('impute_num', SimpleImputer(strategy='mean')),\n",
        "                               ('scale_num', StandardScaler())])\n",
        "\n",
        "preproc = ColumnTransformer([('cat_pipe', cat_pipeline, cat_cols),\n",
        "                             ('num_pipe', num_pipeline, num_cols)],\n",
        "                             remainder='passthrough')\n"
      ],
      "metadata": {
        "id": "BBz4ynxVNHIv",
        "colab": {
          "base_uri": "https://localhost:8080/"
        },
        "outputId": "193a1041-3934-4abf-ce5b-720d355dd77d"
      },
      "execution_count": 50,
      "outputs": [
        {
          "output_type": "stream",
          "name": "stdout",
          "text": [
            "(519, 26) (130, 26) (519,) (130,)\n"
          ]
        }
      ]
    },
    {
      "cell_type": "markdown",
      "source": [
        "# Random Forest Regressor"
      ],
      "metadata": {
        "id": "md7VqWU6XDWs"
      }
    },
    {
      "cell_type": "code",
      "source": [
        "pipe = Pipeline(steps=[('preproc', preproc),\n",
        "                       ('mdl', RandomForestRegressor())\n",
        "                       ])\n",
        "\n",
        "# visualization of the pipeline\n",
        "with config_context(display='diagram'):\n",
        "    display(pipe)"
      ],
      "metadata": {
        "id": "vypXqb5XZqqw",
        "outputId": "c5c4aba4-1c15-4f5c-90ad-9e2b405eae7b",
        "colab": {
          "base_uri": "https://localhost:8080/",
          "height": 227
        }
      },
      "execution_count": 51,
      "outputs": [
        {
          "output_type": "display_data",
          "data": {
            "text/plain": [
              "Pipeline(steps=[('preproc',\n",
              "                 ColumnTransformer(remainder='passthrough',\n",
              "                                   transformers=[('cat_pipe',\n",
              "                                                  Pipeline(steps=[('cat_impute',\n",
              "                                                                   SimpleImputer(strategy='most_frequent')),\n",
              "                                                                  ('onehot_cat',\n",
              "                                                                   OneHotEncoder(drop='if_binary',\n",
              "                                                                                 handle_unknown='ignore'))]),\n",
              "                                                  ['prop_type', 'is_showcase',\n",
              "                                                   'is_new_construction',\n",
              "                                                   'has_leadform',\n",
              "                                                   'is_cobroker',\n",
              "                                                   'is_foreclosure', 'city',\n",
              "                                                   'state', 'state_code',\n",
              "                                                   'postal_code', 'county',\n",
              "                                                   'nearest_water_feature']),\n",
              "                                                 ('num_pipe',\n",
              "                                                  Pipeline(steps=[('impute_num',\n",
              "                                                                   SimpleImputer()),\n",
              "                                                                  ('scale_num',\n",
              "                                                                   StandardScaler())]),\n",
              "                                                  ['sqft_raw', 'beds', 'lat',\n",
              "                                                   'lon', 'bath',\n",
              "                                                   'lot_size_sqft', 'dom',\n",
              "                                                   'drp', 'sold_year',\n",
              "                                                   'sold_quarter', 'sold_month',\n",
              "                                                   'sold_week', 'sold_day',\n",
              "                                                   'dist_to_water_meters'])])),\n",
              "                ('mdl', RandomForestRegressor())])"
            ],
            "text/html": [
              "<style>#sk-936ab0d7-87ab-4aae-8412-2a0de726b615 {color: black;background-color: white;}#sk-936ab0d7-87ab-4aae-8412-2a0de726b615 pre{padding: 0;}#sk-936ab0d7-87ab-4aae-8412-2a0de726b615 div.sk-toggleable {background-color: white;}#sk-936ab0d7-87ab-4aae-8412-2a0de726b615 label.sk-toggleable__label {cursor: pointer;display: block;width: 100%;margin-bottom: 0;padding: 0.3em;box-sizing: border-box;text-align: center;}#sk-936ab0d7-87ab-4aae-8412-2a0de726b615 label.sk-toggleable__label-arrow:before {content: \"▸\";float: left;margin-right: 0.25em;color: #696969;}#sk-936ab0d7-87ab-4aae-8412-2a0de726b615 label.sk-toggleable__label-arrow:hover:before {color: black;}#sk-936ab0d7-87ab-4aae-8412-2a0de726b615 div.sk-estimator:hover label.sk-toggleable__label-arrow:before {color: black;}#sk-936ab0d7-87ab-4aae-8412-2a0de726b615 div.sk-toggleable__content {max-height: 0;max-width: 0;overflow: hidden;text-align: left;background-color: #f0f8ff;}#sk-936ab0d7-87ab-4aae-8412-2a0de726b615 div.sk-toggleable__content pre {margin: 0.2em;color: black;border-radius: 0.25em;background-color: #f0f8ff;}#sk-936ab0d7-87ab-4aae-8412-2a0de726b615 input.sk-toggleable__control:checked~div.sk-toggleable__content {max-height: 200px;max-width: 100%;overflow: auto;}#sk-936ab0d7-87ab-4aae-8412-2a0de726b615 input.sk-toggleable__control:checked~label.sk-toggleable__label-arrow:before {content: \"▾\";}#sk-936ab0d7-87ab-4aae-8412-2a0de726b615 div.sk-estimator input.sk-toggleable__control:checked~label.sk-toggleable__label {background-color: #d4ebff;}#sk-936ab0d7-87ab-4aae-8412-2a0de726b615 div.sk-label input.sk-toggleable__control:checked~label.sk-toggleable__label {background-color: #d4ebff;}#sk-936ab0d7-87ab-4aae-8412-2a0de726b615 input.sk-hidden--visually {border: 0;clip: rect(1px 1px 1px 1px);clip: rect(1px, 1px, 1px, 1px);height: 1px;margin: -1px;overflow: hidden;padding: 0;position: absolute;width: 1px;}#sk-936ab0d7-87ab-4aae-8412-2a0de726b615 div.sk-estimator {font-family: monospace;background-color: #f0f8ff;border: 1px dotted black;border-radius: 0.25em;box-sizing: border-box;margin-bottom: 0.5em;}#sk-936ab0d7-87ab-4aae-8412-2a0de726b615 div.sk-estimator:hover {background-color: #d4ebff;}#sk-936ab0d7-87ab-4aae-8412-2a0de726b615 div.sk-parallel-item::after {content: \"\";width: 100%;border-bottom: 1px solid gray;flex-grow: 1;}#sk-936ab0d7-87ab-4aae-8412-2a0de726b615 div.sk-label:hover label.sk-toggleable__label {background-color: #d4ebff;}#sk-936ab0d7-87ab-4aae-8412-2a0de726b615 div.sk-serial::before {content: \"\";position: absolute;border-left: 1px solid gray;box-sizing: border-box;top: 2em;bottom: 0;left: 50%;}#sk-936ab0d7-87ab-4aae-8412-2a0de726b615 div.sk-serial {display: flex;flex-direction: column;align-items: center;background-color: white;padding-right: 0.2em;padding-left: 0.2em;}#sk-936ab0d7-87ab-4aae-8412-2a0de726b615 div.sk-item {z-index: 1;}#sk-936ab0d7-87ab-4aae-8412-2a0de726b615 div.sk-parallel {display: flex;align-items: stretch;justify-content: center;background-color: white;}#sk-936ab0d7-87ab-4aae-8412-2a0de726b615 div.sk-parallel::before {content: \"\";position: absolute;border-left: 1px solid gray;box-sizing: border-box;top: 2em;bottom: 0;left: 50%;}#sk-936ab0d7-87ab-4aae-8412-2a0de726b615 div.sk-parallel-item {display: flex;flex-direction: column;position: relative;background-color: white;}#sk-936ab0d7-87ab-4aae-8412-2a0de726b615 div.sk-parallel-item:first-child::after {align-self: flex-end;width: 50%;}#sk-936ab0d7-87ab-4aae-8412-2a0de726b615 div.sk-parallel-item:last-child::after {align-self: flex-start;width: 50%;}#sk-936ab0d7-87ab-4aae-8412-2a0de726b615 div.sk-parallel-item:only-child::after {width: 0;}#sk-936ab0d7-87ab-4aae-8412-2a0de726b615 div.sk-dashed-wrapped {border: 1px dashed gray;margin: 0 0.4em 0.5em 0.4em;box-sizing: border-box;padding-bottom: 0.4em;background-color: white;position: relative;}#sk-936ab0d7-87ab-4aae-8412-2a0de726b615 div.sk-label label {font-family: monospace;font-weight: bold;background-color: white;display: inline-block;line-height: 1.2em;}#sk-936ab0d7-87ab-4aae-8412-2a0de726b615 div.sk-label-container {position: relative;z-index: 2;text-align: center;}#sk-936ab0d7-87ab-4aae-8412-2a0de726b615 div.sk-container {/* jupyter's `normalize.less` sets `[hidden] { display: none; }` but bootstrap.min.css set `[hidden] { display: none !important; }` so we also need the `!important` here to be able to override the default hidden behavior on the sphinx rendered scikit-learn.org. See: https://github.com/scikit-learn/scikit-learn/issues/21755 */display: inline-block !important;position: relative;}#sk-936ab0d7-87ab-4aae-8412-2a0de726b615 div.sk-text-repr-fallback {display: none;}</style><div id=\"sk-936ab0d7-87ab-4aae-8412-2a0de726b615\" class=\"sk-top-container\"><div class=\"sk-text-repr-fallback\"><pre>Pipeline(steps=[(&#x27;preproc&#x27;,\n",
              "                 ColumnTransformer(remainder=&#x27;passthrough&#x27;,\n",
              "                                   transformers=[(&#x27;cat_pipe&#x27;,\n",
              "                                                  Pipeline(steps=[(&#x27;cat_impute&#x27;,\n",
              "                                                                   SimpleImputer(strategy=&#x27;most_frequent&#x27;)),\n",
              "                                                                  (&#x27;onehot_cat&#x27;,\n",
              "                                                                   OneHotEncoder(drop=&#x27;if_binary&#x27;,\n",
              "                                                                                 handle_unknown=&#x27;ignore&#x27;))]),\n",
              "                                                  [&#x27;prop_type&#x27;, &#x27;is_showcase&#x27;,\n",
              "                                                   &#x27;is_new_construction&#x27;,\n",
              "                                                   &#x27;has_leadform&#x27;,\n",
              "                                                   &#x27;is_cobroker&#x27;,\n",
              "                                                   &#x27;is_foreclosure&#x27;, &#x27;city&#x27;,\n",
              "                                                   &#x27;state&#x27;, &#x27;state_code&#x27;,\n",
              "                                                   &#x27;postal_code&#x27;, &#x27;county&#x27;,\n",
              "                                                   &#x27;nearest_water_feature&#x27;]),\n",
              "                                                 (&#x27;num_pipe&#x27;,\n",
              "                                                  Pipeline(steps=[(&#x27;impute_num&#x27;,\n",
              "                                                                   SimpleImputer()),\n",
              "                                                                  (&#x27;scale_num&#x27;,\n",
              "                                                                   StandardScaler())]),\n",
              "                                                  [&#x27;sqft_raw&#x27;, &#x27;beds&#x27;, &#x27;lat&#x27;,\n",
              "                                                   &#x27;lon&#x27;, &#x27;bath&#x27;,\n",
              "                                                   &#x27;lot_size_sqft&#x27;, &#x27;dom&#x27;,\n",
              "                                                   &#x27;drp&#x27;, &#x27;sold_year&#x27;,\n",
              "                                                   &#x27;sold_quarter&#x27;, &#x27;sold_month&#x27;,\n",
              "                                                   &#x27;sold_week&#x27;, &#x27;sold_day&#x27;,\n",
              "                                                   &#x27;dist_to_water_meters&#x27;])])),\n",
              "                (&#x27;mdl&#x27;, RandomForestRegressor())])</pre><b>Please rerun this cell to show the HTML repr or trust the notebook.</b></div><div class=\"sk-container\" hidden><div class=\"sk-item sk-dashed-wrapped\"><div class=\"sk-label-container\"><div class=\"sk-label sk-toggleable\"><input class=\"sk-toggleable__control sk-hidden--visually\" id=\"145f91e6-984f-480e-b069-5ac2865aff94\" type=\"checkbox\" ><label for=\"145f91e6-984f-480e-b069-5ac2865aff94\" class=\"sk-toggleable__label sk-toggleable__label-arrow\">Pipeline</label><div class=\"sk-toggleable__content\"><pre>Pipeline(steps=[(&#x27;preproc&#x27;,\n",
              "                 ColumnTransformer(remainder=&#x27;passthrough&#x27;,\n",
              "                                   transformers=[(&#x27;cat_pipe&#x27;,\n",
              "                                                  Pipeline(steps=[(&#x27;cat_impute&#x27;,\n",
              "                                                                   SimpleImputer(strategy=&#x27;most_frequent&#x27;)),\n",
              "                                                                  (&#x27;onehot_cat&#x27;,\n",
              "                                                                   OneHotEncoder(drop=&#x27;if_binary&#x27;,\n",
              "                                                                                 handle_unknown=&#x27;ignore&#x27;))]),\n",
              "                                                  [&#x27;prop_type&#x27;, &#x27;is_showcase&#x27;,\n",
              "                                                   &#x27;is_new_construction&#x27;,\n",
              "                                                   &#x27;has_leadform&#x27;,\n",
              "                                                   &#x27;is_cobroker&#x27;,\n",
              "                                                   &#x27;is_foreclosure&#x27;, &#x27;city&#x27;,\n",
              "                                                   &#x27;state&#x27;, &#x27;state_code&#x27;,\n",
              "                                                   &#x27;postal_code&#x27;, &#x27;county&#x27;,\n",
              "                                                   &#x27;nearest_water_feature&#x27;]),\n",
              "                                                 (&#x27;num_pipe&#x27;,\n",
              "                                                  Pipeline(steps=[(&#x27;impute_num&#x27;,\n",
              "                                                                   SimpleImputer()),\n",
              "                                                                  (&#x27;scale_num&#x27;,\n",
              "                                                                   StandardScaler())]),\n",
              "                                                  [&#x27;sqft_raw&#x27;, &#x27;beds&#x27;, &#x27;lat&#x27;,\n",
              "                                                   &#x27;lon&#x27;, &#x27;bath&#x27;,\n",
              "                                                   &#x27;lot_size_sqft&#x27;, &#x27;dom&#x27;,\n",
              "                                                   &#x27;drp&#x27;, &#x27;sold_year&#x27;,\n",
              "                                                   &#x27;sold_quarter&#x27;, &#x27;sold_month&#x27;,\n",
              "                                                   &#x27;sold_week&#x27;, &#x27;sold_day&#x27;,\n",
              "                                                   &#x27;dist_to_water_meters&#x27;])])),\n",
              "                (&#x27;mdl&#x27;, RandomForestRegressor())])</pre></div></div></div><div class=\"sk-serial\"><div class=\"sk-item sk-dashed-wrapped\"><div class=\"sk-label-container\"><div class=\"sk-label sk-toggleable\"><input class=\"sk-toggleable__control sk-hidden--visually\" id=\"5a3a7bd0-8dbb-439d-937f-0ae73c53ab3d\" type=\"checkbox\" ><label for=\"5a3a7bd0-8dbb-439d-937f-0ae73c53ab3d\" class=\"sk-toggleable__label sk-toggleable__label-arrow\">preproc: ColumnTransformer</label><div class=\"sk-toggleable__content\"><pre>ColumnTransformer(remainder=&#x27;passthrough&#x27;,\n",
              "                  transformers=[(&#x27;cat_pipe&#x27;,\n",
              "                                 Pipeline(steps=[(&#x27;cat_impute&#x27;,\n",
              "                                                  SimpleImputer(strategy=&#x27;most_frequent&#x27;)),\n",
              "                                                 (&#x27;onehot_cat&#x27;,\n",
              "                                                  OneHotEncoder(drop=&#x27;if_binary&#x27;,\n",
              "                                                                handle_unknown=&#x27;ignore&#x27;))]),\n",
              "                                 [&#x27;prop_type&#x27;, &#x27;is_showcase&#x27;,\n",
              "                                  &#x27;is_new_construction&#x27;, &#x27;has_leadform&#x27;,\n",
              "                                  &#x27;is_cobroker&#x27;, &#x27;is_foreclosure&#x27;, &#x27;city&#x27;,\n",
              "                                  &#x27;state&#x27;, &#x27;state_code&#x27;, &#x27;postal_code&#x27;,\n",
              "                                  &#x27;county&#x27;, &#x27;nearest_water_feature&#x27;]),\n",
              "                                (&#x27;num_pipe&#x27;,\n",
              "                                 Pipeline(steps=[(&#x27;impute_num&#x27;,\n",
              "                                                  SimpleImputer()),\n",
              "                                                 (&#x27;scale_num&#x27;,\n",
              "                                                  StandardScaler())]),\n",
              "                                 [&#x27;sqft_raw&#x27;, &#x27;beds&#x27;, &#x27;lat&#x27;, &#x27;lon&#x27;, &#x27;bath&#x27;,\n",
              "                                  &#x27;lot_size_sqft&#x27;, &#x27;dom&#x27;, &#x27;drp&#x27;, &#x27;sold_year&#x27;,\n",
              "                                  &#x27;sold_quarter&#x27;, &#x27;sold_month&#x27;, &#x27;sold_week&#x27;,\n",
              "                                  &#x27;sold_day&#x27;, &#x27;dist_to_water_meters&#x27;])])</pre></div></div></div><div class=\"sk-parallel\"><div class=\"sk-parallel-item\"><div class=\"sk-item\"><div class=\"sk-label-container\"><div class=\"sk-label sk-toggleable\"><input class=\"sk-toggleable__control sk-hidden--visually\" id=\"db85a79e-e86f-4a0c-a016-0e873563127b\" type=\"checkbox\" ><label for=\"db85a79e-e86f-4a0c-a016-0e873563127b\" class=\"sk-toggleable__label sk-toggleable__label-arrow\">cat_pipe</label><div class=\"sk-toggleable__content\"><pre>[&#x27;prop_type&#x27;, &#x27;is_showcase&#x27;, &#x27;is_new_construction&#x27;, &#x27;has_leadform&#x27;, &#x27;is_cobroker&#x27;, &#x27;is_foreclosure&#x27;, &#x27;city&#x27;, &#x27;state&#x27;, &#x27;state_code&#x27;, &#x27;postal_code&#x27;, &#x27;county&#x27;, &#x27;nearest_water_feature&#x27;]</pre></div></div></div><div class=\"sk-serial\"><div class=\"sk-item\"><div class=\"sk-serial\"><div class=\"sk-item\"><div class=\"sk-estimator sk-toggleable\"><input class=\"sk-toggleable__control sk-hidden--visually\" id=\"b05be656-3989-484f-9221-5f3cc839b6c9\" type=\"checkbox\" ><label for=\"b05be656-3989-484f-9221-5f3cc839b6c9\" class=\"sk-toggleable__label sk-toggleable__label-arrow\">SimpleImputer</label><div class=\"sk-toggleable__content\"><pre>SimpleImputer(strategy=&#x27;most_frequent&#x27;)</pre></div></div></div><div class=\"sk-item\"><div class=\"sk-estimator sk-toggleable\"><input class=\"sk-toggleable__control sk-hidden--visually\" id=\"441730d2-d563-4e04-ad0a-d985b475c3fb\" type=\"checkbox\" ><label for=\"441730d2-d563-4e04-ad0a-d985b475c3fb\" class=\"sk-toggleable__label sk-toggleable__label-arrow\">OneHotEncoder</label><div class=\"sk-toggleable__content\"><pre>OneHotEncoder(drop=&#x27;if_binary&#x27;, handle_unknown=&#x27;ignore&#x27;)</pre></div></div></div></div></div></div></div></div><div class=\"sk-parallel-item\"><div class=\"sk-item\"><div class=\"sk-label-container\"><div class=\"sk-label sk-toggleable\"><input class=\"sk-toggleable__control sk-hidden--visually\" id=\"d98b977b-d9be-4727-b0c0-686e84df78cb\" type=\"checkbox\" ><label for=\"d98b977b-d9be-4727-b0c0-686e84df78cb\" class=\"sk-toggleable__label sk-toggleable__label-arrow\">num_pipe</label><div class=\"sk-toggleable__content\"><pre>[&#x27;sqft_raw&#x27;, &#x27;beds&#x27;, &#x27;lat&#x27;, &#x27;lon&#x27;, &#x27;bath&#x27;, &#x27;lot_size_sqft&#x27;, &#x27;dom&#x27;, &#x27;drp&#x27;, &#x27;sold_year&#x27;, &#x27;sold_quarter&#x27;, &#x27;sold_month&#x27;, &#x27;sold_week&#x27;, &#x27;sold_day&#x27;, &#x27;dist_to_water_meters&#x27;]</pre></div></div></div><div class=\"sk-serial\"><div class=\"sk-item\"><div class=\"sk-serial\"><div class=\"sk-item\"><div class=\"sk-estimator sk-toggleable\"><input class=\"sk-toggleable__control sk-hidden--visually\" id=\"0a9adea0-329a-4207-9ba6-61619c4278b0\" type=\"checkbox\" ><label for=\"0a9adea0-329a-4207-9ba6-61619c4278b0\" class=\"sk-toggleable__label sk-toggleable__label-arrow\">SimpleImputer</label><div class=\"sk-toggleable__content\"><pre>SimpleImputer()</pre></div></div></div><div class=\"sk-item\"><div class=\"sk-estimator sk-toggleable\"><input class=\"sk-toggleable__control sk-hidden--visually\" id=\"ccc6c6df-856c-4434-96b3-f0871a73800a\" type=\"checkbox\" ><label for=\"ccc6c6df-856c-4434-96b3-f0871a73800a\" class=\"sk-toggleable__label sk-toggleable__label-arrow\">StandardScaler</label><div class=\"sk-toggleable__content\"><pre>StandardScaler()</pre></div></div></div></div></div></div></div></div><div class=\"sk-parallel-item\"><div class=\"sk-item\"><div class=\"sk-label-container\"><div class=\"sk-label sk-toggleable\"><input class=\"sk-toggleable__control sk-hidden--visually\" id=\"ce5feece-33d6-4b27-b222-412ddd95f5cf\" type=\"checkbox\" ><label for=\"ce5feece-33d6-4b27-b222-412ddd95f5cf\" class=\"sk-toggleable__label sk-toggleable__label-arrow\">remainder</label><div class=\"sk-toggleable__content\"><pre></pre></div></div></div><div class=\"sk-serial\"><div class=\"sk-item\"><div class=\"sk-estimator sk-toggleable\"><input class=\"sk-toggleable__control sk-hidden--visually\" id=\"5bccc803-ef72-4113-8899-641bce042e2c\" type=\"checkbox\" ><label for=\"5bccc803-ef72-4113-8899-641bce042e2c\" class=\"sk-toggleable__label sk-toggleable__label-arrow\">passthrough</label><div class=\"sk-toggleable__content\"><pre>passthrough</pre></div></div></div></div></div></div></div></div><div class=\"sk-item\"><div class=\"sk-estimator sk-toggleable\"><input class=\"sk-toggleable__control sk-hidden--visually\" id=\"1aa98e3a-be2b-46c6-9225-22e9aadd7cbd\" type=\"checkbox\" ><label for=\"1aa98e3a-be2b-46c6-9225-22e9aadd7cbd\" class=\"sk-toggleable__label sk-toggleable__label-arrow\">RandomForestRegressor</label><div class=\"sk-toggleable__content\"><pre>RandomForestRegressor()</pre></div></div></div></div></div></div></div>"
            ]
          },
          "metadata": {}
        }
      ]
    },
    {
      "cell_type": "code",
      "source": [
        "tuning_grid = {'mdl__n_estimators' : [100, 300, 500],\n",
        "               'mdl__max_features': [0.3, 0.5, 0.7, 1.0] }\n",
        "\n",
        "grid_search = GridSearchCV(pipe, \n",
        "                           param_grid = tuning_grid, \n",
        "                           cv = 5, \n",
        "                           return_train_score=True)"
      ],
      "metadata": {
        "id": "65puPhs8aRhF"
      },
      "execution_count": 52,
      "outputs": []
    },
    {
      "cell_type": "code",
      "source": [
        "grid_search.fit(X_train, y_train)"
      ],
      "metadata": {
        "id": "E9maZOKibcc1",
        "outputId": "5ed46134-a5f9-42cd-e130-c6adec04a46e",
        "colab": {
          "base_uri": "https://localhost:8080/"
        }
      },
      "execution_count": 53,
      "outputs": [
        {
          "output_type": "stream",
          "name": "stderr",
          "text": [
            "/usr/local/lib/python3.7/dist-packages/sklearn/preprocessing/_encoders.py:174: UserWarning: Found unknown categories in columns [10] during transform. These unknown categories will be encoded as all zeros\n",
            "  UserWarning,\n",
            "/usr/local/lib/python3.7/dist-packages/sklearn/preprocessing/_encoders.py:174: UserWarning: Found unknown categories in columns [9] during transform. These unknown categories will be encoded as all zeros\n",
            "  UserWarning,\n",
            "/usr/local/lib/python3.7/dist-packages/sklearn/preprocessing/_encoders.py:174: UserWarning: Found unknown categories in columns [9] during transform. These unknown categories will be encoded as all zeros\n",
            "  UserWarning,\n",
            "/usr/local/lib/python3.7/dist-packages/sklearn/preprocessing/_encoders.py:174: UserWarning: Found unknown categories in columns [10] during transform. These unknown categories will be encoded as all zeros\n",
            "  UserWarning,\n",
            "/usr/local/lib/python3.7/dist-packages/sklearn/preprocessing/_encoders.py:174: UserWarning: Found unknown categories in columns [9] during transform. These unknown categories will be encoded as all zeros\n",
            "  UserWarning,\n",
            "/usr/local/lib/python3.7/dist-packages/sklearn/preprocessing/_encoders.py:174: UserWarning: Found unknown categories in columns [9] during transform. These unknown categories will be encoded as all zeros\n",
            "  UserWarning,\n",
            "/usr/local/lib/python3.7/dist-packages/sklearn/preprocessing/_encoders.py:174: UserWarning: Found unknown categories in columns [10] during transform. These unknown categories will be encoded as all zeros\n",
            "  UserWarning,\n",
            "/usr/local/lib/python3.7/dist-packages/sklearn/preprocessing/_encoders.py:174: UserWarning: Found unknown categories in columns [9] during transform. These unknown categories will be encoded as all zeros\n",
            "  UserWarning,\n",
            "/usr/local/lib/python3.7/dist-packages/sklearn/preprocessing/_encoders.py:174: UserWarning: Found unknown categories in columns [9] during transform. These unknown categories will be encoded as all zeros\n",
            "  UserWarning,\n",
            "/usr/local/lib/python3.7/dist-packages/sklearn/preprocessing/_encoders.py:174: UserWarning: Found unknown categories in columns [10] during transform. These unknown categories will be encoded as all zeros\n",
            "  UserWarning,\n",
            "/usr/local/lib/python3.7/dist-packages/sklearn/preprocessing/_encoders.py:174: UserWarning: Found unknown categories in columns [9] during transform. These unknown categories will be encoded as all zeros\n",
            "  UserWarning,\n",
            "/usr/local/lib/python3.7/dist-packages/sklearn/preprocessing/_encoders.py:174: UserWarning: Found unknown categories in columns [9] during transform. These unknown categories will be encoded as all zeros\n",
            "  UserWarning,\n",
            "/usr/local/lib/python3.7/dist-packages/sklearn/preprocessing/_encoders.py:174: UserWarning: Found unknown categories in columns [10] during transform. These unknown categories will be encoded as all zeros\n",
            "  UserWarning,\n",
            "/usr/local/lib/python3.7/dist-packages/sklearn/preprocessing/_encoders.py:174: UserWarning: Found unknown categories in columns [9] during transform. These unknown categories will be encoded as all zeros\n",
            "  UserWarning,\n",
            "/usr/local/lib/python3.7/dist-packages/sklearn/preprocessing/_encoders.py:174: UserWarning: Found unknown categories in columns [9] during transform. These unknown categories will be encoded as all zeros\n",
            "  UserWarning,\n",
            "/usr/local/lib/python3.7/dist-packages/sklearn/preprocessing/_encoders.py:174: UserWarning: Found unknown categories in columns [10] during transform. These unknown categories will be encoded as all zeros\n",
            "  UserWarning,\n",
            "/usr/local/lib/python3.7/dist-packages/sklearn/preprocessing/_encoders.py:174: UserWarning: Found unknown categories in columns [9] during transform. These unknown categories will be encoded as all zeros\n",
            "  UserWarning,\n",
            "/usr/local/lib/python3.7/dist-packages/sklearn/preprocessing/_encoders.py:174: UserWarning: Found unknown categories in columns [9] during transform. These unknown categories will be encoded as all zeros\n",
            "  UserWarning,\n",
            "/usr/local/lib/python3.7/dist-packages/sklearn/preprocessing/_encoders.py:174: UserWarning: Found unknown categories in columns [10] during transform. These unknown categories will be encoded as all zeros\n",
            "  UserWarning,\n",
            "/usr/local/lib/python3.7/dist-packages/sklearn/preprocessing/_encoders.py:174: UserWarning: Found unknown categories in columns [9] during transform. These unknown categories will be encoded as all zeros\n",
            "  UserWarning,\n",
            "/usr/local/lib/python3.7/dist-packages/sklearn/preprocessing/_encoders.py:174: UserWarning: Found unknown categories in columns [9] during transform. These unknown categories will be encoded as all zeros\n",
            "  UserWarning,\n",
            "/usr/local/lib/python3.7/dist-packages/sklearn/preprocessing/_encoders.py:174: UserWarning: Found unknown categories in columns [10] during transform. These unknown categories will be encoded as all zeros\n",
            "  UserWarning,\n",
            "/usr/local/lib/python3.7/dist-packages/sklearn/preprocessing/_encoders.py:174: UserWarning: Found unknown categories in columns [9] during transform. These unknown categories will be encoded as all zeros\n",
            "  UserWarning,\n",
            "/usr/local/lib/python3.7/dist-packages/sklearn/preprocessing/_encoders.py:174: UserWarning: Found unknown categories in columns [9] during transform. These unknown categories will be encoded as all zeros\n",
            "  UserWarning,\n",
            "/usr/local/lib/python3.7/dist-packages/sklearn/preprocessing/_encoders.py:174: UserWarning: Found unknown categories in columns [10] during transform. These unknown categories will be encoded as all zeros\n",
            "  UserWarning,\n",
            "/usr/local/lib/python3.7/dist-packages/sklearn/preprocessing/_encoders.py:174: UserWarning: Found unknown categories in columns [9] during transform. These unknown categories will be encoded as all zeros\n",
            "  UserWarning,\n",
            "/usr/local/lib/python3.7/dist-packages/sklearn/preprocessing/_encoders.py:174: UserWarning: Found unknown categories in columns [9] during transform. These unknown categories will be encoded as all zeros\n",
            "  UserWarning,\n",
            "/usr/local/lib/python3.7/dist-packages/sklearn/preprocessing/_encoders.py:174: UserWarning: Found unknown categories in columns [10] during transform. These unknown categories will be encoded as all zeros\n",
            "  UserWarning,\n",
            "/usr/local/lib/python3.7/dist-packages/sklearn/preprocessing/_encoders.py:174: UserWarning: Found unknown categories in columns [9] during transform. These unknown categories will be encoded as all zeros\n",
            "  UserWarning,\n",
            "/usr/local/lib/python3.7/dist-packages/sklearn/preprocessing/_encoders.py:174: UserWarning: Found unknown categories in columns [9] during transform. These unknown categories will be encoded as all zeros\n",
            "  UserWarning,\n",
            "/usr/local/lib/python3.7/dist-packages/sklearn/preprocessing/_encoders.py:174: UserWarning: Found unknown categories in columns [10] during transform. These unknown categories will be encoded as all zeros\n",
            "  UserWarning,\n",
            "/usr/local/lib/python3.7/dist-packages/sklearn/preprocessing/_encoders.py:174: UserWarning: Found unknown categories in columns [9] during transform. These unknown categories will be encoded as all zeros\n",
            "  UserWarning,\n",
            "/usr/local/lib/python3.7/dist-packages/sklearn/preprocessing/_encoders.py:174: UserWarning: Found unknown categories in columns [9] during transform. These unknown categories will be encoded as all zeros\n",
            "  UserWarning,\n",
            "/usr/local/lib/python3.7/dist-packages/sklearn/preprocessing/_encoders.py:174: UserWarning: Found unknown categories in columns [10] during transform. These unknown categories will be encoded as all zeros\n",
            "  UserWarning,\n",
            "/usr/local/lib/python3.7/dist-packages/sklearn/preprocessing/_encoders.py:174: UserWarning: Found unknown categories in columns [9] during transform. These unknown categories will be encoded as all zeros\n",
            "  UserWarning,\n",
            "/usr/local/lib/python3.7/dist-packages/sklearn/preprocessing/_encoders.py:174: UserWarning: Found unknown categories in columns [9] during transform. These unknown categories will be encoded as all zeros\n",
            "  UserWarning,\n"
          ]
        },
        {
          "output_type": "execute_result",
          "data": {
            "text/plain": [
              "GridSearchCV(cv=5,\n",
              "             estimator=Pipeline(steps=[('preproc',\n",
              "                                        ColumnTransformer(remainder='passthrough',\n",
              "                                                          transformers=[('cat_pipe',\n",
              "                                                                         Pipeline(steps=[('cat_impute',\n",
              "                                                                                          SimpleImputer(strategy='most_frequent')),\n",
              "                                                                                         ('onehot_cat',\n",
              "                                                                                          OneHotEncoder(drop='if_binary',\n",
              "                                                                                                        handle_unknown='ignore'))]),\n",
              "                                                                         ['prop_type',\n",
              "                                                                          'is_showcase',\n",
              "                                                                          'is_new_construction',\n",
              "                                                                          'has_leadform',\n",
              "                                                                          'is_cobroker',\n",
              "                                                                          'is_f...\n",
              "                                                                                          SimpleImputer()),\n",
              "                                                                                         ('scale_num',\n",
              "                                                                                          StandardScaler())]),\n",
              "                                                                         ['sqft_raw',\n",
              "                                                                          'beds',\n",
              "                                                                          'lat',\n",
              "                                                                          'lon',\n",
              "                                                                          'bath',\n",
              "                                                                          'lot_size_sqft',\n",
              "                                                                          'dom',\n",
              "                                                                          'drp',\n",
              "                                                                          'sold_year',\n",
              "                                                                          'sold_quarter',\n",
              "                                                                          'sold_month',\n",
              "                                                                          'sold_week',\n",
              "                                                                          'sold_day',\n",
              "                                                                          'dist_to_water_meters'])])),\n",
              "                                       ('mdl', RandomForestRegressor())]),\n",
              "             param_grid={'mdl__max_features': [0.3, 0.5, 0.7, 1.0],\n",
              "                         'mdl__n_estimators': [100, 300, 500]},\n",
              "             return_train_score=True)"
            ]
          },
          "metadata": {},
          "execution_count": 53
        }
      ]
    },
    {
      "cell_type": "markdown",
      "source": [
        "### Performance"
      ],
      "metadata": {
        "id": "lwLsaWAWZvOv"
      }
    },
    {
      "cell_type": "code",
      "source": [
        "rmse = np.sqrt(mean_squared_error(y_test.reset_index(drop=True), grid_search.best_estimator_.predict(X_test)))\n",
        "mape = mean_absolute_percentage_error(y_test.reset_index(drop=True), grid_search.best_estimator_.predict(X_test))\n",
        "r2 = r2_score(y_test.reset_index(drop=True), grid_search.best_estimator_.predict(X_test))\n",
        "\n",
        "print(f'R2: {r2}')\n",
        "print(f'RMSE: {rmse}')\n",
        "print(f'MAPE: {mape}')"
      ],
      "metadata": {
        "colab": {
          "base_uri": "https://localhost:8080/"
        },
        "id": "y3RZI56yMZec",
        "outputId": "fe8a528e-37bd-48f7-ea45-ff35f56918da"
      },
      "execution_count": 54,
      "outputs": [
        {
          "output_type": "stream",
          "name": "stdout",
          "text": [
            "R2: 0.7475745662533361\n",
            "RMSE: 212516.48609785954\n",
            "MAPE: 0.4530402382954198\n"
          ]
        },
        {
          "output_type": "stream",
          "name": "stderr",
          "text": [
            "/usr/local/lib/python3.7/dist-packages/sklearn/preprocessing/_encoders.py:174: UserWarning: Found unknown categories in columns [11] during transform. These unknown categories will be encoded as all zeros\n",
            "  UserWarning,\n",
            "/usr/local/lib/python3.7/dist-packages/sklearn/preprocessing/_encoders.py:174: UserWarning: Found unknown categories in columns [11] during transform. These unknown categories will be encoded as all zeros\n",
            "  UserWarning,\n",
            "/usr/local/lib/python3.7/dist-packages/sklearn/preprocessing/_encoders.py:174: UserWarning: Found unknown categories in columns [11] during transform. These unknown categories will be encoded as all zeros\n",
            "  UserWarning,\n"
          ]
        }
      ]
    },
    {
      "cell_type": "code",
      "source": [
        "grid_search.best_estimator_"
      ],
      "metadata": {
        "id": "l1i8IXU3be2T",
        "outputId": "fb1cb924-9e1b-4d5b-bec5-37a63952b0d1",
        "colab": {
          "base_uri": "https://localhost:8080/"
        }
      },
      "execution_count": null,
      "outputs": [
        {
          "output_type": "execute_result",
          "data": {
            "text/plain": [
              "Pipeline(steps=[('preproc',\n",
              "                 ColumnTransformer(remainder='passthrough',\n",
              "                                   transformers=[('cat_pipe',\n",
              "                                                  Pipeline(steps=[('cat_impute',\n",
              "                                                                   SimpleImputer(strategy='most_frequent')),\n",
              "                                                                  ('onehot_cat',\n",
              "                                                                   OneHotEncoder(drop='if_binary',\n",
              "                                                                                 handle_unknown='ignore'))]),\n",
              "                                                  ['prop_type', 'is_showcase',\n",
              "                                                   'is_new_construction',\n",
              "                                                   'has_leadform',\n",
              "                                                   'is_cobroker',\n",
              "                                                   'is_foreclosure', 'city',\n",
              "                                                   'state', 'state_code',\n",
              "                                                   'postal_code', 'county']),\n",
              "                                                 ('num_pipe',\n",
              "                                                  Pipeline(steps=[('impute_num',\n",
              "                                                                   SimpleImputer()),\n",
              "                                                                  ('scale_num',\n",
              "                                                                   StandardScaler())]),\n",
              "                                                  ['sqft_raw', 'beds', 'bath',\n",
              "                                                   'lot_size_sqft', 'dom',\n",
              "                                                   'drp', 'sold_year',\n",
              "                                                   'sold_quarter', 'sold_month',\n",
              "                                                   'sold_week',\n",
              "                                                   'sold_day'])])),\n",
              "                ('mdl',\n",
              "                 RandomForestRegressor(max_features=0.3, n_estimators=500))])"
            ]
          },
          "metadata": {},
          "execution_count": 246
        }
      ]
    },
    {
      "cell_type": "code",
      "source": [
        "if show_importances:\n",
        "\n",
        "    scoring = ['r2', \n",
        "              'neg_root_mean_squared_error',\n",
        "              'neg_mean_absolute_percentage_error']\n",
        "\n",
        "    multi_r = permutation_importance(grid_search.best_estimator_, \n",
        "                              X_test, \n",
        "                              y_test,\n",
        "                              n_repeats=30,\n",
        "                              random_state=0, \n",
        "                              scoring=scoring)"
      ],
      "metadata": {
        "id": "kgVTT_9gaZL-"
      },
      "execution_count": null,
      "outputs": []
    },
    {
      "cell_type": "code",
      "source": [
        "if show_importances:\n",
        "\n",
        "    feature_names = pd.Series(X_test.columns)\n",
        "\n",
        "    cat_names = list(grid_search.best_estimator_.named_steps['preproc'].transformers_[0][1].named_steps['onehot_cat'].get_feature_names_out())\n",
        "    num_names = list(grid_search.best_estimator_.named_steps['preproc'].transformers_[1][2])\n",
        "\n",
        "    # https://scikit-learn.org/stable/modules/permutation_importance.html#permutation-importance\n",
        "    # fe is measured using the values from the scoring variable\n",
        "    fe_vals = []\n",
        "\n",
        "    # ordered from largest to smallest FE\n",
        "    for metric in multi_r:\n",
        "      r = multi_r[metric]\n",
        "      for i in r.importances_mean.argsort()[::-1]:\n",
        "          if r.importances_mean[i] - 2 * r.importances_std[i] > 0:\n",
        "              fe_vals.append((metric, feature_names[i], r.importances_mean[i], r.importances_std[i]))\n",
        "\n",
        "\n",
        "    coef_info = pd.DataFrame(fe_vals, columns=['metric', 'feat_names', 'vip', 'sd'])\n",
        "\n",
        "    coef_info = coef_info.assign(coef_mag = abs(coef_info['vip']),\n",
        "                                coef_sign = np.sign(coef_info['vip']))\n",
        "    "
      ],
      "metadata": {
        "id": "fQ4tNnyFaIfF"
      },
      "execution_count": null,
      "outputs": []
    },
    {
      "cell_type": "code",
      "source": [
        "#coef_info.head(3)"
      ],
      "metadata": {
        "colab": {
          "base_uri": "https://localhost:8080/",
          "height": 143
        },
        "id": "Mi-TU8QXO6Ul",
        "outputId": "a0e7777c-a59e-4811-f048-febc4a5e03dd"
      },
      "execution_count": null,
      "outputs": [
        {
          "output_type": "execute_result",
          "data": {
            "text/plain": [
              "  metric     feat_names       vip        sd  coef_mag  coef_sign\n",
              "0     r2       sqft_raw  0.377470  0.036709  0.377470        1.0\n",
              "1     r2  lot_size_sqft  0.200655  0.030872  0.200655        1.0\n",
              "2     r2           bath  0.083486  0.021158  0.083486        1.0"
            ],
            "text/html": [
              "\n",
              "  <div id=\"df-828046f1-f632-493b-8c1a-49201067b904\">\n",
              "    <div class=\"colab-df-container\">\n",
              "      <div>\n",
              "<style scoped>\n",
              "    .dataframe tbody tr th:only-of-type {\n",
              "        vertical-align: middle;\n",
              "    }\n",
              "\n",
              "    .dataframe tbody tr th {\n",
              "        vertical-align: top;\n",
              "    }\n",
              "\n",
              "    .dataframe thead th {\n",
              "        text-align: right;\n",
              "    }\n",
              "</style>\n",
              "<table border=\"1\" class=\"dataframe\">\n",
              "  <thead>\n",
              "    <tr style=\"text-align: right;\">\n",
              "      <th></th>\n",
              "      <th>metric</th>\n",
              "      <th>feat_names</th>\n",
              "      <th>vip</th>\n",
              "      <th>sd</th>\n",
              "      <th>coef_mag</th>\n",
              "      <th>coef_sign</th>\n",
              "    </tr>\n",
              "  </thead>\n",
              "  <tbody>\n",
              "    <tr>\n",
              "      <th>0</th>\n",
              "      <td>r2</td>\n",
              "      <td>sqft_raw</td>\n",
              "      <td>0.377470</td>\n",
              "      <td>0.036709</td>\n",
              "      <td>0.377470</td>\n",
              "      <td>1.0</td>\n",
              "    </tr>\n",
              "    <tr>\n",
              "      <th>1</th>\n",
              "      <td>r2</td>\n",
              "      <td>lot_size_sqft</td>\n",
              "      <td>0.200655</td>\n",
              "      <td>0.030872</td>\n",
              "      <td>0.200655</td>\n",
              "      <td>1.0</td>\n",
              "    </tr>\n",
              "    <tr>\n",
              "      <th>2</th>\n",
              "      <td>r2</td>\n",
              "      <td>bath</td>\n",
              "      <td>0.083486</td>\n",
              "      <td>0.021158</td>\n",
              "      <td>0.083486</td>\n",
              "      <td>1.0</td>\n",
              "    </tr>\n",
              "  </tbody>\n",
              "</table>\n",
              "</div>\n",
              "      <button class=\"colab-df-convert\" onclick=\"convertToInteractive('df-828046f1-f632-493b-8c1a-49201067b904')\"\n",
              "              title=\"Convert this dataframe to an interactive table.\"\n",
              "              style=\"display:none;\">\n",
              "        \n",
              "  <svg xmlns=\"http://www.w3.org/2000/svg\" height=\"24px\"viewBox=\"0 0 24 24\"\n",
              "       width=\"24px\">\n",
              "    <path d=\"M0 0h24v24H0V0z\" fill=\"none\"/>\n",
              "    <path d=\"M18.56 5.44l.94 2.06.94-2.06 2.06-.94-2.06-.94-.94-2.06-.94 2.06-2.06.94zm-11 1L8.5 8.5l.94-2.06 2.06-.94-2.06-.94L8.5 2.5l-.94 2.06-2.06.94zm10 10l.94 2.06.94-2.06 2.06-.94-2.06-.94-.94-2.06-.94 2.06-2.06.94z\"/><path d=\"M17.41 7.96l-1.37-1.37c-.4-.4-.92-.59-1.43-.59-.52 0-1.04.2-1.43.59L10.3 9.45l-7.72 7.72c-.78.78-.78 2.05 0 2.83L4 21.41c.39.39.9.59 1.41.59.51 0 1.02-.2 1.41-.59l7.78-7.78 2.81-2.81c.8-.78.8-2.07 0-2.86zM5.41 20L4 18.59l7.72-7.72 1.47 1.35L5.41 20z\"/>\n",
              "  </svg>\n",
              "      </button>\n",
              "      \n",
              "  <style>\n",
              "    .colab-df-container {\n",
              "      display:flex;\n",
              "      flex-wrap:wrap;\n",
              "      gap: 12px;\n",
              "    }\n",
              "\n",
              "    .colab-df-convert {\n",
              "      background-color: #E8F0FE;\n",
              "      border: none;\n",
              "      border-radius: 50%;\n",
              "      cursor: pointer;\n",
              "      display: none;\n",
              "      fill: #1967D2;\n",
              "      height: 32px;\n",
              "      padding: 0 0 0 0;\n",
              "      width: 32px;\n",
              "    }\n",
              "\n",
              "    .colab-df-convert:hover {\n",
              "      background-color: #E2EBFA;\n",
              "      box-shadow: 0px 1px 2px rgba(60, 64, 67, 0.3), 0px 1px 3px 1px rgba(60, 64, 67, 0.15);\n",
              "      fill: #174EA6;\n",
              "    }\n",
              "\n",
              "    [theme=dark] .colab-df-convert {\n",
              "      background-color: #3B4455;\n",
              "      fill: #D2E3FC;\n",
              "    }\n",
              "\n",
              "    [theme=dark] .colab-df-convert:hover {\n",
              "      background-color: #434B5C;\n",
              "      box-shadow: 0px 1px 3px 1px rgba(0, 0, 0, 0.15);\n",
              "      filter: drop-shadow(0px 1px 2px rgba(0, 0, 0, 0.3));\n",
              "      fill: #FFFFFF;\n",
              "    }\n",
              "  </style>\n",
              "\n",
              "      <script>\n",
              "        const buttonEl =\n",
              "          document.querySelector('#df-828046f1-f632-493b-8c1a-49201067b904 button.colab-df-convert');\n",
              "        buttonEl.style.display =\n",
              "          google.colab.kernel.accessAllowed ? 'block' : 'none';\n",
              "\n",
              "        async function convertToInteractive(key) {\n",
              "          const element = document.querySelector('#df-828046f1-f632-493b-8c1a-49201067b904');\n",
              "          const dataTable =\n",
              "            await google.colab.kernel.invokeFunction('convertToInteractive',\n",
              "                                                     [key], {});\n",
              "          if (!dataTable) return;\n",
              "\n",
              "          const docLinkHtml = 'Like what you see? Visit the ' +\n",
              "            '<a target=\"_blank\" href=https://colab.research.google.com/notebooks/data_table.ipynb>data table notebook</a>'\n",
              "            + ' to learn more about interactive tables.';\n",
              "          element.innerHTML = '';\n",
              "          dataTable['output_type'] = 'display_data';\n",
              "          await google.colab.output.renderOutput(dataTable, element);\n",
              "          const docLink = document.createElement('div');\n",
              "          docLink.innerHTML = docLinkHtml;\n",
              "          element.appendChild(docLink);\n",
              "        }\n",
              "      </script>\n",
              "    </div>\n",
              "  </div>\n",
              "  "
            ]
          },
          "metadata": {},
          "execution_count": 348
        }
      ]
    },
    {
      "cell_type": "code",
      "source": [
        "if show_importances:\n",
        "    # The permutation feature importance is the decrease in a model score when a single feature value is randomly shuffled\n",
        "\n",
        "    fig, ax = plt.subplots(2,2)\n",
        "\n",
        "    sns.barplot(\n",
        "        data=coef_info[ coef_info['metric'] == 'r2'], \n",
        "        x=\"vip\", \n",
        "        y='feat_names',\n",
        "        hue='coef_sign', \n",
        "        ax=ax[0,0]\n",
        "    ).set_title(f'R2: {r2:.4f}')\n",
        "\n",
        "    sns.barplot(\n",
        "        data=coef_info[ coef_info['metric'] == 'neg_root_mean_squared_error'], \n",
        "        x=\"vip\", \n",
        "        y='feat_names',\n",
        "        hue=\"coef_sign\", \n",
        "        ax=ax[0,1]\n",
        "    ).set_title(f'RMSE (Current Model: {rmse:.0f})')\n",
        "\n",
        "    sns.barplot(\n",
        "        data=coef_info[ coef_info['metric'] == 'neg_mean_absolute_percentage_error'], \n",
        "        x=\"vip\", \n",
        "        y='feat_names',\n",
        "        hue=\"coef_sign\", \n",
        "        ax=ax[1,0]\n",
        "    ).set_title(f'MAPE (Current Model: {mape:.4f})')\n",
        "\n",
        "    fig.set_size_inches(20, 14)\n",
        "    fig.show()"
      ],
      "metadata": {
        "colab": {
          "base_uri": "https://localhost:8080/",
          "height": 1000
        },
        "id": "iwN06TLYC-k1",
        "outputId": "7cc65d63-ada2-4468-94ad-3594533e899d"
      },
      "execution_count": null,
      "outputs": [
        {
          "output_type": "display_data",
          "data": {
            "text/plain": [
              "<Figure size 1440x1008 with 4 Axes>"
            ],
            "image/png": "[encoded data removed]"
          },
          "metadata": {}
        }
      ]
    },
    {
      "cell_type": "code",
      "source": [
        "if show_importances:\n",
        "    coefs = grid_search.best_estimator_.named_steps['mdl'].feature_importances_\n",
        "\n",
        "    cat_names = grid_search.best_estimator_.named_steps['preproc'].transformers_[0][1].named_steps['onehot_cat'].get_feature_names()\n",
        "    num_names = grid_search.best_estimator_.named_steps['preproc'].transformers_[1][2]\n",
        "\n",
        "    # score coefficients into a new dataframe\n",
        "    coef_info = pd.DataFrame({'feature_names': np.hstack([cat_names, num_names]), 'feature_imp': coefs})\n",
        "    coef_info = coef_info[ coef_info['feature_imp'] > 0.01 ]\n",
        "\n",
        "    # get sign and magnitude of the weights (coefs)\n",
        "    coef_info = coef_info.assign(coef_mag = abs(coef_info['feature_imp']),\n",
        "                                coef_sign = np.sign(coef_info['feature_imp']))\n",
        "\n",
        "    # sort the coef_info dataframe and plot with a barplot! \n",
        "    coef_info = coef_info.set_index('feature_names').sort_values(by='coef_mag', ascending=False)\n",
        "    sns.barplot(y=coef_info.index, x='coef_mag', hue='coef_sign', data=coef_info, orient='h', dodge=False);"
      ],
      "metadata": {
        "id": "NQZKxY_E16hp",
        "outputId": "affb6383-f5bd-432c-f05c-ff09131c0a72",
        "colab": {
          "base_uri": "https://localhost:8080/",
          "height": 636
        }
      },
      "execution_count": null,
      "outputs": [
        {
          "output_type": "stream",
          "name": "stderr",
          "text": [
            "/usr/local/lib/python3.7/dist-packages/sklearn/utils/deprecation.py:87: FutureWarning: Function get_feature_names is deprecated; get_feature_names is deprecated in 1.0 and will be removed in 1.2. Please use get_feature_names_out instead.\n",
            "  warnings.warn(msg, category=FutureWarning)\n"
          ]
        },
        {
          "output_type": "display_data",
          "data": {
            "text/plain": [
              "<Figure size 1296x576 with 1 Axes>"
            ],
            "image/png": "[encoded data removed]"
          },
          "metadata": {}
        }
      ]
    },
    {
      "cell_type": "code",
      "source": [
        "predictions = pd.concat([y_test.reset_index(), pd.Series(grid_search.best_estimator_.predict(X_test))], \n",
        "                        axis=1).set_index('index').rename(columns={0:'predicted_price'})\n",
        "\n",
        "predictions['error'] = round(predictions['predicted_price'] - predictions['price_raw'], -3)\n",
        "predictions['error_sign'] = np.sign(predictions['error'])\n",
        "predictions['error'] = abs(predictions['error'])\n",
        "predictions['perc_error'] = predictions['error'] / predictions['price_raw']\n",
        "\n",
        "eval_frame = pd.concat([X_test, predictions], axis=1)"
      ],
      "metadata": {
        "id": "tlyDiJEuptol",
        "colab": {
          "base_uri": "https://localhost:8080/"
        },
        "outputId": "119b4ebb-e264-4634-fd4c-5547f8bbad33"
      },
      "execution_count": 55,
      "outputs": [
        {
          "output_type": "stream",
          "name": "stderr",
          "text": [
            "/usr/local/lib/python3.7/dist-packages/sklearn/preprocessing/_encoders.py:174: UserWarning: Found unknown categories in columns [11] during transform. These unknown categories will be encoded as all zeros\n",
            "  UserWarning,\n"
          ]
        }
      ]
    },
    {
      "cell_type": "code",
      "source": [
        "eval_frame.groupby(['prop_type']).agg({'error': np.mean,\n",
        "                                       'price_raw':[np.mean, min, max, np.std]})"
      ],
      "metadata": {
        "id": "Egnmi3Trcy0G",
        "outputId": "c7b2593f-eb9b-4b93-b2bf-8e96384d1f6e",
        "colab": {
          "base_uri": "https://localhost:8080/",
          "height": 206
        }
      },
      "execution_count": 56,
      "outputs": [
        {
          "output_type": "execute_result",
          "data": {
            "text/plain": [
              "                       error      price_raw                                \n",
              "                        mean           mean     min      max            std\n",
              "prop_type                                                                  \n",
              "condo           94956.521739  524250.108696   24000  2700000  544686.978834\n",
              "multi_family   263000.000000  390000.000000  390000   390000            NaN\n",
              "single_family  158746.987952  494513.795181   55000  2100000  346922.740103"
            ],
            "text/html": [
              "\n",
              "  <div id=\"df-4cdc3f02-b115-4bc2-a195-86312c7aa566\">\n",
              "    <div class=\"colab-df-container\">\n",
              "      <div>\n",
              "<style scoped>\n",
              "    .dataframe tbody tr th:only-of-type {\n",
              "        vertical-align: middle;\n",
              "    }\n",
              "\n",
              "    .dataframe tbody tr th {\n",
              "        vertical-align: top;\n",
              "    }\n",
              "\n",
              "    .dataframe thead tr th {\n",
              "        text-align: left;\n",
              "    }\n",
              "\n",
              "    .dataframe thead tr:last-of-type th {\n",
              "        text-align: right;\n",
              "    }\n",
              "</style>\n",
              "<table border=\"1\" class=\"dataframe\">\n",
              "  <thead>\n",
              "    <tr>\n",
              "      <th></th>\n",
              "      <th>error</th>\n",
              "      <th colspan=\"4\" halign=\"left\">price_raw</th>\n",
              "    </tr>\n",
              "    <tr>\n",
              "      <th></th>\n",
              "      <th>mean</th>\n",
              "      <th>mean</th>\n",
              "      <th>min</th>\n",
              "      <th>max</th>\n",
              "      <th>std</th>\n",
              "    </tr>\n",
              "    <tr>\n",
              "      <th>prop_type</th>\n",
              "      <th></th>\n",
              "      <th></th>\n",
              "      <th></th>\n",
              "      <th></th>\n",
              "      <th></th>\n",
              "    </tr>\n",
              "  </thead>\n",
              "  <tbody>\n",
              "    <tr>\n",
              "      <th>condo</th>\n",
              "      <td>94956.521739</td>\n",
              "      <td>524250.108696</td>\n",
              "      <td>24000</td>\n",
              "      <td>2700000</td>\n",
              "      <td>544686.978834</td>\n",
              "    </tr>\n",
              "    <tr>\n",
              "      <th>multi_family</th>\n",
              "      <td>263000.000000</td>\n",
              "      <td>390000.000000</td>\n",
              "      <td>390000</td>\n",
              "      <td>390000</td>\n",
              "      <td>NaN</td>\n",
              "    </tr>\n",
              "    <tr>\n",
              "      <th>single_family</th>\n",
              "      <td>158746.987952</td>\n",
              "      <td>494513.795181</td>\n",
              "      <td>55000</td>\n",
              "      <td>2100000</td>\n",
              "      <td>346922.740103</td>\n",
              "    </tr>\n",
              "  </tbody>\n",
              "</table>\n",
              "</div>\n",
              "      <button class=\"colab-df-convert\" onclick=\"convertToInteractive('df-4cdc3f02-b115-4bc2-a195-86312c7aa566')\"\n",
              "              title=\"Convert this dataframe to an interactive table.\"\n",
              "              style=\"display:none;\">\n",
              "        \n",
              "  <svg xmlns=\"http://www.w3.org/2000/svg\" height=\"24px\"viewBox=\"0 0 24 24\"\n",
              "       width=\"24px\">\n",
              "    <path d=\"M0 0h24v24H0V0z\" fill=\"none\"/>\n",
              "    <path d=\"M18.56 5.44l.94 2.06.94-2.06 2.06-.94-2.06-.94-.94-2.06-.94 2.06-2.06.94zm-11 1L8.5 8.5l.94-2.06 2.06-.94-2.06-.94L8.5 2.5l-.94 2.06-2.06.94zm10 10l.94 2.06.94-2.06 2.06-.94-2.06-.94-.94-2.06-.94 2.06-2.06.94z\"/><path d=\"M17.41 7.96l-1.37-1.37c-.4-.4-.92-.59-1.43-.59-.52 0-1.04.2-1.43.59L10.3 9.45l-7.72 7.72c-.78.78-.78 2.05 0 2.83L4 21.41c.39.39.9.59 1.41.59.51 0 1.02-.2 1.41-.59l7.78-7.78 2.81-2.81c.8-.78.8-2.07 0-2.86zM5.41 20L4 18.59l7.72-7.72 1.47 1.35L5.41 20z\"/>\n",
              "  </svg>\n",
              "      </button>\n",
              "      \n",
              "  <style>\n",
              "    .colab-df-container {\n",
              "      display:flex;\n",
              "      flex-wrap:wrap;\n",
              "      gap: 12px;\n",
              "    }\n",
              "\n",
              "    .colab-df-convert {\n",
              "      background-color: #E8F0FE;\n",
              "      border: none;\n",
              "      border-radius: 50%;\n",
              "      cursor: pointer;\n",
              "      display: none;\n",
              "      fill: #1967D2;\n",
              "      height: 32px;\n",
              "      padding: 0 0 0 0;\n",
              "      width: 32px;\n",
              "    }\n",
              "\n",
              "    .colab-df-convert:hover {\n",
              "      background-color: #E2EBFA;\n",
              "      box-shadow: 0px 1px 2px rgba(60, 64, 67, 0.3), 0px 1px 3px 1px rgba(60, 64, 67, 0.15);\n",
              "      fill: #174EA6;\n",
              "    }\n",
              "\n",
              "    [theme=dark] .colab-df-convert {\n",
              "      background-color: #3B4455;\n",
              "      fill: #D2E3FC;\n",
              "    }\n",
              "\n",
              "    [theme=dark] .colab-df-convert:hover {\n",
              "      background-color: #434B5C;\n",
              "      box-shadow: 0px 1px 3px 1px rgba(0, 0, 0, 0.15);\n",
              "      filter: drop-shadow(0px 1px 2px rgba(0, 0, 0, 0.3));\n",
              "      fill: #FFFFFF;\n",
              "    }\n",
              "  </style>\n",
              "\n",
              "      <script>\n",
              "        const buttonEl =\n",
              "          document.querySelector('#df-4cdc3f02-b115-4bc2-a195-86312c7aa566 button.colab-df-convert');\n",
              "        buttonEl.style.display =\n",
              "          google.colab.kernel.accessAllowed ? 'block' : 'none';\n",
              "\n",
              "        async function convertToInteractive(key) {\n",
              "          const element = document.querySelector('#df-4cdc3f02-b115-4bc2-a195-86312c7aa566');\n",
              "          const dataTable =\n",
              "            await google.colab.kernel.invokeFunction('convertToInteractive',\n",
              "                                                     [key], {});\n",
              "          if (!dataTable) return;\n",
              "\n",
              "          const docLinkHtml = 'Like what you see? Visit the ' +\n",
              "            '<a target=\"_blank\" href=https://colab.research.google.com/notebooks/data_table.ipynb>data table notebook</a>'\n",
              "            + ' to learn more about interactive tables.';\n",
              "          element.innerHTML = '';\n",
              "          dataTable['output_type'] = 'display_data';\n",
              "          await google.colab.output.renderOutput(dataTable, element);\n",
              "          const docLink = document.createElement('div');\n",
              "          docLink.innerHTML = docLinkHtml;\n",
              "          element.appendChild(docLink);\n",
              "        }\n",
              "      </script>\n",
              "    </div>\n",
              "  </div>\n",
              "  "
            ]
          },
          "metadata": {},
          "execution_count": 56
        }
      ]
    },
    {
      "cell_type": "markdown",
      "source": [
        "### 10 Worst Predictions"
      ],
      "metadata": {
        "id": "qbLdhvgm_Mh-"
      }
    },
    {
      "cell_type": "code",
      "source": [
        "eval_frame.sort_values(by='perc_error', ascending=False).head(10)"
      ],
      "metadata": {
        "id": "XyoJwuSuxiU-",
        "outputId": "fcf80696-99b6-4baa-e6d8-90e070043ccc",
        "colab": {
          "base_uri": "https://localhost:8080/",
          "height": 601
        }
      },
      "execution_count": null,
      "outputs": [
        {
          "output_type": "execute_result",
          "data": {
            "text/plain": [
              "         prop_type  sqft_raw  is_showcase  is_new_construction  beds  \\\n",
              "13           condo    1420.0        False                False   NaN   \n",
              "83           condo    1005.0        False                False   2.0   \n",
              "169  single_family    1815.0        False                False   3.0   \n",
              "814          condo    1550.0        False                False   3.0   \n",
              "131          condo     563.0        False                False   1.0   \n",
              "160          condo     475.0        False                False   1.0   \n",
              "137  single_family     726.0        False                False   1.0   \n",
              "483  single_family    3826.0        False                False   5.0   \n",
              "120  single_family     812.0        False                False   2.0   \n",
              "164  single_family     900.0        False                False   2.0   \n",
              "\n",
              "     has_leadform  is_cobroker  is_foreclosure           city     state  \\\n",
              "13          False        False           False  Traverse City  Michigan   \n",
              "83          False         True           False  Traverse City  Michigan   \n",
              "169         False         True           False  Traverse City  Michigan   \n",
              "814         False         True           False     Glen Arbor  Michigan   \n",
              "131         False         True           False  Traverse City  Michigan   \n",
              "160         False        False           False  Traverse City  Michigan   \n",
              "137         False         True           False  Traverse City  Michigan   \n",
              "483         False         True           False  Traverse City  Michigan   \n",
              "120         False        False           False  Traverse City  Michigan   \n",
              "164         False         True           False  Traverse City  Michigan   \n",
              "\n",
              "    state_code postal_code          county  bath  lot_size_sqft    dom    drp  \\\n",
              "13          MI       49686  Grand Traverse   NaN        13068.0    NaN    NaN   \n",
              "83          MI       49686  Grand Traverse   2.0            NaN   46.0    NaN   \n",
              "169         MI       49685  Grand Traverse   2.0       106722.0  159.0  131.0   \n",
              "814         MI       49636        Leelanau   2.5            NaN   39.0    NaN   \n",
              "131         MI       49684  Grand Traverse   1.0            NaN   51.0    NaN   \n",
              "160         MI       49684  Grand Traverse   1.0            NaN   50.0    NaN   \n",
              "137         MI       49684        Leelanau   1.0         4356.0  101.0    NaN   \n",
              "483         MI       49685  Grand Traverse   3.5        50965.2  123.0    NaN   \n",
              "120         MI       49685  Grand Traverse   1.0        22215.6    NaN    NaN   \n",
              "164         MI       49684  Grand Traverse   2.0        59677.2   62.0    NaN   \n",
              "\n",
              "     sold_year  sold_quarter  sold_month  sold_week  sold_day  price_raw  \\\n",
              "13        2021             4          12         48         3      30000   \n",
              "83        2022             1           1          4        24      90000   \n",
              "169       2021             4          12         50        14     175000   \n",
              "814       2022             1           1          4        24     109900   \n",
              "131       2022             1           2          8        23     125000   \n",
              "160       2022             1           2          7        15     163000   \n",
              "137       2022             1           2          7        18     130000   \n",
              "483       2022             1           1          3        18     394000   \n",
              "120       2022             1           1          4        28     118000   \n",
              "164       2022             1           1          4        24     165000   \n",
              "\n",
              "     predicted_price     error  error_sign  perc_error  \n",
              "13     183871.576667  154000.0         1.0    5.133333  \n",
              "83     305495.110000  215000.0         1.0    2.388889  \n",
              "169    558980.710000  384000.0         1.0    2.194286  \n",
              "814    327658.100000  218000.0         1.0    1.983621  \n",
              "131    355967.700000  231000.0         1.0    1.848000  \n",
              "160    427613.290000  265000.0         1.0    1.625767  \n",
              "137    339732.500000  210000.0         1.0    1.615385  \n",
              "483    925135.600000  531000.0         1.0    1.347716  \n",
              "120    264300.590000  146000.0         1.0    1.237288  \n",
              "164    353244.200000  188000.0         1.0    1.139394  "
            ],
            "text/html": [
              "\n",
              "  <div id=\"df-5db7fd85-a77c-4837-bf14-3978c4ab7ac9\">\n",
              "    <div class=\"colab-df-container\">\n",
              "      <div>\n",
              "<style scoped>\n",
              "    .dataframe tbody tr th:only-of-type {\n",
              "        vertical-align: middle;\n",
              "    }\n",
              "\n",
              "    .dataframe tbody tr th {\n",
              "        vertical-align: top;\n",
              "    }\n",
              "\n",
              "    .dataframe thead th {\n",
              "        text-align: right;\n",
              "    }\n",
              "</style>\n",
              "<table border=\"1\" class=\"dataframe\">\n",
              "  <thead>\n",
              "    <tr style=\"text-align: right;\">\n",
              "      <th></th>\n",
              "      <th>prop_type</th>\n",
              "      <th>sqft_raw</th>\n",
              "      <th>is_showcase</th>\n",
              "      <th>is_new_construction</th>\n",
              "      <th>beds</th>\n",
              "      <th>has_leadform</th>\n",
              "      <th>is_cobroker</th>\n",
              "      <th>is_foreclosure</th>\n",
              "      <th>city</th>\n",
              "      <th>state</th>\n",
              "      <th>state_code</th>\n",
              "      <th>postal_code</th>\n",
              "      <th>county</th>\n",
              "      <th>bath</th>\n",
              "      <th>lot_size_sqft</th>\n",
              "      <th>dom</th>\n",
              "      <th>drp</th>\n",
              "      <th>sold_year</th>\n",
              "      <th>sold_quarter</th>\n",
              "      <th>sold_month</th>\n",
              "      <th>sold_week</th>\n",
              "      <th>sold_day</th>\n",
              "      <th>price_raw</th>\n",
              "      <th>predicted_price</th>\n",
              "      <th>error</th>\n",
              "      <th>error_sign</th>\n",
              "      <th>perc_error</th>\n",
              "    </tr>\n",
              "  </thead>\n",
              "  <tbody>\n",
              "    <tr>\n",
              "      <th>13</th>\n",
              "      <td>condo</td>\n",
              "      <td>1420.0</td>\n",
              "      <td>False</td>\n",
              "      <td>False</td>\n",
              "      <td>NaN</td>\n",
              "      <td>False</td>\n",
              "      <td>False</td>\n",
              "      <td>False</td>\n",
              "      <td>Traverse City</td>\n",
              "      <td>Michigan</td>\n",
              "      <td>MI</td>\n",
              "      <td>49686</td>\n",
              "      <td>Grand Traverse</td>\n",
              "      <td>NaN</td>\n",
              "      <td>13068.0</td>\n",
              "      <td>NaN</td>\n",
              "      <td>NaN</td>\n",
              "      <td>2021</td>\n",
              "      <td>4</td>\n",
              "      <td>12</td>\n",
              "      <td>48</td>\n",
              "      <td>3</td>\n",
              "      <td>30000</td>\n",
              "      <td>183871.576667</td>\n",
              "      <td>154000.0</td>\n",
              "      <td>1.0</td>\n",
              "      <td>5.133333</td>\n",
              "    </tr>\n",
              "    <tr>\n",
              "      <th>83</th>\n",
              "      <td>condo</td>\n",
              "      <td>1005.0</td>\n",
              "      <td>False</td>\n",
              "      <td>False</td>\n",
              "      <td>2.0</td>\n",
              "      <td>False</td>\n",
              "      <td>True</td>\n",
              "      <td>False</td>\n",
              "      <td>Traverse City</td>\n",
              "      <td>Michigan</td>\n",
              "      <td>MI</td>\n",
              "      <td>49686</td>\n",
              "      <td>Grand Traverse</td>\n",
              "      <td>2.0</td>\n",
              "      <td>NaN</td>\n",
              "      <td>46.0</td>\n",
              "      <td>NaN</td>\n",
              "      <td>2022</td>\n",
              "      <td>1</td>\n",
              "      <td>1</td>\n",
              "      <td>4</td>\n",
              "      <td>24</td>\n",
              "      <td>90000</td>\n",
              "      <td>305495.110000</td>\n",
              "      <td>215000.0</td>\n",
              "      <td>1.0</td>\n",
              "      <td>2.388889</td>\n",
              "    </tr>\n",
              "    <tr>\n",
              "      <th>169</th>\n",
              "      <td>single_family</td>\n",
              "      <td>1815.0</td>\n",
              "      <td>False</td>\n",
              "      <td>False</td>\n",
              "      <td>3.0</td>\n",
              "      <td>False</td>\n",
              "      <td>True</td>\n",
              "      <td>False</td>\n",
              "      <td>Traverse City</td>\n",
              "      <td>Michigan</td>\n",
              "      <td>MI</td>\n",
              "      <td>49685</td>\n",
              "      <td>Grand Traverse</td>\n",
              "      <td>2.0</td>\n",
              "      <td>106722.0</td>\n",
              "      <td>159.0</td>\n",
              "      <td>131.0</td>\n",
              "      <td>2021</td>\n",
              "      <td>4</td>\n",
              "      <td>12</td>\n",
              "      <td>50</td>\n",
              "      <td>14</td>\n",
              "      <td>175000</td>\n",
              "      <td>558980.710000</td>\n",
              "      <td>384000.0</td>\n",
              "      <td>1.0</td>\n",
              "      <td>2.194286</td>\n",
              "    </tr>\n",
              "    <tr>\n",
              "      <th>814</th>\n",
              "      <td>condo</td>\n",
              "      <td>1550.0</td>\n",
              "      <td>False</td>\n",
              "      <td>False</td>\n",
              "      <td>3.0</td>\n",
              "      <td>False</td>\n",
              "      <td>True</td>\n",
              "      <td>False</td>\n",
              "      <td>Glen Arbor</td>\n",
              "      <td>Michigan</td>\n",
              "      <td>MI</td>\n",
              "      <td>49636</td>\n",
              "      <td>Leelanau</td>\n",
              "      <td>2.5</td>\n",
              "      <td>NaN</td>\n",
              "      <td>39.0</td>\n",
              "      <td>NaN</td>\n",
              "      <td>2022</td>\n",
              "      <td>1</td>\n",
              "      <td>1</td>\n",
              "      <td>4</td>\n",
              "      <td>24</td>\n",
              "      <td>109900</td>\n",
              "      <td>327658.100000</td>\n",
              "      <td>218000.0</td>\n",
              "      <td>1.0</td>\n",
              "      <td>1.983621</td>\n",
              "    </tr>\n",
              "    <tr>\n",
              "      <th>131</th>\n",
              "      <td>condo</td>\n",
              "      <td>563.0</td>\n",
              "      <td>False</td>\n",
              "      <td>False</td>\n",
              "      <td>1.0</td>\n",
              "      <td>False</td>\n",
              "      <td>True</td>\n",
              "      <td>False</td>\n",
              "      <td>Traverse City</td>\n",
              "      <td>Michigan</td>\n",
              "      <td>MI</td>\n",
              "      <td>49684</td>\n",
              "      <td>Grand Traverse</td>\n",
              "      <td>1.0</td>\n",
              "      <td>NaN</td>\n",
              "      <td>51.0</td>\n",
              "      <td>NaN</td>\n",
              "      <td>2022</td>\n",
              "      <td>1</td>\n",
              "      <td>2</td>\n",
              "      <td>8</td>\n",
              "      <td>23</td>\n",
              "      <td>125000</td>\n",
              "      <td>355967.700000</td>\n",
              "      <td>231000.0</td>\n",
              "      <td>1.0</td>\n",
              "      <td>1.848000</td>\n",
              "    </tr>\n",
              "    <tr>\n",
              "      <th>160</th>\n",
              "      <td>condo</td>\n",
              "      <td>475.0</td>\n",
              "      <td>False</td>\n",
              "      <td>False</td>\n",
              "      <td>1.0</td>\n",
              "      <td>False</td>\n",
              "      <td>False</td>\n",
              "      <td>False</td>\n",
              "      <td>Traverse City</td>\n",
              "      <td>Michigan</td>\n",
              "      <td>MI</td>\n",
              "      <td>49684</td>\n",
              "      <td>Grand Traverse</td>\n",
              "      <td>1.0</td>\n",
              "      <td>NaN</td>\n",
              "      <td>50.0</td>\n",
              "      <td>NaN</td>\n",
              "      <td>2022</td>\n",
              "      <td>1</td>\n",
              "      <td>2</td>\n",
              "      <td>7</td>\n",
              "      <td>15</td>\n",
              "      <td>163000</td>\n",
              "      <td>427613.290000</td>\n",
              "      <td>265000.0</td>\n",
              "      <td>1.0</td>\n",
              "      <td>1.625767</td>\n",
              "    </tr>\n",
              "    <tr>\n",
              "      <th>137</th>\n",
              "      <td>single_family</td>\n",
              "      <td>726.0</td>\n",
              "      <td>False</td>\n",
              "      <td>False</td>\n",
              "      <td>1.0</td>\n",
              "      <td>False</td>\n",
              "      <td>True</td>\n",
              "      <td>False</td>\n",
              "      <td>Traverse City</td>\n",
              "      <td>Michigan</td>\n",
              "      <td>MI</td>\n",
              "      <td>49684</td>\n",
              "      <td>Leelanau</td>\n",
              "      <td>1.0</td>\n",
              "      <td>4356.0</td>\n",
              "      <td>101.0</td>\n",
              "      <td>NaN</td>\n",
              "      <td>2022</td>\n",
              "      <td>1</td>\n",
              "      <td>2</td>\n",
              "      <td>7</td>\n",
              "      <td>18</td>\n",
              "      <td>130000</td>\n",
              "      <td>339732.500000</td>\n",
              "      <td>210000.0</td>\n",
              "      <td>1.0</td>\n",
              "      <td>1.615385</td>\n",
              "    </tr>\n",
              "    <tr>\n",
              "      <th>483</th>\n",
              "      <td>single_family</td>\n",
              "      <td>3826.0</td>\n",
              "      <td>False</td>\n",
              "      <td>False</td>\n",
              "      <td>5.0</td>\n",
              "      <td>False</td>\n",
              "      <td>True</td>\n",
              "      <td>False</td>\n",
              "      <td>Traverse City</td>\n",
              "      <td>Michigan</td>\n",
              "      <td>MI</td>\n",
              "      <td>49685</td>\n",
              "      <td>Grand Traverse</td>\n",
              "      <td>3.5</td>\n",
              "      <td>50965.2</td>\n",
              "      <td>123.0</td>\n",
              "      <td>NaN</td>\n",
              "      <td>2022</td>\n",
              "      <td>1</td>\n",
              "      <td>1</td>\n",
              "      <td>3</td>\n",
              "      <td>18</td>\n",
              "      <td>394000</td>\n",
              "      <td>925135.600000</td>\n",
              "      <td>531000.0</td>\n",
              "      <td>1.0</td>\n",
              "      <td>1.347716</td>\n",
              "    </tr>\n",
              "    <tr>\n",
              "      <th>120</th>\n",
              "      <td>single_family</td>\n",
              "      <td>812.0</td>\n",
              "      <td>False</td>\n",
              "      <td>False</td>\n",
              "      <td>2.0</td>\n",
              "      <td>False</td>\n",
              "      <td>False</td>\n",
              "      <td>False</td>\n",
              "      <td>Traverse City</td>\n",
              "      <td>Michigan</td>\n",
              "      <td>MI</td>\n",
              "      <td>49685</td>\n",
              "      <td>Grand Traverse</td>\n",
              "      <td>1.0</td>\n",
              "      <td>22215.6</td>\n",
              "      <td>NaN</td>\n",
              "      <td>NaN</td>\n",
              "      <td>2022</td>\n",
              "      <td>1</td>\n",
              "      <td>1</td>\n",
              "      <td>4</td>\n",
              "      <td>28</td>\n",
              "      <td>118000</td>\n",
              "      <td>264300.590000</td>\n",
              "      <td>146000.0</td>\n",
              "      <td>1.0</td>\n",
              "      <td>1.237288</td>\n",
              "    </tr>\n",
              "    <tr>\n",
              "      <th>164</th>\n",
              "      <td>single_family</td>\n",
              "      <td>900.0</td>\n",
              "      <td>False</td>\n",
              "      <td>False</td>\n",
              "      <td>2.0</td>\n",
              "      <td>False</td>\n",
              "      <td>True</td>\n",
              "      <td>False</td>\n",
              "      <td>Traverse City</td>\n",
              "      <td>Michigan</td>\n",
              "      <td>MI</td>\n",
              "      <td>49684</td>\n",
              "      <td>Grand Traverse</td>\n",
              "      <td>2.0</td>\n",
              "      <td>59677.2</td>\n",
              "      <td>62.0</td>\n",
              "      <td>NaN</td>\n",
              "      <td>2022</td>\n",
              "      <td>1</td>\n",
              "      <td>1</td>\n",
              "      <td>4</td>\n",
              "      <td>24</td>\n",
              "      <td>165000</td>\n",
              "      <td>353244.200000</td>\n",
              "      <td>188000.0</td>\n",
              "      <td>1.0</td>\n",
              "      <td>1.139394</td>\n",
              "    </tr>\n",
              "  </tbody>\n",
              "</table>\n",
              "</div>\n",
              "      <button class=\"colab-df-convert\" onclick=\"convertToInteractive('df-5db7fd85-a77c-4837-bf14-3978c4ab7ac9')\"\n",
              "              title=\"Convert this dataframe to an interactive table.\"\n",
              "              style=\"display:none;\">\n",
              "        \n",
              "  <svg xmlns=\"http://www.w3.org/2000/svg\" height=\"24px\"viewBox=\"0 0 24 24\"\n",
              "       width=\"24px\">\n",
              "    <path d=\"M0 0h24v24H0V0z\" fill=\"none\"/>\n",
              "    <path d=\"M18.56 5.44l.94 2.06.94-2.06 2.06-.94-2.06-.94-.94-2.06-.94 2.06-2.06.94zm-11 1L8.5 8.5l.94-2.06 2.06-.94-2.06-.94L8.5 2.5l-.94 2.06-2.06.94zm10 10l.94 2.06.94-2.06 2.06-.94-2.06-.94-.94-2.06-.94 2.06-2.06.94z\"/><path d=\"M17.41 7.96l-1.37-1.37c-.4-.4-.92-.59-1.43-.59-.52 0-1.04.2-1.43.59L10.3 9.45l-7.72 7.72c-.78.78-.78 2.05 0 2.83L4 21.41c.39.39.9.59 1.41.59.51 0 1.02-.2 1.41-.59l7.78-7.78 2.81-2.81c.8-.78.8-2.07 0-2.86zM5.41 20L4 18.59l7.72-7.72 1.47 1.35L5.41 20z\"/>\n",
              "  </svg>\n",
              "      </button>\n",
              "      \n",
              "  <style>\n",
              "    .colab-df-container {\n",
              "      display:flex;\n",
              "      flex-wrap:wrap;\n",
              "      gap: 12px;\n",
              "    }\n",
              "\n",
              "    .colab-df-convert {\n",
              "      background-color: #E8F0FE;\n",
              "      border: none;\n",
              "      border-radius: 50%;\n",
              "      cursor: pointer;\n",
              "      display: none;\n",
              "      fill: #1967D2;\n",
              "      height: 32px;\n",
              "      padding: 0 0 0 0;\n",
              "      width: 32px;\n",
              "    }\n",
              "\n",
              "    .colab-df-convert:hover {\n",
              "      background-color: #E2EBFA;\n",
              "      box-shadow: 0px 1px 2px rgba(60, 64, 67, 0.3), 0px 1px 3px 1px rgba(60, 64, 67, 0.15);\n",
              "      fill: #174EA6;\n",
              "    }\n",
              "\n",
              "    [theme=dark] .colab-df-convert {\n",
              "      background-color: #3B4455;\n",
              "      fill: #D2E3FC;\n",
              "    }\n",
              "\n",
              "    [theme=dark] .colab-df-convert:hover {\n",
              "      background-color: #434B5C;\n",
              "      box-shadow: 0px 1px 3px 1px rgba(0, 0, 0, 0.15);\n",
              "      filter: drop-shadow(0px 1px 2px rgba(0, 0, 0, 0.3));\n",
              "      fill: #FFFFFF;\n",
              "    }\n",
              "  </style>\n",
              "\n",
              "      <script>\n",
              "        const buttonEl =\n",
              "          document.querySelector('#df-5db7fd85-a77c-4837-bf14-3978c4ab7ac9 button.colab-df-convert');\n",
              "        buttonEl.style.display =\n",
              "          google.colab.kernel.accessAllowed ? 'block' : 'none';\n",
              "\n",
              "        async function convertToInteractive(key) {\n",
              "          const element = document.querySelector('#df-5db7fd85-a77c-4837-bf14-3978c4ab7ac9');\n",
              "          const dataTable =\n",
              "            await google.colab.kernel.invokeFunction('convertToInteractive',\n",
              "                                                     [key], {});\n",
              "          if (!dataTable) return;\n",
              "\n",
              "          const docLinkHtml = 'Like what you see? Visit the ' +\n",
              "            '<a target=\"_blank\" href=https://colab.research.google.com/notebooks/data_table.ipynb>data table notebook</a>'\n",
              "            + ' to learn more about interactive tables.';\n",
              "          element.innerHTML = '';\n",
              "          dataTable['output_type'] = 'display_data';\n",
              "          await google.colab.output.renderOutput(dataTable, element);\n",
              "          const docLink = document.createElement('div');\n",
              "          docLink.innerHTML = docLinkHtml;\n",
              "          element.appendChild(docLink);\n",
              "        }\n",
              "      </script>\n",
              "    </div>\n",
              "  </div>\n",
              "  "
            ]
          },
          "metadata": {},
          "execution_count": 350
        }
      ]
    },
    {
      "cell_type": "markdown",
      "source": [
        "### 10 Best Predictions"
      ],
      "metadata": {
        "id": "u88EMbb__YBI"
      }
    },
    {
      "cell_type": "code",
      "source": [
        "eval_frame.sort_values(by='perc_error', ascending=True).head(10)"
      ],
      "metadata": {
        "id": "vPBm8UdT_VdK",
        "outputId": "c997ac43-709e-4d40-ecc2-b2f7837276b8",
        "colab": {
          "base_uri": "https://localhost:8080/",
          "height": 601
        }
      },
      "execution_count": null,
      "outputs": [
        {
          "output_type": "execute_result",
          "data": {
            "text/plain": [
              "         prop_type  sqft_raw  is_showcase  is_new_construction  beds  \\\n",
              "533          condo    1095.0        False                 True   2.0   \n",
              "786          condo     412.0        False                False   NaN   \n",
              "708   multi_family    6720.0        False                False   NaN   \n",
              "529  single_family    1772.0        False                False   3.0   \n",
              "635          condo    1804.0        False                False   2.0   \n",
              "621          condo    1095.0        False                 True   2.0   \n",
              "361  single_family    1042.0        False                False   3.0   \n",
              "699  single_family    3972.0        False                False   4.0   \n",
              "229  single_family    1120.0        False                False   3.0   \n",
              "259          condo     604.0        False                False   1.0   \n",
              "\n",
              "     has_leadform  is_cobroker  is_foreclosure           city     state  \\\n",
              "533         False         True           False  Traverse City  Michigan   \n",
              "786         False        False           False  Traverse City  Michigan   \n",
              "708         False        False           False  Traverse City  Michigan   \n",
              "529         False         True           False  Traverse City  Michigan   \n",
              "635         False         True           False  Traverse City  Michigan   \n",
              "621         False         True           False  Traverse City  Michigan   \n",
              "361         False        False           False  Traverse City  Michigan   \n",
              "699         False         True           False  Traverse City  Michigan   \n",
              "229         False        False           False  Traverse City  Michigan   \n",
              "259         False         True           False  Traverse City  Michigan   \n",
              "\n",
              "    state_code postal_code          county  bath  lot_size_sqft    dom   drp  \\\n",
              "533         MI       49684  Grand Traverse   2.0            NaN  792.0   NaN   \n",
              "786         MI       49686  Grand Traverse   NaN          368.0    NaN   NaN   \n",
              "708         MI       49685  Grand Traverse   2.0        70567.2  104.0  31.0   \n",
              "529         MI       49684  Grand Traverse   2.5        43560.0   37.0   NaN   \n",
              "635         MI       49684  Grand Traverse   1.5            NaN  139.0   NaN   \n",
              "621         MI       49684  Grand Traverse   2.0            NaN   95.0   NaN   \n",
              "361         MI       49684  Grand Traverse   1.0         5663.0   27.0   NaN   \n",
              "699         MI       49685  Grand Traverse   3.5       298821.6   25.0   NaN   \n",
              "229         MI       49686  Grand Traverse   1.0        14810.4   11.0   NaN   \n",
              "259         MI       49686  Grand Traverse   1.0            NaN   29.0   NaN   \n",
              "\n",
              "     sold_year  sold_quarter  sold_month  sold_week  sold_day  price_raw  \\\n",
              "533       2021             4          12         50        15     434900   \n",
              "786       2021             4          12         49         8    2700000   \n",
              "708       2022             1           3         12        21     780000   \n",
              "529       2022             1           3         13        31     430000   \n",
              "635       2021             4          12         48         2     580000   \n",
              "621       2022             2           4         13         1     565500   \n",
              "361       2022             1           1          2        10     310000   \n",
              "699       2022             1           1          5        31     750000   \n",
              "229       2021             4          12         50        17     232100   \n",
              "259       2022             1           2          6         8     255000   \n",
              "\n",
              "     predicted_price    error  error_sign  perc_error  \n",
              "533       437169.250   2000.0         1.0    0.004599  \n",
              "786      2683683.000  16000.0        -1.0    0.005926  \n",
              "708       785266.900   5000.0         1.0    0.006410  \n",
              "529       425536.680   4000.0        -1.0    0.009302  \n",
              "635       592479.590  12000.0         1.0    0.020690  \n",
              "621       553273.396  12000.0        -1.0    0.021220  \n",
              "361       317533.100   8000.0         1.0    0.025806  \n",
              "699       729522.090  20000.0        -1.0    0.026667  \n",
              "229       239885.200   8000.0         1.0    0.034468  \n",
              "259       264087.200   9000.0         1.0    0.035294  "
            ],
            "text/html": [
              "\n",
              "  <div id=\"df-dfdd34de-8a6a-47dc-a24e-47ade4d04c53\">\n",
              "    <div class=\"colab-df-container\">\n",
              "      <div>\n",
              "<style scoped>\n",
              "    .dataframe tbody tr th:only-of-type {\n",
              "        vertical-align: middle;\n",
              "    }\n",
              "\n",
              "    .dataframe tbody tr th {\n",
              "        vertical-align: top;\n",
              "    }\n",
              "\n",
              "    .dataframe thead th {\n",
              "        text-align: right;\n",
              "    }\n",
              "</style>\n",
              "<table border=\"1\" class=\"dataframe\">\n",
              "  <thead>\n",
              "    <tr style=\"text-align: right;\">\n",
              "      <th></th>\n",
              "      <th>prop_type</th>\n",
              "      <th>sqft_raw</th>\n",
              "      <th>is_showcase</th>\n",
              "      <th>is_new_construction</th>\n",
              "      <th>beds</th>\n",
              "      <th>has_leadform</th>\n",
              "      <th>is_cobroker</th>\n",
              "      <th>is_foreclosure</th>\n",
              "      <th>city</th>\n",
              "      <th>state</th>\n",
              "      <th>state_code</th>\n",
              "      <th>postal_code</th>\n",
              "      <th>county</th>\n",
              "      <th>bath</th>\n",
              "      <th>lot_size_sqft</th>\n",
              "      <th>dom</th>\n",
              "      <th>drp</th>\n",
              "      <th>sold_year</th>\n",
              "      <th>sold_quarter</th>\n",
              "      <th>sold_month</th>\n",
              "      <th>sold_week</th>\n",
              "      <th>sold_day</th>\n",
              "      <th>price_raw</th>\n",
              "      <th>predicted_price</th>\n",
              "      <th>error</th>\n",
              "      <th>error_sign</th>\n",
              "      <th>perc_error</th>\n",
              "    </tr>\n",
              "  </thead>\n",
              "  <tbody>\n",
              "    <tr>\n",
              "      <th>533</th>\n",
              "      <td>condo</td>\n",
              "      <td>1095.0</td>\n",
              "      <td>False</td>\n",
              "      <td>True</td>\n",
              "      <td>2.0</td>\n",
              "      <td>False</td>\n",
              "      <td>True</td>\n",
              "      <td>False</td>\n",
              "      <td>Traverse City</td>\n",
              "      <td>Michigan</td>\n",
              "      <td>MI</td>\n",
              "      <td>49684</td>\n",
              "      <td>Grand Traverse</td>\n",
              "      <td>2.0</td>\n",
              "      <td>NaN</td>\n",
              "      <td>792.0</td>\n",
              "      <td>NaN</td>\n",
              "      <td>2021</td>\n",
              "      <td>4</td>\n",
              "      <td>12</td>\n",
              "      <td>50</td>\n",
              "      <td>15</td>\n",
              "      <td>434900</td>\n",
              "      <td>437169.250</td>\n",
              "      <td>2000.0</td>\n",
              "      <td>1.0</td>\n",
              "      <td>0.004599</td>\n",
              "    </tr>\n",
              "    <tr>\n",
              "      <th>786</th>\n",
              "      <td>condo</td>\n",
              "      <td>412.0</td>\n",
              "      <td>False</td>\n",
              "      <td>False</td>\n",
              "      <td>NaN</td>\n",
              "      <td>False</td>\n",
              "      <td>False</td>\n",
              "      <td>False</td>\n",
              "      <td>Traverse City</td>\n",
              "      <td>Michigan</td>\n",
              "      <td>MI</td>\n",
              "      <td>49686</td>\n",
              "      <td>Grand Traverse</td>\n",
              "      <td>NaN</td>\n",
              "      <td>368.0</td>\n",
              "      <td>NaN</td>\n",
              "      <td>NaN</td>\n",
              "      <td>2021</td>\n",
              "      <td>4</td>\n",
              "      <td>12</td>\n",
              "      <td>49</td>\n",
              "      <td>8</td>\n",
              "      <td>2700000</td>\n",
              "      <td>2683683.000</td>\n",
              "      <td>16000.0</td>\n",
              "      <td>-1.0</td>\n",
              "      <td>0.005926</td>\n",
              "    </tr>\n",
              "    <tr>\n",
              "      <th>708</th>\n",
              "      <td>multi_family</td>\n",
              "      <td>6720.0</td>\n",
              "      <td>False</td>\n",
              "      <td>False</td>\n",
              "      <td>NaN</td>\n",
              "      <td>False</td>\n",
              "      <td>False</td>\n",
              "      <td>False</td>\n",
              "      <td>Traverse City</td>\n",
              "      <td>Michigan</td>\n",
              "      <td>MI</td>\n",
              "      <td>49685</td>\n",
              "      <td>Grand Traverse</td>\n",
              "      <td>2.0</td>\n",
              "      <td>70567.2</td>\n",
              "      <td>104.0</td>\n",
              "      <td>31.0</td>\n",
              "      <td>2022</td>\n",
              "      <td>1</td>\n",
              "      <td>3</td>\n",
              "      <td>12</td>\n",
              "      <td>21</td>\n",
              "      <td>780000</td>\n",
              "      <td>785266.900</td>\n",
              "      <td>5000.0</td>\n",
              "      <td>1.0</td>\n",
              "      <td>0.006410</td>\n",
              "    </tr>\n",
              "    <tr>\n",
              "      <th>529</th>\n",
              "      <td>single_family</td>\n",
              "      <td>1772.0</td>\n",
              "      <td>False</td>\n",
              "      <td>False</td>\n",
              "      <td>3.0</td>\n",
              "      <td>False</td>\n",
              "      <td>True</td>\n",
              "      <td>False</td>\n",
              "      <td>Traverse City</td>\n",
              "      <td>Michigan</td>\n",
              "      <td>MI</td>\n",
              "      <td>49684</td>\n",
              "      <td>Grand Traverse</td>\n",
              "      <td>2.5</td>\n",
              "      <td>43560.0</td>\n",
              "      <td>37.0</td>\n",
              "      <td>NaN</td>\n",
              "      <td>2022</td>\n",
              "      <td>1</td>\n",
              "      <td>3</td>\n",
              "      <td>13</td>\n",
              "      <td>31</td>\n",
              "      <td>430000</td>\n",
              "      <td>425536.680</td>\n",
              "      <td>4000.0</td>\n",
              "      <td>-1.0</td>\n",
              "      <td>0.009302</td>\n",
              "    </tr>\n",
              "    <tr>\n",
              "      <th>635</th>\n",
              "      <td>condo</td>\n",
              "      <td>1804.0</td>\n",
              "      <td>False</td>\n",
              "      <td>False</td>\n",
              "      <td>2.0</td>\n",
              "      <td>False</td>\n",
              "      <td>True</td>\n",
              "      <td>False</td>\n",
              "      <td>Traverse City</td>\n",
              "      <td>Michigan</td>\n",
              "      <td>MI</td>\n",
              "      <td>49684</td>\n",
              "      <td>Grand Traverse</td>\n",
              "      <td>1.5</td>\n",
              "      <td>NaN</td>\n",
              "      <td>139.0</td>\n",
              "      <td>NaN</td>\n",
              "      <td>2021</td>\n",
              "      <td>4</td>\n",
              "      <td>12</td>\n",
              "      <td>48</td>\n",
              "      <td>2</td>\n",
              "      <td>580000</td>\n",
              "      <td>592479.590</td>\n",
              "      <td>12000.0</td>\n",
              "      <td>1.0</td>\n",
              "      <td>0.020690</td>\n",
              "    </tr>\n",
              "    <tr>\n",
              "      <th>621</th>\n",
              "      <td>condo</td>\n",
              "      <td>1095.0</td>\n",
              "      <td>False</td>\n",
              "      <td>True</td>\n",
              "      <td>2.0</td>\n",
              "      <td>False</td>\n",
              "      <td>True</td>\n",
              "      <td>False</td>\n",
              "      <td>Traverse City</td>\n",
              "      <td>Michigan</td>\n",
              "      <td>MI</td>\n",
              "      <td>49684</td>\n",
              "      <td>Grand Traverse</td>\n",
              "      <td>2.0</td>\n",
              "      <td>NaN</td>\n",
              "      <td>95.0</td>\n",
              "      <td>NaN</td>\n",
              "      <td>2022</td>\n",
              "      <td>2</td>\n",
              "      <td>4</td>\n",
              "      <td>13</td>\n",
              "      <td>1</td>\n",
              "      <td>565500</td>\n",
              "      <td>553273.396</td>\n",
              "      <td>12000.0</td>\n",
              "      <td>-1.0</td>\n",
              "      <td>0.021220</td>\n",
              "    </tr>\n",
              "    <tr>\n",
              "      <th>361</th>\n",
              "      <td>single_family</td>\n",
              "      <td>1042.0</td>\n",
              "      <td>False</td>\n",
              "      <td>False</td>\n",
              "      <td>3.0</td>\n",
              "      <td>False</td>\n",
              "      <td>False</td>\n",
              "      <td>False</td>\n",
              "      <td>Traverse City</td>\n",
              "      <td>Michigan</td>\n",
              "      <td>MI</td>\n",
              "      <td>49684</td>\n",
              "      <td>Grand Traverse</td>\n",
              "      <td>1.0</td>\n",
              "      <td>5663.0</td>\n",
              "      <td>27.0</td>\n",
              "      <td>NaN</td>\n",
              "      <td>2022</td>\n",
              "      <td>1</td>\n",
              "      <td>1</td>\n",
              "      <td>2</td>\n",
              "      <td>10</td>\n",
              "      <td>310000</td>\n",
              "      <td>317533.100</td>\n",
              "      <td>8000.0</td>\n",
              "      <td>1.0</td>\n",
              "      <td>0.025806</td>\n",
              "    </tr>\n",
              "    <tr>\n",
              "      <th>699</th>\n",
              "      <td>single_family</td>\n",
              "      <td>3972.0</td>\n",
              "      <td>False</td>\n",
              "      <td>False</td>\n",
              "      <td>4.0</td>\n",
              "      <td>False</td>\n",
              "      <td>True</td>\n",
              "      <td>False</td>\n",
              "      <td>Traverse City</td>\n",
              "      <td>Michigan</td>\n",
              "      <td>MI</td>\n",
              "      <td>49685</td>\n",
              "      <td>Grand Traverse</td>\n",
              "      <td>3.5</td>\n",
              "      <td>298821.6</td>\n",
              "      <td>25.0</td>\n",
              "      <td>NaN</td>\n",
              "      <td>2022</td>\n",
              "      <td>1</td>\n",
              "      <td>1</td>\n",
              "      <td>5</td>\n",
              "      <td>31</td>\n",
              "      <td>750000</td>\n",
              "      <td>729522.090</td>\n",
              "      <td>20000.0</td>\n",
              "      <td>-1.0</td>\n",
              "      <td>0.026667</td>\n",
              "    </tr>\n",
              "    <tr>\n",
              "      <th>229</th>\n",
              "      <td>single_family</td>\n",
              "      <td>1120.0</td>\n",
              "      <td>False</td>\n",
              "      <td>False</td>\n",
              "      <td>3.0</td>\n",
              "      <td>False</td>\n",
              "      <td>False</td>\n",
              "      <td>False</td>\n",
              "      <td>Traverse City</td>\n",
              "      <td>Michigan</td>\n",
              "      <td>MI</td>\n",
              "      <td>49686</td>\n",
              "      <td>Grand Traverse</td>\n",
              "      <td>1.0</td>\n",
              "      <td>14810.4</td>\n",
              "      <td>11.0</td>\n",
              "      <td>NaN</td>\n",
              "      <td>2021</td>\n",
              "      <td>4</td>\n",
              "      <td>12</td>\n",
              "      <td>50</td>\n",
              "      <td>17</td>\n",
              "      <td>232100</td>\n",
              "      <td>239885.200</td>\n",
              "      <td>8000.0</td>\n",
              "      <td>1.0</td>\n",
              "      <td>0.034468</td>\n",
              "    </tr>\n",
              "    <tr>\n",
              "      <th>259</th>\n",
              "      <td>condo</td>\n",
              "      <td>604.0</td>\n",
              "      <td>False</td>\n",
              "      <td>False</td>\n",
              "      <td>1.0</td>\n",
              "      <td>False</td>\n",
              "      <td>True</td>\n",
              "      <td>False</td>\n",
              "      <td>Traverse City</td>\n",
              "      <td>Michigan</td>\n",
              "      <td>MI</td>\n",
              "      <td>49686</td>\n",
              "      <td>Grand Traverse</td>\n",
              "      <td>1.0</td>\n",
              "      <td>NaN</td>\n",
              "      <td>29.0</td>\n",
              "      <td>NaN</td>\n",
              "      <td>2022</td>\n",
              "      <td>1</td>\n",
              "      <td>2</td>\n",
              "      <td>6</td>\n",
              "      <td>8</td>\n",
              "      <td>255000</td>\n",
              "      <td>264087.200</td>\n",
              "      <td>9000.0</td>\n",
              "      <td>1.0</td>\n",
              "      <td>0.035294</td>\n",
              "    </tr>\n",
              "  </tbody>\n",
              "</table>\n",
              "</div>\n",
              "      <button class=\"colab-df-convert\" onclick=\"convertToInteractive('df-dfdd34de-8a6a-47dc-a24e-47ade4d04c53')\"\n",
              "              title=\"Convert this dataframe to an interactive table.\"\n",
              "              style=\"display:none;\">\n",
              "        \n",
              "  <svg xmlns=\"http://www.w3.org/2000/svg\" height=\"24px\"viewBox=\"0 0 24 24\"\n",
              "       width=\"24px\">\n",
              "    <path d=\"M0 0h24v24H0V0z\" fill=\"none\"/>\n",
              "    <path d=\"M18.56 5.44l.94 2.06.94-2.06 2.06-.94-2.06-.94-.94-2.06-.94 2.06-2.06.94zm-11 1L8.5 8.5l.94-2.06 2.06-.94-2.06-.94L8.5 2.5l-.94 2.06-2.06.94zm10 10l.94 2.06.94-2.06 2.06-.94-2.06-.94-.94-2.06-.94 2.06-2.06.94z\"/><path d=\"M17.41 7.96l-1.37-1.37c-.4-.4-.92-.59-1.43-.59-.52 0-1.04.2-1.43.59L10.3 9.45l-7.72 7.72c-.78.78-.78 2.05 0 2.83L4 21.41c.39.39.9.59 1.41.59.51 0 1.02-.2 1.41-.59l7.78-7.78 2.81-2.81c.8-.78.8-2.07 0-2.86zM5.41 20L4 18.59l7.72-7.72 1.47 1.35L5.41 20z\"/>\n",
              "  </svg>\n",
              "      </button>\n",
              "      \n",
              "  <style>\n",
              "    .colab-df-container {\n",
              "      display:flex;\n",
              "      flex-wrap:wrap;\n",
              "      gap: 12px;\n",
              "    }\n",
              "\n",
              "    .colab-df-convert {\n",
              "      background-color: #E8F0FE;\n",
              "      border: none;\n",
              "      border-radius: 50%;\n",
              "      cursor: pointer;\n",
              "      display: none;\n",
              "      fill: #1967D2;\n",
              "      height: 32px;\n",
              "      padding: 0 0 0 0;\n",
              "      width: 32px;\n",
              "    }\n",
              "\n",
              "    .colab-df-convert:hover {\n",
              "      background-color: #E2EBFA;\n",
              "      box-shadow: 0px 1px 2px rgba(60, 64, 67, 0.3), 0px 1px 3px 1px rgba(60, 64, 67, 0.15);\n",
              "      fill: #174EA6;\n",
              "    }\n",
              "\n",
              "    [theme=dark] .colab-df-convert {\n",
              "      background-color: #3B4455;\n",
              "      fill: #D2E3FC;\n",
              "    }\n",
              "\n",
              "    [theme=dark] .colab-df-convert:hover {\n",
              "      background-color: #434B5C;\n",
              "      box-shadow: 0px 1px 3px 1px rgba(0, 0, 0, 0.15);\n",
              "      filter: drop-shadow(0px 1px 2px rgba(0, 0, 0, 0.3));\n",
              "      fill: #FFFFFF;\n",
              "    }\n",
              "  </style>\n",
              "\n",
              "      <script>\n",
              "        const buttonEl =\n",
              "          document.querySelector('#df-dfdd34de-8a6a-47dc-a24e-47ade4d04c53 button.colab-df-convert');\n",
              "        buttonEl.style.display =\n",
              "          google.colab.kernel.accessAllowed ? 'block' : 'none';\n",
              "\n",
              "        async function convertToInteractive(key) {\n",
              "          const element = document.querySelector('#df-dfdd34de-8a6a-47dc-a24e-47ade4d04c53');\n",
              "          const dataTable =\n",
              "            await google.colab.kernel.invokeFunction('convertToInteractive',\n",
              "                                                     [key], {});\n",
              "          if (!dataTable) return;\n",
              "\n",
              "          const docLinkHtml = 'Like what you see? Visit the ' +\n",
              "            '<a target=\"_blank\" href=https://colab.research.google.com/notebooks/data_table.ipynb>data table notebook</a>'\n",
              "            + ' to learn more about interactive tables.';\n",
              "          element.innerHTML = '';\n",
              "          dataTable['output_type'] = 'display_data';\n",
              "          await google.colab.output.renderOutput(dataTable, element);\n",
              "          const docLink = document.createElement('div');\n",
              "          docLink.innerHTML = docLinkHtml;\n",
              "          element.appendChild(docLink);\n",
              "        }\n",
              "      </script>\n",
              "    </div>\n",
              "  </div>\n",
              "  "
            ]
          },
          "metadata": {},
          "execution_count": 351
        }
      ]
    },
    {
      "cell_type": "markdown",
      "source": [
        "# Linear Regression"
      ],
      "metadata": {
        "id": "H6RDpIhJVewC"
      }
    },
    {
      "cell_type": "code",
      "source": [
        "pipe = Pipeline(steps=[('preproc', preproc),\n",
        "                       ('mdl', LinearRegression())\n",
        "                       ])\n",
        "\n",
        "# visualization of the pipeline\n",
        "with config_context(display='diagram'):\n",
        "    display(pipe)"
      ],
      "metadata": {
        "colab": {
          "base_uri": "https://localhost:8080/",
          "height": 227
        },
        "id": "EzJkvzJtVe7q",
        "outputId": "c0bfa3ab-e8c8-4d54-a233-b6da4ddeb993"
      },
      "execution_count": 57,
      "outputs": [
        {
          "output_type": "display_data",
          "data": {
            "text/plain": [
              "Pipeline(steps=[('preproc',\n",
              "                 ColumnTransformer(remainder='passthrough',\n",
              "                                   transformers=[('cat_pipe',\n",
              "                                                  Pipeline(steps=[('cat_impute',\n",
              "                                                                   SimpleImputer(strategy='most_frequent')),\n",
              "                                                                  ('onehot_cat',\n",
              "                                                                   OneHotEncoder(drop='if_binary',\n",
              "                                                                                 handle_unknown='ignore'))]),\n",
              "                                                  ['prop_type', 'is_showcase',\n",
              "                                                   'is_new_construction',\n",
              "                                                   'has_leadform',\n",
              "                                                   'is_cobroker',\n",
              "                                                   'is_foreclosure', 'city',\n",
              "                                                   'state', 'state_code',\n",
              "                                                   'postal_code', 'county',\n",
              "                                                   'nearest_water_feature']),\n",
              "                                                 ('num_pipe',\n",
              "                                                  Pipeline(steps=[('impute_num',\n",
              "                                                                   SimpleImputer()),\n",
              "                                                                  ('scale_num',\n",
              "                                                                   StandardScaler())]),\n",
              "                                                  ['sqft_raw', 'beds', 'lat',\n",
              "                                                   'lon', 'bath',\n",
              "                                                   'lot_size_sqft', 'dom',\n",
              "                                                   'drp', 'sold_year',\n",
              "                                                   'sold_quarter', 'sold_month',\n",
              "                                                   'sold_week', 'sold_day',\n",
              "                                                   'dist_to_water_meters'])])),\n",
              "                ('mdl', LinearRegression())])"
            ],
            "text/html": [
              "<style>#sk-ee768243-ca48-4fb3-b77e-424523c9b89d {color: black;background-color: white;}#sk-ee768243-ca48-4fb3-b77e-424523c9b89d pre{padding: 0;}#sk-ee768243-ca48-4fb3-b77e-424523c9b89d div.sk-toggleable {background-color: white;}#sk-ee768243-ca48-4fb3-b77e-424523c9b89d label.sk-toggleable__label {cursor: pointer;display: block;width: 100%;margin-bottom: 0;padding: 0.3em;box-sizing: border-box;text-align: center;}#sk-ee768243-ca48-4fb3-b77e-424523c9b89d label.sk-toggleable__label-arrow:before {content: \"▸\";float: left;margin-right: 0.25em;color: #696969;}#sk-ee768243-ca48-4fb3-b77e-424523c9b89d label.sk-toggleable__label-arrow:hover:before {color: black;}#sk-ee768243-ca48-4fb3-b77e-424523c9b89d div.sk-estimator:hover label.sk-toggleable__label-arrow:before {color: black;}#sk-ee768243-ca48-4fb3-b77e-424523c9b89d div.sk-toggleable__content {max-height: 0;max-width: 0;overflow: hidden;text-align: left;background-color: #f0f8ff;}#sk-ee768243-ca48-4fb3-b77e-424523c9b89d div.sk-toggleable__content pre {margin: 0.2em;color: black;border-radius: 0.25em;background-color: #f0f8ff;}#sk-ee768243-ca48-4fb3-b77e-424523c9b89d input.sk-toggleable__control:checked~div.sk-toggleable__content {max-height: 200px;max-width: 100%;overflow: auto;}#sk-ee768243-ca48-4fb3-b77e-424523c9b89d input.sk-toggleable__control:checked~label.sk-toggleable__label-arrow:before {content: \"▾\";}#sk-ee768243-ca48-4fb3-b77e-424523c9b89d div.sk-estimator input.sk-toggleable__control:checked~label.sk-toggleable__label {background-color: #d4ebff;}#sk-ee768243-ca48-4fb3-b77e-424523c9b89d div.sk-label input.sk-toggleable__control:checked~label.sk-toggleable__label {background-color: #d4ebff;}#sk-ee768243-ca48-4fb3-b77e-424523c9b89d input.sk-hidden--visually {border: 0;clip: rect(1px 1px 1px 1px);clip: rect(1px, 1px, 1px, 1px);height: 1px;margin: -1px;overflow: hidden;padding: 0;position: absolute;width: 1px;}#sk-ee768243-ca48-4fb3-b77e-424523c9b89d div.sk-estimator {font-family: monospace;background-color: #f0f8ff;border: 1px dotted black;border-radius: 0.25em;box-sizing: border-box;margin-bottom: 0.5em;}#sk-ee768243-ca48-4fb3-b77e-424523c9b89d div.sk-estimator:hover {background-color: #d4ebff;}#sk-ee768243-ca48-4fb3-b77e-424523c9b89d div.sk-parallel-item::after {content: \"\";width: 100%;border-bottom: 1px solid gray;flex-grow: 1;}#sk-ee768243-ca48-4fb3-b77e-424523c9b89d div.sk-label:hover label.sk-toggleable__label {background-color: #d4ebff;}#sk-ee768243-ca48-4fb3-b77e-424523c9b89d div.sk-serial::before {content: \"\";position: absolute;border-left: 1px solid gray;box-sizing: border-box;top: 2em;bottom: 0;left: 50%;}#sk-ee768243-ca48-4fb3-b77e-424523c9b89d div.sk-serial {display: flex;flex-direction: column;align-items: center;background-color: white;padding-right: 0.2em;padding-left: 0.2em;}#sk-ee768243-ca48-4fb3-b77e-424523c9b89d div.sk-item {z-index: 1;}#sk-ee768243-ca48-4fb3-b77e-424523c9b89d div.sk-parallel {display: flex;align-items: stretch;justify-content: center;background-color: white;}#sk-ee768243-ca48-4fb3-b77e-424523c9b89d div.sk-parallel::before {content: \"\";position: absolute;border-left: 1px solid gray;box-sizing: border-box;top: 2em;bottom: 0;left: 50%;}#sk-ee768243-ca48-4fb3-b77e-424523c9b89d div.sk-parallel-item {display: flex;flex-direction: column;position: relative;background-color: white;}#sk-ee768243-ca48-4fb3-b77e-424523c9b89d div.sk-parallel-item:first-child::after {align-self: flex-end;width: 50%;}#sk-ee768243-ca48-4fb3-b77e-424523c9b89d div.sk-parallel-item:last-child::after {align-self: flex-start;width: 50%;}#sk-ee768243-ca48-4fb3-b77e-424523c9b89d div.sk-parallel-item:only-child::after {width: 0;}#sk-ee768243-ca48-4fb3-b77e-424523c9b89d div.sk-dashed-wrapped {border: 1px dashed gray;margin: 0 0.4em 0.5em 0.4em;box-sizing: border-box;padding-bottom: 0.4em;background-color: white;position: relative;}#sk-ee768243-ca48-4fb3-b77e-424523c9b89d div.sk-label label {font-family: monospace;font-weight: bold;background-color: white;display: inline-block;line-height: 1.2em;}#sk-ee768243-ca48-4fb3-b77e-424523c9b89d div.sk-label-container {position: relative;z-index: 2;text-align: center;}#sk-ee768243-ca48-4fb3-b77e-424523c9b89d div.sk-container {/* jupyter's `normalize.less` sets `[hidden] { display: none; }` but bootstrap.min.css set `[hidden] { display: none !important; }` so we also need the `!important` here to be able to override the default hidden behavior on the sphinx rendered scikit-learn.org. See: https://github.com/scikit-learn/scikit-learn/issues/21755 */display: inline-block !important;position: relative;}#sk-ee768243-ca48-4fb3-b77e-424523c9b89d div.sk-text-repr-fallback {display: none;}</style><div id=\"sk-ee768243-ca48-4fb3-b77e-424523c9b89d\" class=\"sk-top-container\"><div class=\"sk-text-repr-fallback\"><pre>Pipeline(steps=[(&#x27;preproc&#x27;,\n",
              "                 ColumnTransformer(remainder=&#x27;passthrough&#x27;,\n",
              "                                   transformers=[(&#x27;cat_pipe&#x27;,\n",
              "                                                  Pipeline(steps=[(&#x27;cat_impute&#x27;,\n",
              "                                                                   SimpleImputer(strategy=&#x27;most_frequent&#x27;)),\n",
              "                                                                  (&#x27;onehot_cat&#x27;,\n",
              "                                                                   OneHotEncoder(drop=&#x27;if_binary&#x27;,\n",
              "                                                                                 handle_unknown=&#x27;ignore&#x27;))]),\n",
              "                                                  [&#x27;prop_type&#x27;, &#x27;is_showcase&#x27;,\n",
              "                                                   &#x27;is_new_construction&#x27;,\n",
              "                                                   &#x27;has_leadform&#x27;,\n",
              "                                                   &#x27;is_cobroker&#x27;,\n",
              "                                                   &#x27;is_foreclosure&#x27;, &#x27;city&#x27;,\n",
              "                                                   &#x27;state&#x27;, &#x27;state_code&#x27;,\n",
              "                                                   &#x27;postal_code&#x27;, &#x27;county&#x27;,\n",
              "                                                   &#x27;nearest_water_feature&#x27;]),\n",
              "                                                 (&#x27;num_pipe&#x27;,\n",
              "                                                  Pipeline(steps=[(&#x27;impute_num&#x27;,\n",
              "                                                                   SimpleImputer()),\n",
              "                                                                  (&#x27;scale_num&#x27;,\n",
              "                                                                   StandardScaler())]),\n",
              "                                                  [&#x27;sqft_raw&#x27;, &#x27;beds&#x27;, &#x27;lat&#x27;,\n",
              "                                                   &#x27;lon&#x27;, &#x27;bath&#x27;,\n",
              "                                                   &#x27;lot_size_sqft&#x27;, &#x27;dom&#x27;,\n",
              "                                                   &#x27;drp&#x27;, &#x27;sold_year&#x27;,\n",
              "                                                   &#x27;sold_quarter&#x27;, &#x27;sold_month&#x27;,\n",
              "                                                   &#x27;sold_week&#x27;, &#x27;sold_day&#x27;,\n",
              "                                                   &#x27;dist_to_water_meters&#x27;])])),\n",
              "                (&#x27;mdl&#x27;, LinearRegression())])</pre><b>Please rerun this cell to show the HTML repr or trust the notebook.</b></div><div class=\"sk-container\" hidden><div class=\"sk-item sk-dashed-wrapped\"><div class=\"sk-label-container\"><div class=\"sk-label sk-toggleable\"><input class=\"sk-toggleable__control sk-hidden--visually\" id=\"89f50b1a-17b9-46f9-867a-2adb47d27de4\" type=\"checkbox\" ><label for=\"89f50b1a-17b9-46f9-867a-2adb47d27de4\" class=\"sk-toggleable__label sk-toggleable__label-arrow\">Pipeline</label><div class=\"sk-toggleable__content\"><pre>Pipeline(steps=[(&#x27;preproc&#x27;,\n",
              "                 ColumnTransformer(remainder=&#x27;passthrough&#x27;,\n",
              "                                   transformers=[(&#x27;cat_pipe&#x27;,\n",
              "                                                  Pipeline(steps=[(&#x27;cat_impute&#x27;,\n",
              "                                                                   SimpleImputer(strategy=&#x27;most_frequent&#x27;)),\n",
              "                                                                  (&#x27;onehot_cat&#x27;,\n",
              "                                                                   OneHotEncoder(drop=&#x27;if_binary&#x27;,\n",
              "                                                                                 handle_unknown=&#x27;ignore&#x27;))]),\n",
              "                                                  [&#x27;prop_type&#x27;, &#x27;is_showcase&#x27;,\n",
              "                                                   &#x27;is_new_construction&#x27;,\n",
              "                                                   &#x27;has_leadform&#x27;,\n",
              "                                                   &#x27;is_cobroker&#x27;,\n",
              "                                                   &#x27;is_foreclosure&#x27;, &#x27;city&#x27;,\n",
              "                                                   &#x27;state&#x27;, &#x27;state_code&#x27;,\n",
              "                                                   &#x27;postal_code&#x27;, &#x27;county&#x27;,\n",
              "                                                   &#x27;nearest_water_feature&#x27;]),\n",
              "                                                 (&#x27;num_pipe&#x27;,\n",
              "                                                  Pipeline(steps=[(&#x27;impute_num&#x27;,\n",
              "                                                                   SimpleImputer()),\n",
              "                                                                  (&#x27;scale_num&#x27;,\n",
              "                                                                   StandardScaler())]),\n",
              "                                                  [&#x27;sqft_raw&#x27;, &#x27;beds&#x27;, &#x27;lat&#x27;,\n",
              "                                                   &#x27;lon&#x27;, &#x27;bath&#x27;,\n",
              "                                                   &#x27;lot_size_sqft&#x27;, &#x27;dom&#x27;,\n",
              "                                                   &#x27;drp&#x27;, &#x27;sold_year&#x27;,\n",
              "                                                   &#x27;sold_quarter&#x27;, &#x27;sold_month&#x27;,\n",
              "                                                   &#x27;sold_week&#x27;, &#x27;sold_day&#x27;,\n",
              "                                                   &#x27;dist_to_water_meters&#x27;])])),\n",
              "                (&#x27;mdl&#x27;, LinearRegression())])</pre></div></div></div><div class=\"sk-serial\"><div class=\"sk-item sk-dashed-wrapped\"><div class=\"sk-label-container\"><div class=\"sk-label sk-toggleable\"><input class=\"sk-toggleable__control sk-hidden--visually\" id=\"4452b07f-0a4d-4259-a908-f757992085c3\" type=\"checkbox\" ><label for=\"4452b07f-0a4d-4259-a908-f757992085c3\" class=\"sk-toggleable__label sk-toggleable__label-arrow\">preproc: ColumnTransformer</label><div class=\"sk-toggleable__content\"><pre>ColumnTransformer(remainder=&#x27;passthrough&#x27;,\n",
              "                  transformers=[(&#x27;cat_pipe&#x27;,\n",
              "                                 Pipeline(steps=[(&#x27;cat_impute&#x27;,\n",
              "                                                  SimpleImputer(strategy=&#x27;most_frequent&#x27;)),\n",
              "                                                 (&#x27;onehot_cat&#x27;,\n",
              "                                                  OneHotEncoder(drop=&#x27;if_binary&#x27;,\n",
              "                                                                handle_unknown=&#x27;ignore&#x27;))]),\n",
              "                                 [&#x27;prop_type&#x27;, &#x27;is_showcase&#x27;,\n",
              "                                  &#x27;is_new_construction&#x27;, &#x27;has_leadform&#x27;,\n",
              "                                  &#x27;is_cobroker&#x27;, &#x27;is_foreclosure&#x27;, &#x27;city&#x27;,\n",
              "                                  &#x27;state&#x27;, &#x27;state_code&#x27;, &#x27;postal_code&#x27;,\n",
              "                                  &#x27;county&#x27;, &#x27;nearest_water_feature&#x27;]),\n",
              "                                (&#x27;num_pipe&#x27;,\n",
              "                                 Pipeline(steps=[(&#x27;impute_num&#x27;,\n",
              "                                                  SimpleImputer()),\n",
              "                                                 (&#x27;scale_num&#x27;,\n",
              "                                                  StandardScaler())]),\n",
              "                                 [&#x27;sqft_raw&#x27;, &#x27;beds&#x27;, &#x27;lat&#x27;, &#x27;lon&#x27;, &#x27;bath&#x27;,\n",
              "                                  &#x27;lot_size_sqft&#x27;, &#x27;dom&#x27;, &#x27;drp&#x27;, &#x27;sold_year&#x27;,\n",
              "                                  &#x27;sold_quarter&#x27;, &#x27;sold_month&#x27;, &#x27;sold_week&#x27;,\n",
              "                                  &#x27;sold_day&#x27;, &#x27;dist_to_water_meters&#x27;])])</pre></div></div></div><div class=\"sk-parallel\"><div class=\"sk-parallel-item\"><div class=\"sk-item\"><div class=\"sk-label-container\"><div class=\"sk-label sk-toggleable\"><input class=\"sk-toggleable__control sk-hidden--visually\" id=\"158a1c57-a863-4b27-a06e-87d7b30530ac\" type=\"checkbox\" ><label for=\"158a1c57-a863-4b27-a06e-87d7b30530ac\" class=\"sk-toggleable__label sk-toggleable__label-arrow\">cat_pipe</label><div class=\"sk-toggleable__content\"><pre>[&#x27;prop_type&#x27;, &#x27;is_showcase&#x27;, &#x27;is_new_construction&#x27;, &#x27;has_leadform&#x27;, &#x27;is_cobroker&#x27;, &#x27;is_foreclosure&#x27;, &#x27;city&#x27;, &#x27;state&#x27;, &#x27;state_code&#x27;, &#x27;postal_code&#x27;, &#x27;county&#x27;, &#x27;nearest_water_feature&#x27;]</pre></div></div></div><div class=\"sk-serial\"><div class=\"sk-item\"><div class=\"sk-serial\"><div class=\"sk-item\"><div class=\"sk-estimator sk-toggleable\"><input class=\"sk-toggleable__control sk-hidden--visually\" id=\"fb7958a5-b6f1-460b-a9df-bcdf38152166\" type=\"checkbox\" ><label for=\"fb7958a5-b6f1-460b-a9df-bcdf38152166\" class=\"sk-toggleable__label sk-toggleable__label-arrow\">SimpleImputer</label><div class=\"sk-toggleable__content\"><pre>SimpleImputer(strategy=&#x27;most_frequent&#x27;)</pre></div></div></div><div class=\"sk-item\"><div class=\"sk-estimator sk-toggleable\"><input class=\"sk-toggleable__control sk-hidden--visually\" id=\"c11f2ccc-0b5e-434a-a6f1-ae807b684ec6\" type=\"checkbox\" ><label for=\"c11f2ccc-0b5e-434a-a6f1-ae807b684ec6\" class=\"sk-toggleable__label sk-toggleable__label-arrow\">OneHotEncoder</label><div class=\"sk-toggleable__content\"><pre>OneHotEncoder(drop=&#x27;if_binary&#x27;, handle_unknown=&#x27;ignore&#x27;)</pre></div></div></div></div></div></div></div></div><div class=\"sk-parallel-item\"><div class=\"sk-item\"><div class=\"sk-label-container\"><div class=\"sk-label sk-toggleable\"><input class=\"sk-toggleable__control sk-hidden--visually\" id=\"ddf1ad3a-7cc4-4990-bb19-3de91a6a38d3\" type=\"checkbox\" ><label for=\"ddf1ad3a-7cc4-4990-bb19-3de91a6a38d3\" class=\"sk-toggleable__label sk-toggleable__label-arrow\">num_pipe</label><div class=\"sk-toggleable__content\"><pre>[&#x27;sqft_raw&#x27;, &#x27;beds&#x27;, &#x27;lat&#x27;, &#x27;lon&#x27;, &#x27;bath&#x27;, &#x27;lot_size_sqft&#x27;, &#x27;dom&#x27;, &#x27;drp&#x27;, &#x27;sold_year&#x27;, &#x27;sold_quarter&#x27;, &#x27;sold_month&#x27;, &#x27;sold_week&#x27;, &#x27;sold_day&#x27;, &#x27;dist_to_water_meters&#x27;]</pre></div></div></div><div class=\"sk-serial\"><div class=\"sk-item\"><div class=\"sk-serial\"><div class=\"sk-item\"><div class=\"sk-estimator sk-toggleable\"><input class=\"sk-toggleable__control sk-hidden--visually\" id=\"471f9ee4-7027-4595-a67c-216727c8f92f\" type=\"checkbox\" ><label for=\"471f9ee4-7027-4595-a67c-216727c8f92f\" class=\"sk-toggleable__label sk-toggleable__label-arrow\">SimpleImputer</label><div class=\"sk-toggleable__content\"><pre>SimpleImputer()</pre></div></div></div><div class=\"sk-item\"><div class=\"sk-estimator sk-toggleable\"><input class=\"sk-toggleable__control sk-hidden--visually\" id=\"fe3d34e0-6d72-42d4-9957-61b5badf1434\" type=\"checkbox\" ><label for=\"fe3d34e0-6d72-42d4-9957-61b5badf1434\" class=\"sk-toggleable__label sk-toggleable__label-arrow\">StandardScaler</label><div class=\"sk-toggleable__content\"><pre>StandardScaler()</pre></div></div></div></div></div></div></div></div><div class=\"sk-parallel-item\"><div class=\"sk-item\"><div class=\"sk-label-container\"><div class=\"sk-label sk-toggleable\"><input class=\"sk-toggleable__control sk-hidden--visually\" id=\"3433cc5b-8ed3-4bda-965e-9f0f03705c8c\" type=\"checkbox\" ><label for=\"3433cc5b-8ed3-4bda-965e-9f0f03705c8c\" class=\"sk-toggleable__label sk-toggleable__label-arrow\">remainder</label><div class=\"sk-toggleable__content\"><pre></pre></div></div></div><div class=\"sk-serial\"><div class=\"sk-item\"><div class=\"sk-estimator sk-toggleable\"><input class=\"sk-toggleable__control sk-hidden--visually\" id=\"6b85cc93-cb18-483a-88e4-35618b4c3fdb\" type=\"checkbox\" ><label for=\"6b85cc93-cb18-483a-88e4-35618b4c3fdb\" class=\"sk-toggleable__label sk-toggleable__label-arrow\">passthrough</label><div class=\"sk-toggleable__content\"><pre>passthrough</pre></div></div></div></div></div></div></div></div><div class=\"sk-item\"><div class=\"sk-estimator sk-toggleable\"><input class=\"sk-toggleable__control sk-hidden--visually\" id=\"13e6fa5e-8646-4a0c-9ecf-2792e5bd9567\" type=\"checkbox\" ><label for=\"13e6fa5e-8646-4a0c-9ecf-2792e5bd9567\" class=\"sk-toggleable__label sk-toggleable__label-arrow\">LinearRegression</label><div class=\"sk-toggleable__content\"><pre>LinearRegression()</pre></div></div></div></div></div></div></div>"
            ]
          },
          "metadata": {}
        }
      ]
    },
    {
      "cell_type": "code",
      "source": [
        "pipe.fit(X_train, y_train)"
      ],
      "metadata": {
        "colab": {
          "base_uri": "https://localhost:8080/"
        },
        "id": "Y2HUDr5iV_7O",
        "outputId": "6cc1b0a3-3309-4418-aa30-0a926ba72a30"
      },
      "execution_count": 58,
      "outputs": [
        {
          "output_type": "execute_result",
          "data": {
            "text/plain": [
              "Pipeline(steps=[('preproc',\n",
              "                 ColumnTransformer(remainder='passthrough',\n",
              "                                   transformers=[('cat_pipe',\n",
              "                                                  Pipeline(steps=[('cat_impute',\n",
              "                                                                   SimpleImputer(strategy='most_frequent')),\n",
              "                                                                  ('onehot_cat',\n",
              "                                                                   OneHotEncoder(drop='if_binary',\n",
              "                                                                                 handle_unknown='ignore'))]),\n",
              "                                                  ['prop_type', 'is_showcase',\n",
              "                                                   'is_new_construction',\n",
              "                                                   'has_leadform',\n",
              "                                                   'is_cobroker',\n",
              "                                                   'is_foreclosure', 'city',\n",
              "                                                   'state', 'state_code',\n",
              "                                                   'postal_code', 'county',\n",
              "                                                   'nearest_water_feature']),\n",
              "                                                 ('num_pipe',\n",
              "                                                  Pipeline(steps=[('impute_num',\n",
              "                                                                   SimpleImputer()),\n",
              "                                                                  ('scale_num',\n",
              "                                                                   StandardScaler())]),\n",
              "                                                  ['sqft_raw', 'beds', 'lat',\n",
              "                                                   'lon', 'bath',\n",
              "                                                   'lot_size_sqft', 'dom',\n",
              "                                                   'drp', 'sold_year',\n",
              "                                                   'sold_quarter', 'sold_month',\n",
              "                                                   'sold_week', 'sold_day',\n",
              "                                                   'dist_to_water_meters'])])),\n",
              "                ('mdl', LinearRegression())])"
            ]
          },
          "metadata": {},
          "execution_count": 58
        }
      ]
    },
    {
      "cell_type": "markdown",
      "source": [
        "### Performance"
      ],
      "metadata": {
        "id": "lov8sjZCZ5Yk"
      }
    },
    {
      "cell_type": "code",
      "source": [
        "rmse = np.sqrt(mean_squared_error(y_test.reset_index(drop=True), pipe.predict(X_test)))\n",
        "mape = mean_absolute_percentage_error(y_test.reset_index(drop=True), pipe.predict(X_test))\n",
        "r2 = r2_score(y_test.reset_index(drop=True), pipe.predict(X_test))\n",
        "\n",
        "print(f'R2: {r2}')\n",
        "print(f'RMSE: {rmse}')\n",
        "print(f'MAPE: {mape}')"
      ],
      "metadata": {
        "colab": {
          "base_uri": "https://localhost:8080/"
        },
        "id": "ttDJQx4XUxup",
        "outputId": "c27dc947-bda9-40dc-e1e6-3ce1c0ad01ca"
      },
      "execution_count": 62,
      "outputs": [
        {
          "output_type": "stream",
          "name": "stdout",
          "text": [
            "R2: 0.14241231987245884\n",
            "RMSE: 391710.61210430035\n",
            "MAPE: 0.6911585464378046\n"
          ]
        },
        {
          "output_type": "stream",
          "name": "stderr",
          "text": [
            "/usr/local/lib/python3.7/dist-packages/sklearn/preprocessing/_encoders.py:174: UserWarning: Found unknown categories in columns [11] during transform. These unknown categories will be encoded as all zeros\n",
            "  UserWarning,\n",
            "/usr/local/lib/python3.7/dist-packages/sklearn/preprocessing/_encoders.py:174: UserWarning: Found unknown categories in columns [11] during transform. These unknown categories will be encoded as all zeros\n",
            "  UserWarning,\n",
            "/usr/local/lib/python3.7/dist-packages/sklearn/preprocessing/_encoders.py:174: UserWarning: Found unknown categories in columns [11] during transform. These unknown categories will be encoded as all zeros\n",
            "  UserWarning,\n"
          ]
        }
      ]
    },
    {
      "cell_type": "code",
      "source": [
        "if show_importances:\n",
        "    coefs = pipe.named_steps['mdl'].coef_\n",
        "\n",
        "    cat_names = pipe.named_steps['preproc'].transformers_[0][1].named_steps['onehot_cat'].get_feature_names()\n",
        "    num_names = pipe.named_steps['preproc'].transformers_[1][2]\n",
        "\n",
        "    # order here suggests this will work\n",
        "    # grid_search.best_estimator_\n",
        "    # grid_search.best_estimator_.named_steps['mdl'].feature_importances_\n",
        "    # feature_names = cat_names + num_names\n",
        "\n",
        "    # score coefficients into a new dataframe\n",
        "    coef_info = pd.DataFrame({'feature_names': np.hstack([cat_names, num_names]), 'feature_imp': coefs})\n",
        "    coef_info = coef_info[ coef_info['feature_imp'] > 0.01 ]\n",
        "\n",
        "    # get sign and magnitude of the weights (coefs)\n",
        "    coef_info = coef_info.assign(coef_mag = abs(coef_info['feature_imp']),\n",
        "                                coef_sign = np.sign(coef_info['feature_imp']))\n",
        "\n",
        "    # sort the coef_info dataframe and plot with a barplot! \n",
        "    coef_info = coef_info.set_index('feature_names').sort_values(by='coef_mag', ascending=False)\n",
        "    sns.barplot(y=coef_info.index, x='coef_mag', hue='coef_sign', data=coef_info, orient='h', dodge=False);"
      ],
      "metadata": {
        "id": "HVDtH3dhU--r"
      },
      "execution_count": 63,
      "outputs": []
    },
    {
      "cell_type": "markdown",
      "source": [
        "# Gradient Boost Regression"
      ],
      "metadata": {
        "id": "b-1ZxfniVfN-"
      }
    },
    {
      "cell_type": "code",
      "source": [
        "pipe = Pipeline(steps=[('preproc', preproc),\n",
        "                       ('mdl', GradientBoostingRegressor(loss=\"squared_error\",\n",
        "                                                         criterion=\"friedman_mse\"))\n",
        "                       ])\n",
        "\n",
        "# visualization of the pipeline\n",
        "with config_context(display='diagram'):\n",
        "    display(pipe)\n",
        "\n",
        "tuning_grid = {'mdl__n_estimators' : [100, 200, 300, 500],\n",
        "               'mdl__learning_rate': [0.3, 0.5, 1.0] }\n",
        "\n",
        "grid_search = GridSearchCV(pipe, \n",
        "                           param_grid = tuning_grid, \n",
        "                           cv = 5, \n",
        "                           return_train_score=True)"
      ],
      "metadata": {
        "colab": {
          "base_uri": "https://localhost:8080/",
          "height": 227
        },
        "id": "Y3VpN-kjVfTb",
        "outputId": "cab07a29-3426-4996-a636-2f6941dde5a1"
      },
      "execution_count": 64,
      "outputs": [
        {
          "output_type": "display_data",
          "data": {
            "text/plain": [
              "Pipeline(steps=[('preproc',\n",
              "                 ColumnTransformer(remainder='passthrough',\n",
              "                                   transformers=[('cat_pipe',\n",
              "                                                  Pipeline(steps=[('cat_impute',\n",
              "                                                                   SimpleImputer(strategy='most_frequent')),\n",
              "                                                                  ('onehot_cat',\n",
              "                                                                   OneHotEncoder(drop='if_binary',\n",
              "                                                                                 handle_unknown='ignore'))]),\n",
              "                                                  ['prop_type', 'is_showcase',\n",
              "                                                   'is_new_construction',\n",
              "                                                   'has_leadform',\n",
              "                                                   'is_cobroker',\n",
              "                                                   'is_foreclosure', 'city',\n",
              "                                                   'state', 'state_code',\n",
              "                                                   'postal_code', 'county',\n",
              "                                                   'nearest_water_feature']),\n",
              "                                                 ('num_pipe',\n",
              "                                                  Pipeline(steps=[('impute_num',\n",
              "                                                                   SimpleImputer()),\n",
              "                                                                  ('scale_num',\n",
              "                                                                   StandardScaler())]),\n",
              "                                                  ['sqft_raw', 'beds', 'lat',\n",
              "                                                   'lon', 'bath',\n",
              "                                                   'lot_size_sqft', 'dom',\n",
              "                                                   'drp', 'sold_year',\n",
              "                                                   'sold_quarter', 'sold_month',\n",
              "                                                   'sold_week', 'sold_day',\n",
              "                                                   'dist_to_water_meters'])])),\n",
              "                ('mdl', GradientBoostingRegressor())])"
            ],
            "text/html": [
              "<style>#sk-cb50afd8-19e2-4047-b070-c33bb5fb28a0 {color: black;background-color: white;}#sk-cb50afd8-19e2-4047-b070-c33bb5fb28a0 pre{padding: 0;}#sk-cb50afd8-19e2-4047-b070-c33bb5fb28a0 div.sk-toggleable {background-color: white;}#sk-cb50afd8-19e2-4047-b070-c33bb5fb28a0 label.sk-toggleable__label {cursor: pointer;display: block;width: 100%;margin-bottom: 0;padding: 0.3em;box-sizing: border-box;text-align: center;}#sk-cb50afd8-19e2-4047-b070-c33bb5fb28a0 label.sk-toggleable__label-arrow:before {content: \"▸\";float: left;margin-right: 0.25em;color: #696969;}#sk-cb50afd8-19e2-4047-b070-c33bb5fb28a0 label.sk-toggleable__label-arrow:hover:before {color: black;}#sk-cb50afd8-19e2-4047-b070-c33bb5fb28a0 div.sk-estimator:hover label.sk-toggleable__label-arrow:before {color: black;}#sk-cb50afd8-19e2-4047-b070-c33bb5fb28a0 div.sk-toggleable__content {max-height: 0;max-width: 0;overflow: hidden;text-align: left;background-color: #f0f8ff;}#sk-cb50afd8-19e2-4047-b070-c33bb5fb28a0 div.sk-toggleable__content pre {margin: 0.2em;color: black;border-radius: 0.25em;background-color: #f0f8ff;}#sk-cb50afd8-19e2-4047-b070-c33bb5fb28a0 input.sk-toggleable__control:checked~div.sk-toggleable__content {max-height: 200px;max-width: 100%;overflow: auto;}#sk-cb50afd8-19e2-4047-b070-c33bb5fb28a0 input.sk-toggleable__control:checked~label.sk-toggleable__label-arrow:before {content: \"▾\";}#sk-cb50afd8-19e2-4047-b070-c33bb5fb28a0 div.sk-estimator input.sk-toggleable__control:checked~label.sk-toggleable__label {background-color: #d4ebff;}#sk-cb50afd8-19e2-4047-b070-c33bb5fb28a0 div.sk-label input.sk-toggleable__control:checked~label.sk-toggleable__label {background-color: #d4ebff;}#sk-cb50afd8-19e2-4047-b070-c33bb5fb28a0 input.sk-hidden--visually {border: 0;clip: rect(1px 1px 1px 1px);clip: rect(1px, 1px, 1px, 1px);height: 1px;margin: -1px;overflow: hidden;padding: 0;position: absolute;width: 1px;}#sk-cb50afd8-19e2-4047-b070-c33bb5fb28a0 div.sk-estimator {font-family: monospace;background-color: #f0f8ff;border: 1px dotted black;border-radius: 0.25em;box-sizing: border-box;margin-bottom: 0.5em;}#sk-cb50afd8-19e2-4047-b070-c33bb5fb28a0 div.sk-estimator:hover {background-color: #d4ebff;}#sk-cb50afd8-19e2-4047-b070-c33bb5fb28a0 div.sk-parallel-item::after {content: \"\";width: 100%;border-bottom: 1px solid gray;flex-grow: 1;}#sk-cb50afd8-19e2-4047-b070-c33bb5fb28a0 div.sk-label:hover label.sk-toggleable__label {background-color: #d4ebff;}#sk-cb50afd8-19e2-4047-b070-c33bb5fb28a0 div.sk-serial::before {content: \"\";position: absolute;border-left: 1px solid gray;box-sizing: border-box;top: 2em;bottom: 0;left: 50%;}#sk-cb50afd8-19e2-4047-b070-c33bb5fb28a0 div.sk-serial {display: flex;flex-direction: column;align-items: center;background-color: white;padding-right: 0.2em;padding-left: 0.2em;}#sk-cb50afd8-19e2-4047-b070-c33bb5fb28a0 div.sk-item {z-index: 1;}#sk-cb50afd8-19e2-4047-b070-c33bb5fb28a0 div.sk-parallel {display: flex;align-items: stretch;justify-content: center;background-color: white;}#sk-cb50afd8-19e2-4047-b070-c33bb5fb28a0 div.sk-parallel::before {content: \"\";position: absolute;border-left: 1px solid gray;box-sizing: border-box;top: 2em;bottom: 0;left: 50%;}#sk-cb50afd8-19e2-4047-b070-c33bb5fb28a0 div.sk-parallel-item {display: flex;flex-direction: column;position: relative;background-color: white;}#sk-cb50afd8-19e2-4047-b070-c33bb5fb28a0 div.sk-parallel-item:first-child::after {align-self: flex-end;width: 50%;}#sk-cb50afd8-19e2-4047-b070-c33bb5fb28a0 div.sk-parallel-item:last-child::after {align-self: flex-start;width: 50%;}#sk-cb50afd8-19e2-4047-b070-c33bb5fb28a0 div.sk-parallel-item:only-child::after {width: 0;}#sk-cb50afd8-19e2-4047-b070-c33bb5fb28a0 div.sk-dashed-wrapped {border: 1px dashed gray;margin: 0 0.4em 0.5em 0.4em;box-sizing: border-box;padding-bottom: 0.4em;background-color: white;position: relative;}#sk-cb50afd8-19e2-4047-b070-c33bb5fb28a0 div.sk-label label {font-family: monospace;font-weight: bold;background-color: white;display: inline-block;line-height: 1.2em;}#sk-cb50afd8-19e2-4047-b070-c33bb5fb28a0 div.sk-label-container {position: relative;z-index: 2;text-align: center;}#sk-cb50afd8-19e2-4047-b070-c33bb5fb28a0 div.sk-container {/* jupyter's `normalize.less` sets `[hidden] { display: none; }` but bootstrap.min.css set `[hidden] { display: none !important; }` so we also need the `!important` here to be able to override the default hidden behavior on the sphinx rendered scikit-learn.org. See: https://github.com/scikit-learn/scikit-learn/issues/21755 */display: inline-block !important;position: relative;}#sk-cb50afd8-19e2-4047-b070-c33bb5fb28a0 div.sk-text-repr-fallback {display: none;}</style><div id=\"sk-cb50afd8-19e2-4047-b070-c33bb5fb28a0\" class=\"sk-top-container\"><div class=\"sk-text-repr-fallback\"><pre>Pipeline(steps=[(&#x27;preproc&#x27;,\n",
              "                 ColumnTransformer(remainder=&#x27;passthrough&#x27;,\n",
              "                                   transformers=[(&#x27;cat_pipe&#x27;,\n",
              "                                                  Pipeline(steps=[(&#x27;cat_impute&#x27;,\n",
              "                                                                   SimpleImputer(strategy=&#x27;most_frequent&#x27;)),\n",
              "                                                                  (&#x27;onehot_cat&#x27;,\n",
              "                                                                   OneHotEncoder(drop=&#x27;if_binary&#x27;,\n",
              "                                                                                 handle_unknown=&#x27;ignore&#x27;))]),\n",
              "                                                  [&#x27;prop_type&#x27;, &#x27;is_showcase&#x27;,\n",
              "                                                   &#x27;is_new_construction&#x27;,\n",
              "                                                   &#x27;has_leadform&#x27;,\n",
              "                                                   &#x27;is_cobroker&#x27;,\n",
              "                                                   &#x27;is_foreclosure&#x27;, &#x27;city&#x27;,\n",
              "                                                   &#x27;state&#x27;, &#x27;state_code&#x27;,\n",
              "                                                   &#x27;postal_code&#x27;, &#x27;county&#x27;,\n",
              "                                                   &#x27;nearest_water_feature&#x27;]),\n",
              "                                                 (&#x27;num_pipe&#x27;,\n",
              "                                                  Pipeline(steps=[(&#x27;impute_num&#x27;,\n",
              "                                                                   SimpleImputer()),\n",
              "                                                                  (&#x27;scale_num&#x27;,\n",
              "                                                                   StandardScaler())]),\n",
              "                                                  [&#x27;sqft_raw&#x27;, &#x27;beds&#x27;, &#x27;lat&#x27;,\n",
              "                                                   &#x27;lon&#x27;, &#x27;bath&#x27;,\n",
              "                                                   &#x27;lot_size_sqft&#x27;, &#x27;dom&#x27;,\n",
              "                                                   &#x27;drp&#x27;, &#x27;sold_year&#x27;,\n",
              "                                                   &#x27;sold_quarter&#x27;, &#x27;sold_month&#x27;,\n",
              "                                                   &#x27;sold_week&#x27;, &#x27;sold_day&#x27;,\n",
              "                                                   &#x27;dist_to_water_meters&#x27;])])),\n",
              "                (&#x27;mdl&#x27;, GradientBoostingRegressor())])</pre><b>Please rerun this cell to show the HTML repr or trust the notebook.</b></div><div class=\"sk-container\" hidden><div class=\"sk-item sk-dashed-wrapped\"><div class=\"sk-label-container\"><div class=\"sk-label sk-toggleable\"><input class=\"sk-toggleable__control sk-hidden--visually\" id=\"02a7454f-2168-4774-9d65-118e91236ac5\" type=\"checkbox\" ><label for=\"02a7454f-2168-4774-9d65-118e91236ac5\" class=\"sk-toggleable__label sk-toggleable__label-arrow\">Pipeline</label><div class=\"sk-toggleable__content\"><pre>Pipeline(steps=[(&#x27;preproc&#x27;,\n",
              "                 ColumnTransformer(remainder=&#x27;passthrough&#x27;,\n",
              "                                   transformers=[(&#x27;cat_pipe&#x27;,\n",
              "                                                  Pipeline(steps=[(&#x27;cat_impute&#x27;,\n",
              "                                                                   SimpleImputer(strategy=&#x27;most_frequent&#x27;)),\n",
              "                                                                  (&#x27;onehot_cat&#x27;,\n",
              "                                                                   OneHotEncoder(drop=&#x27;if_binary&#x27;,\n",
              "                                                                                 handle_unknown=&#x27;ignore&#x27;))]),\n",
              "                                                  [&#x27;prop_type&#x27;, &#x27;is_showcase&#x27;,\n",
              "                                                   &#x27;is_new_construction&#x27;,\n",
              "                                                   &#x27;has_leadform&#x27;,\n",
              "                                                   &#x27;is_cobroker&#x27;,\n",
              "                                                   &#x27;is_foreclosure&#x27;, &#x27;city&#x27;,\n",
              "                                                   &#x27;state&#x27;, &#x27;state_code&#x27;,\n",
              "                                                   &#x27;postal_code&#x27;, &#x27;county&#x27;,\n",
              "                                                   &#x27;nearest_water_feature&#x27;]),\n",
              "                                                 (&#x27;num_pipe&#x27;,\n",
              "                                                  Pipeline(steps=[(&#x27;impute_num&#x27;,\n",
              "                                                                   SimpleImputer()),\n",
              "                                                                  (&#x27;scale_num&#x27;,\n",
              "                                                                   StandardScaler())]),\n",
              "                                                  [&#x27;sqft_raw&#x27;, &#x27;beds&#x27;, &#x27;lat&#x27;,\n",
              "                                                   &#x27;lon&#x27;, &#x27;bath&#x27;,\n",
              "                                                   &#x27;lot_size_sqft&#x27;, &#x27;dom&#x27;,\n",
              "                                                   &#x27;drp&#x27;, &#x27;sold_year&#x27;,\n",
              "                                                   &#x27;sold_quarter&#x27;, &#x27;sold_month&#x27;,\n",
              "                                                   &#x27;sold_week&#x27;, &#x27;sold_day&#x27;,\n",
              "                                                   &#x27;dist_to_water_meters&#x27;])])),\n",
              "                (&#x27;mdl&#x27;, GradientBoostingRegressor())])</pre></div></div></div><div class=\"sk-serial\"><div class=\"sk-item sk-dashed-wrapped\"><div class=\"sk-label-container\"><div class=\"sk-label sk-toggleable\"><input class=\"sk-toggleable__control sk-hidden--visually\" id=\"8f87451c-32cb-4963-9bab-797073430e83\" type=\"checkbox\" ><label for=\"8f87451c-32cb-4963-9bab-797073430e83\" class=\"sk-toggleable__label sk-toggleable__label-arrow\">preproc: ColumnTransformer</label><div class=\"sk-toggleable__content\"><pre>ColumnTransformer(remainder=&#x27;passthrough&#x27;,\n",
              "                  transformers=[(&#x27;cat_pipe&#x27;,\n",
              "                                 Pipeline(steps=[(&#x27;cat_impute&#x27;,\n",
              "                                                  SimpleImputer(strategy=&#x27;most_frequent&#x27;)),\n",
              "                                                 (&#x27;onehot_cat&#x27;,\n",
              "                                                  OneHotEncoder(drop=&#x27;if_binary&#x27;,\n",
              "                                                                handle_unknown=&#x27;ignore&#x27;))]),\n",
              "                                 [&#x27;prop_type&#x27;, &#x27;is_showcase&#x27;,\n",
              "                                  &#x27;is_new_construction&#x27;, &#x27;has_leadform&#x27;,\n",
              "                                  &#x27;is_cobroker&#x27;, &#x27;is_foreclosure&#x27;, &#x27;city&#x27;,\n",
              "                                  &#x27;state&#x27;, &#x27;state_code&#x27;, &#x27;postal_code&#x27;,\n",
              "                                  &#x27;county&#x27;, &#x27;nearest_water_feature&#x27;]),\n",
              "                                (&#x27;num_pipe&#x27;,\n",
              "                                 Pipeline(steps=[(&#x27;impute_num&#x27;,\n",
              "                                                  SimpleImputer()),\n",
              "                                                 (&#x27;scale_num&#x27;,\n",
              "                                                  StandardScaler())]),\n",
              "                                 [&#x27;sqft_raw&#x27;, &#x27;beds&#x27;, &#x27;lat&#x27;, &#x27;lon&#x27;, &#x27;bath&#x27;,\n",
              "                                  &#x27;lot_size_sqft&#x27;, &#x27;dom&#x27;, &#x27;drp&#x27;, &#x27;sold_year&#x27;,\n",
              "                                  &#x27;sold_quarter&#x27;, &#x27;sold_month&#x27;, &#x27;sold_week&#x27;,\n",
              "                                  &#x27;sold_day&#x27;, &#x27;dist_to_water_meters&#x27;])])</pre></div></div></div><div class=\"sk-parallel\"><div class=\"sk-parallel-item\"><div class=\"sk-item\"><div class=\"sk-label-container\"><div class=\"sk-label sk-toggleable\"><input class=\"sk-toggleable__control sk-hidden--visually\" id=\"687c1b66-ada6-4296-ae83-5dc3c264744e\" type=\"checkbox\" ><label for=\"687c1b66-ada6-4296-ae83-5dc3c264744e\" class=\"sk-toggleable__label sk-toggleable__label-arrow\">cat_pipe</label><div class=\"sk-toggleable__content\"><pre>[&#x27;prop_type&#x27;, &#x27;is_showcase&#x27;, &#x27;is_new_construction&#x27;, &#x27;has_leadform&#x27;, &#x27;is_cobroker&#x27;, &#x27;is_foreclosure&#x27;, &#x27;city&#x27;, &#x27;state&#x27;, &#x27;state_code&#x27;, &#x27;postal_code&#x27;, &#x27;county&#x27;, &#x27;nearest_water_feature&#x27;]</pre></div></div></div><div class=\"sk-serial\"><div class=\"sk-item\"><div class=\"sk-serial\"><div class=\"sk-item\"><div class=\"sk-estimator sk-toggleable\"><input class=\"sk-toggleable__control sk-hidden--visually\" id=\"5470e12d-277b-4167-9024-b19de4680a33\" type=\"checkbox\" ><label for=\"5470e12d-277b-4167-9024-b19de4680a33\" class=\"sk-toggleable__label sk-toggleable__label-arrow\">SimpleImputer</label><div class=\"sk-toggleable__content\"><pre>SimpleImputer(strategy=&#x27;most_frequent&#x27;)</pre></div></div></div><div class=\"sk-item\"><div class=\"sk-estimator sk-toggleable\"><input class=\"sk-toggleable__control sk-hidden--visually\" id=\"c92e71fd-f00b-4b1e-bda4-60097f47a86e\" type=\"checkbox\" ><label for=\"c92e71fd-f00b-4b1e-bda4-60097f47a86e\" class=\"sk-toggleable__label sk-toggleable__label-arrow\">OneHotEncoder</label><div class=\"sk-toggleable__content\"><pre>OneHotEncoder(drop=&#x27;if_binary&#x27;, handle_unknown=&#x27;ignore&#x27;)</pre></div></div></div></div></div></div></div></div><div class=\"sk-parallel-item\"><div class=\"sk-item\"><div class=\"sk-label-container\"><div class=\"sk-label sk-toggleable\"><input class=\"sk-toggleable__control sk-hidden--visually\" id=\"8dbd1107-29cb-4dc4-bf75-3cdda5472221\" type=\"checkbox\" ><label for=\"8dbd1107-29cb-4dc4-bf75-3cdda5472221\" class=\"sk-toggleable__label sk-toggleable__label-arrow\">num_pipe</label><div class=\"sk-toggleable__content\"><pre>[&#x27;sqft_raw&#x27;, &#x27;beds&#x27;, &#x27;lat&#x27;, &#x27;lon&#x27;, &#x27;bath&#x27;, &#x27;lot_size_sqft&#x27;, &#x27;dom&#x27;, &#x27;drp&#x27;, &#x27;sold_year&#x27;, &#x27;sold_quarter&#x27;, &#x27;sold_month&#x27;, &#x27;sold_week&#x27;, &#x27;sold_day&#x27;, &#x27;dist_to_water_meters&#x27;]</pre></div></div></div><div class=\"sk-serial\"><div class=\"sk-item\"><div class=\"sk-serial\"><div class=\"sk-item\"><div class=\"sk-estimator sk-toggleable\"><input class=\"sk-toggleable__control sk-hidden--visually\" id=\"2ab213e1-a488-4e0b-9c76-a3102fdfca7d\" type=\"checkbox\" ><label for=\"2ab213e1-a488-4e0b-9c76-a3102fdfca7d\" class=\"sk-toggleable__label sk-toggleable__label-arrow\">SimpleImputer</label><div class=\"sk-toggleable__content\"><pre>SimpleImputer()</pre></div></div></div><div class=\"sk-item\"><div class=\"sk-estimator sk-toggleable\"><input class=\"sk-toggleable__control sk-hidden--visually\" id=\"ea3798a3-c194-4423-9534-bcbcdaf4d2e2\" type=\"checkbox\" ><label for=\"ea3798a3-c194-4423-9534-bcbcdaf4d2e2\" class=\"sk-toggleable__label sk-toggleable__label-arrow\">StandardScaler</label><div class=\"sk-toggleable__content\"><pre>StandardScaler()</pre></div></div></div></div></div></div></div></div><div class=\"sk-parallel-item\"><div class=\"sk-item\"><div class=\"sk-label-container\"><div class=\"sk-label sk-toggleable\"><input class=\"sk-toggleable__control sk-hidden--visually\" id=\"341b8fe1-392b-4d3f-a5a4-a4c1b13ba4ad\" type=\"checkbox\" ><label for=\"341b8fe1-392b-4d3f-a5a4-a4c1b13ba4ad\" class=\"sk-toggleable__label sk-toggleable__label-arrow\">remainder</label><div class=\"sk-toggleable__content\"><pre>[]</pre></div></div></div><div class=\"sk-serial\"><div class=\"sk-item\"><div class=\"sk-estimator sk-toggleable\"><input class=\"sk-toggleable__control sk-hidden--visually\" id=\"389c9e4e-76c4-42b7-8dc9-f9b0d89eea57\" type=\"checkbox\" ><label for=\"389c9e4e-76c4-42b7-8dc9-f9b0d89eea57\" class=\"sk-toggleable__label sk-toggleable__label-arrow\">passthrough</label><div class=\"sk-toggleable__content\"><pre>passthrough</pre></div></div></div></div></div></div></div></div><div class=\"sk-item\"><div class=\"sk-estimator sk-toggleable\"><input class=\"sk-toggleable__control sk-hidden--visually\" id=\"159cb736-7bd7-4650-a03a-049a57d1d24c\" type=\"checkbox\" ><label for=\"159cb736-7bd7-4650-a03a-049a57d1d24c\" class=\"sk-toggleable__label sk-toggleable__label-arrow\">GradientBoostingRegressor</label><div class=\"sk-toggleable__content\"><pre>GradientBoostingRegressor()</pre></div></div></div></div></div></div></div>"
            ]
          },
          "metadata": {}
        }
      ]
    },
    {
      "cell_type": "code",
      "source": [
        "grid_search.fit(X_train, y_train)"
      ],
      "metadata": {
        "colab": {
          "base_uri": "https://localhost:8080/"
        },
        "id": "Zbaope9vZ7YG",
        "outputId": "978b5694-1612-45e0-850c-cd770fec6365"
      },
      "execution_count": 65,
      "outputs": [
        {
          "output_type": "stream",
          "name": "stderr",
          "text": [
            "/usr/local/lib/python3.7/dist-packages/sklearn/preprocessing/_encoders.py:174: UserWarning: Found unknown categories in columns [10] during transform. These unknown categories will be encoded as all zeros\n",
            "  UserWarning,\n",
            "/usr/local/lib/python3.7/dist-packages/sklearn/preprocessing/_encoders.py:174: UserWarning: Found unknown categories in columns [9] during transform. These unknown categories will be encoded as all zeros\n",
            "  UserWarning,\n",
            "/usr/local/lib/python3.7/dist-packages/sklearn/preprocessing/_encoders.py:174: UserWarning: Found unknown categories in columns [9] during transform. These unknown categories will be encoded as all zeros\n",
            "  UserWarning,\n",
            "/usr/local/lib/python3.7/dist-packages/sklearn/preprocessing/_encoders.py:174: UserWarning: Found unknown categories in columns [10] during transform. These unknown categories will be encoded as all zeros\n",
            "  UserWarning,\n",
            "/usr/local/lib/python3.7/dist-packages/sklearn/preprocessing/_encoders.py:174: UserWarning: Found unknown categories in columns [9] during transform. These unknown categories will be encoded as all zeros\n",
            "  UserWarning,\n",
            "/usr/local/lib/python3.7/dist-packages/sklearn/preprocessing/_encoders.py:174: UserWarning: Found unknown categories in columns [9] during transform. These unknown categories will be encoded as all zeros\n",
            "  UserWarning,\n",
            "/usr/local/lib/python3.7/dist-packages/sklearn/preprocessing/_encoders.py:174: UserWarning: Found unknown categories in columns [10] during transform. These unknown categories will be encoded as all zeros\n",
            "  UserWarning,\n",
            "/usr/local/lib/python3.7/dist-packages/sklearn/preprocessing/_encoders.py:174: UserWarning: Found unknown categories in columns [9] during transform. These unknown categories will be encoded as all zeros\n",
            "  UserWarning,\n",
            "/usr/local/lib/python3.7/dist-packages/sklearn/preprocessing/_encoders.py:174: UserWarning: Found unknown categories in columns [9] during transform. These unknown categories will be encoded as all zeros\n",
            "  UserWarning,\n",
            "/usr/local/lib/python3.7/dist-packages/sklearn/preprocessing/_encoders.py:174: UserWarning: Found unknown categories in columns [10] during transform. These unknown categories will be encoded as all zeros\n",
            "  UserWarning,\n",
            "/usr/local/lib/python3.7/dist-packages/sklearn/preprocessing/_encoders.py:174: UserWarning: Found unknown categories in columns [9] during transform. These unknown categories will be encoded as all zeros\n",
            "  UserWarning,\n",
            "/usr/local/lib/python3.7/dist-packages/sklearn/preprocessing/_encoders.py:174: UserWarning: Found unknown categories in columns [9] during transform. These unknown categories will be encoded as all zeros\n",
            "  UserWarning,\n",
            "/usr/local/lib/python3.7/dist-packages/sklearn/preprocessing/_encoders.py:174: UserWarning: Found unknown categories in columns [10] during transform. These unknown categories will be encoded as all zeros\n",
            "  UserWarning,\n",
            "/usr/local/lib/python3.7/dist-packages/sklearn/preprocessing/_encoders.py:174: UserWarning: Found unknown categories in columns [9] during transform. These unknown categories will be encoded as all zeros\n",
            "  UserWarning,\n",
            "/usr/local/lib/python3.7/dist-packages/sklearn/preprocessing/_encoders.py:174: UserWarning: Found unknown categories in columns [9] during transform. These unknown categories will be encoded as all zeros\n",
            "  UserWarning,\n",
            "/usr/local/lib/python3.7/dist-packages/sklearn/preprocessing/_encoders.py:174: UserWarning: Found unknown categories in columns [10] during transform. These unknown categories will be encoded as all zeros\n",
            "  UserWarning,\n",
            "/usr/local/lib/python3.7/dist-packages/sklearn/preprocessing/_encoders.py:174: UserWarning: Found unknown categories in columns [9] during transform. These unknown categories will be encoded as all zeros\n",
            "  UserWarning,\n",
            "/usr/local/lib/python3.7/dist-packages/sklearn/preprocessing/_encoders.py:174: UserWarning: Found unknown categories in columns [9] during transform. These unknown categories will be encoded as all zeros\n",
            "  UserWarning,\n",
            "/usr/local/lib/python3.7/dist-packages/sklearn/preprocessing/_encoders.py:174: UserWarning: Found unknown categories in columns [10] during transform. These unknown categories will be encoded as all zeros\n",
            "  UserWarning,\n",
            "/usr/local/lib/python3.7/dist-packages/sklearn/preprocessing/_encoders.py:174: UserWarning: Found unknown categories in columns [9] during transform. These unknown categories will be encoded as all zeros\n",
            "  UserWarning,\n",
            "/usr/local/lib/python3.7/dist-packages/sklearn/preprocessing/_encoders.py:174: UserWarning: Found unknown categories in columns [9] during transform. These unknown categories will be encoded as all zeros\n",
            "  UserWarning,\n",
            "/usr/local/lib/python3.7/dist-packages/sklearn/preprocessing/_encoders.py:174: UserWarning: Found unknown categories in columns [10] during transform. These unknown categories will be encoded as all zeros\n",
            "  UserWarning,\n",
            "/usr/local/lib/python3.7/dist-packages/sklearn/preprocessing/_encoders.py:174: UserWarning: Found unknown categories in columns [9] during transform. These unknown categories will be encoded as all zeros\n",
            "  UserWarning,\n",
            "/usr/local/lib/python3.7/dist-packages/sklearn/preprocessing/_encoders.py:174: UserWarning: Found unknown categories in columns [9] during transform. These unknown categories will be encoded as all zeros\n",
            "  UserWarning,\n",
            "/usr/local/lib/python3.7/dist-packages/sklearn/preprocessing/_encoders.py:174: UserWarning: Found unknown categories in columns [10] during transform. These unknown categories will be encoded as all zeros\n",
            "  UserWarning,\n",
            "/usr/local/lib/python3.7/dist-packages/sklearn/preprocessing/_encoders.py:174: UserWarning: Found unknown categories in columns [9] during transform. These unknown categories will be encoded as all zeros\n",
            "  UserWarning,\n",
            "/usr/local/lib/python3.7/dist-packages/sklearn/preprocessing/_encoders.py:174: UserWarning: Found unknown categories in columns [9] during transform. These unknown categories will be encoded as all zeros\n",
            "  UserWarning,\n",
            "/usr/local/lib/python3.7/dist-packages/sklearn/preprocessing/_encoders.py:174: UserWarning: Found unknown categories in columns [10] during transform. These unknown categories will be encoded as all zeros\n",
            "  UserWarning,\n",
            "/usr/local/lib/python3.7/dist-packages/sklearn/preprocessing/_encoders.py:174: UserWarning: Found unknown categories in columns [9] during transform. These unknown categories will be encoded as all zeros\n",
            "  UserWarning,\n",
            "/usr/local/lib/python3.7/dist-packages/sklearn/preprocessing/_encoders.py:174: UserWarning: Found unknown categories in columns [9] during transform. These unknown categories will be encoded as all zeros\n",
            "  UserWarning,\n",
            "/usr/local/lib/python3.7/dist-packages/sklearn/preprocessing/_encoders.py:174: UserWarning: Found unknown categories in columns [10] during transform. These unknown categories will be encoded as all zeros\n",
            "  UserWarning,\n",
            "/usr/local/lib/python3.7/dist-packages/sklearn/preprocessing/_encoders.py:174: UserWarning: Found unknown categories in columns [9] during transform. These unknown categories will be encoded as all zeros\n",
            "  UserWarning,\n",
            "/usr/local/lib/python3.7/dist-packages/sklearn/preprocessing/_encoders.py:174: UserWarning: Found unknown categories in columns [9] during transform. These unknown categories will be encoded as all zeros\n",
            "  UserWarning,\n",
            "/usr/local/lib/python3.7/dist-packages/sklearn/preprocessing/_encoders.py:174: UserWarning: Found unknown categories in columns [10] during transform. These unknown categories will be encoded as all zeros\n",
            "  UserWarning,\n",
            "/usr/local/lib/python3.7/dist-packages/sklearn/preprocessing/_encoders.py:174: UserWarning: Found unknown categories in columns [9] during transform. These unknown categories will be encoded as all zeros\n",
            "  UserWarning,\n",
            "/usr/local/lib/python3.7/dist-packages/sklearn/preprocessing/_encoders.py:174: UserWarning: Found unknown categories in columns [9] during transform. These unknown categories will be encoded as all zeros\n",
            "  UserWarning,\n"
          ]
        },
        {
          "output_type": "execute_result",
          "data": {
            "text/plain": [
              "GridSearchCV(cv=5,\n",
              "             estimator=Pipeline(steps=[('preproc',\n",
              "                                        ColumnTransformer(remainder='passthrough',\n",
              "                                                          transformers=[('cat_pipe',\n",
              "                                                                         Pipeline(steps=[('cat_impute',\n",
              "                                                                                          SimpleImputer(strategy='most_frequent')),\n",
              "                                                                                         ('onehot_cat',\n",
              "                                                                                          OneHotEncoder(drop='if_binary',\n",
              "                                                                                                        handle_unknown='ignore'))]),\n",
              "                                                                         ['prop_type',\n",
              "                                                                          'is_showcase',\n",
              "                                                                          'is_new_construction',\n",
              "                                                                          'has_leadform',\n",
              "                                                                          'is_cobroker',\n",
              "                                                                          'is_f...\n",
              "                                                                                          SimpleImputer()),\n",
              "                                                                                         ('scale_num',\n",
              "                                                                                          StandardScaler())]),\n",
              "                                                                         ['sqft_raw',\n",
              "                                                                          'beds',\n",
              "                                                                          'lat',\n",
              "                                                                          'lon',\n",
              "                                                                          'bath',\n",
              "                                                                          'lot_size_sqft',\n",
              "                                                                          'dom',\n",
              "                                                                          'drp',\n",
              "                                                                          'sold_year',\n",
              "                                                                          'sold_quarter',\n",
              "                                                                          'sold_month',\n",
              "                                                                          'sold_week',\n",
              "                                                                          'sold_day',\n",
              "                                                                          'dist_to_water_meters'])])),\n",
              "                                       ('mdl', GradientBoostingRegressor())]),\n",
              "             param_grid={'mdl__learning_rate': [0.3, 0.5, 1.0],\n",
              "                         'mdl__n_estimators': [100, 200, 300, 500]},\n",
              "             return_train_score=True)"
            ]
          },
          "metadata": {},
          "execution_count": 65
        }
      ]
    },
    {
      "cell_type": "code",
      "source": [
        "grid_search.best_estimator_"
      ],
      "metadata": {
        "colab": {
          "base_uri": "https://localhost:8080/"
        },
        "id": "9A1l-93MX4Iw",
        "outputId": "0dae1229-a9bd-4b29-a943-443c5ee5f51b"
      },
      "execution_count": 66,
      "outputs": [
        {
          "output_type": "execute_result",
          "data": {
            "text/plain": [
              "Pipeline(steps=[('preproc',\n",
              "                 ColumnTransformer(remainder='passthrough',\n",
              "                                   transformers=[('cat_pipe',\n",
              "                                                  Pipeline(steps=[('cat_impute',\n",
              "                                                                   SimpleImputer(strategy='most_frequent')),\n",
              "                                                                  ('onehot_cat',\n",
              "                                                                   OneHotEncoder(drop='if_binary',\n",
              "                                                                                 handle_unknown='ignore'))]),\n",
              "                                                  ['prop_type', 'is_showcase',\n",
              "                                                   'is_new_construction',\n",
              "                                                   'has_leadform',\n",
              "                                                   'is_cobroker',\n",
              "                                                   'is_foreclosure', 'city',\n",
              "                                                   'state', '...\n",
              "                                                   'postal_code', 'county',\n",
              "                                                   'nearest_water_feature']),\n",
              "                                                 ('num_pipe',\n",
              "                                                  Pipeline(steps=[('impute_num',\n",
              "                                                                   SimpleImputer()),\n",
              "                                                                  ('scale_num',\n",
              "                                                                   StandardScaler())]),\n",
              "                                                  ['sqft_raw', 'beds', 'lat',\n",
              "                                                   'lon', 'bath',\n",
              "                                                   'lot_size_sqft', 'dom',\n",
              "                                                   'drp', 'sold_year',\n",
              "                                                   'sold_quarter', 'sold_month',\n",
              "                                                   'sold_week', 'sold_day',\n",
              "                                                   'dist_to_water_meters'])])),\n",
              "                ('mdl',\n",
              "                 GradientBoostingRegressor(learning_rate=0.3,\n",
              "                                           n_estimators=500))])"
            ]
          },
          "metadata": {},
          "execution_count": 66
        }
      ]
    },
    {
      "cell_type": "markdown",
      "source": [
        "### Performance"
      ],
      "metadata": {
        "id": "F60Fnrm4Z8er"
      }
    },
    {
      "cell_type": "code",
      "source": [
        "rmse = np.sqrt(mean_squared_error(y_test.reset_index(drop=True), grid_search.best_estimator_.predict(X_test)))\n",
        "mape = mean_absolute_percentage_error(y_test.reset_index(drop=True), grid_search.best_estimator_.predict(X_test))\n",
        "r2 = r2_score(y_test.reset_index(drop=True), grid_search.best_estimator_.predict(X_test))\n",
        "\n",
        "print(f'R2: {r2}')\n",
        "print(f'RMSE: {rmse}')\n",
        "print(f'MAPE: {mape}')"
      ],
      "metadata": {
        "colab": {
          "base_uri": "https://localhost:8080/"
        },
        "id": "Lvvfrji4Xuto",
        "outputId": "f20f5516-e339-4634-b331-2ffed5c38485"
      },
      "execution_count": 67,
      "outputs": [
        {
          "output_type": "stream",
          "name": "stdout",
          "text": [
            "R2: 0.7148021563811113\n",
            "RMSE: 225891.13601564406\n",
            "MAPE: 0.45884098463405043\n"
          ]
        },
        {
          "output_type": "stream",
          "name": "stderr",
          "text": [
            "/usr/local/lib/python3.7/dist-packages/sklearn/preprocessing/_encoders.py:174: UserWarning: Found unknown categories in columns [11] during transform. These unknown categories will be encoded as all zeros\n",
            "  UserWarning,\n",
            "/usr/local/lib/python3.7/dist-packages/sklearn/preprocessing/_encoders.py:174: UserWarning: Found unknown categories in columns [11] during transform. These unknown categories will be encoded as all zeros\n",
            "  UserWarning,\n",
            "/usr/local/lib/python3.7/dist-packages/sklearn/preprocessing/_encoders.py:174: UserWarning: Found unknown categories in columns [11] during transform. These unknown categories will be encoded as all zeros\n",
            "  UserWarning,\n"
          ]
        }
      ]
    },
    {
      "cell_type": "code",
      "source": [
        "if show_importances:\n",
        "    scoring = ['r2', \n",
        "              'neg_root_mean_squared_error',\n",
        "              'neg_mean_absolute_percentage_error']\n",
        "\n",
        "    multi_r = permutation_importance(grid_search.best_estimator_, \n",
        "                              X_test, \n",
        "                              y_test,\n",
        "                              n_repeats=30,\n",
        "                              random_state=0, \n",
        "                              scoring=scoring)"
      ],
      "metadata": {
        "id": "4lGsHM9XYPxw"
      },
      "execution_count": null,
      "outputs": []
    },
    {
      "cell_type": "code",
      "source": [
        "if show_importances:\n",
        "    feature_names = pd.Series(X_test.columns)\n",
        "\n",
        "    cat_names = list(grid_search.best_estimator_.named_steps['preproc'].transformers_[0][1].named_steps['onehot_cat'].get_feature_names_out())\n",
        "    num_names = list(grid_search.best_estimator_.named_steps['preproc'].transformers_[1][2])\n",
        "\n",
        "    # https://scikit-learn.org/stable/modules/permutation_importance.html#permutation-importance\n",
        "    # fe is measured using the values from the scoring variable\n",
        "    fe_vals = []\n",
        "\n",
        "    # ordered from largest to smallest FE\n",
        "    for metric in multi_r:\n",
        "      r = multi_r[metric]\n",
        "      for i in r.importances_mean.argsort()[::-1]:\n",
        "          if r.importances_mean[i] - 2 * r.importances_std[i] > 0:\n",
        "              fe_vals.append((metric, feature_names[i], r.importances_mean[i], r.importances_std[i]))\n",
        "\n",
        "\n",
        "    coef_info = pd.DataFrame(fe_vals, columns=['metric', 'feat_names', 'vip', 'sd'])\n",
        "\n",
        "    coef_info = coef_info.assign(coef_mag = abs(coef_info['vip']),\n",
        "                                coef_sign = np.sign(coef_info['vip']))"
      ],
      "metadata": {
        "id": "ES5ia91CYP1Q"
      },
      "execution_count": null,
      "outputs": []
    },
    {
      "cell_type": "code",
      "source": [
        "if show_importances:\n",
        "    # The permutation feature importance is the decrease in a model score when a single feature value is randomly shuffled\n",
        "\n",
        "    fig, ax = plt.subplots(2,2)\n",
        "\n",
        "    sns.barplot(\n",
        "        data=coef_info[ coef_info['metric'] == 'r2'], \n",
        "        x=\"vip\", \n",
        "        y='feat_names',\n",
        "        hue='coef_sign', \n",
        "        ax=ax[0,0]\n",
        "    ).set_title(f'R2: {r2:.4f}')\n",
        "\n",
        "    sns.barplot(\n",
        "        data=coef_info[ coef_info['metric'] == 'neg_root_mean_squared_error'], \n",
        "        x=\"vip\", \n",
        "        y='feat_names',\n",
        "        hue=\"coef_sign\", \n",
        "        ax=ax[0,1]\n",
        "    ).set_title(f'RMSE (Current Model: {rmse:.0f})')\n",
        "\n",
        "    sns.barplot(\n",
        "        data=coef_info[ coef_info['metric'] == 'neg_mean_absolute_percentage_error'], \n",
        "        x=\"vip\", \n",
        "        y='feat_names',\n",
        "        hue=\"coef_sign\", \n",
        "        ax=ax[1,0]\n",
        "    ).set_title(f'MAPE (Current Model: {mape:.4f})')\n",
        "\n",
        "    fig.set_size_inches(20, 14)\n",
        "    fig.show()"
      ],
      "metadata": {
        "colab": {
          "base_uri": "https://localhost:8080/",
          "height": 1000
        },
        "id": "56iHyOceYibU",
        "outputId": "9fd534c8-e381-47ae-cfea-806ccce320ab"
      },
      "execution_count": null,
      "outputs": [
        {
          "output_type": "display_data",
          "data": {
            "text/plain": [
              "<Figure size 1440x1008 with 4 Axes>"
            ],
            "image/png": "[encoded data removed]"
          },
          "metadata": {}
        }
      ]
    },
    {
      "cell_type": "markdown",
      "source": [
        "## Questions\n",
        "\n",
        "**Are the enough data points to perform a prediction in the geographical area of interest?**\n",
        "\n",
        "*Yes, we have enough data to begin, and can collect more as needed.*\n",
        "\n",
        "**What data cleaning tasks are necessary?**\n",
        "\n",
        "*Data conversions, replacing NANs and strings, and strategically dropping some categories/columns.  Dropping foward looking values is important to avoiding leakage.*\n",
        "\n",
        "**Is missing data a problem for any particular columns?**\n",
        "\n",
        "*Yes, key missing values for sqft and bathrooms pose a risk.  Will need to be cautious with filling those.*\n",
        "\n",
        "**Do any basic patterns emerge that increase/decrease trust in the dataset?**\n",
        "\n",
        "*None that cannot be handled with data cleaning.*"
      ],
      "metadata": {
        "id": "KI95i9x6ypdS"
      }
    }
  ]
}